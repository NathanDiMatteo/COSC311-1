{
 "cells": [
  {
   "cell_type": "code",
   "execution_count": 1,
   "id": "3067c0e3-023a-4edc-a9c8-e5658fad8f52",
   "metadata": {},
   "outputs": [],
   "source": [
    "#import stuff\n",
    "import pandas as p\n",
    "import numpy as n\n",
    "import seaborn as s\n",
    "from matplotlib import pyplot"
   ]
  },
  {
   "cell_type": "code",
   "execution_count": null,
   "id": "65838cb3-6910-45d9-bd3f-505da5409be6",
   "metadata": {},
   "outputs": [],
   "source": []
  }
 ],
 "metadata": {
  "kernelspec": {
   "display_name": "Python 3 (ipykernel)",
   "language": "python",
   "name": "python3"
  },
  "language_info": {
   "codemirror_mode": {
    "name": "ipython",
    "version": 3
   },
   "file_extension": ".py",
   "mimetype": "text/x-python",
   "name": "python",
   "nbconvert_exporter": "python",
   "pygments_lexer": "ipython3",
   "version": "3.8.8"
  }
 },
 "nbformat": 4,
 "nbformat_minor": 5
}
