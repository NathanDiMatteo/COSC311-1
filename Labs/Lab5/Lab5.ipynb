{
 "cells": [
  {
   "cell_type": "code",
   "execution_count": 209,
   "id": "3067c0e3-023a-4edc-a9c8-e5658fad8f52",
   "metadata": {},
   "outputs": [],
   "source": [
    "#import stuff\n",
    "import pandas as pd\n",
    "import numpy as np\n",
    "import numpy.linalg as la\n",
    "import seaborn as sb\n",
    "from collections import Counter as c\n",
    "from matplotlib import pyplot as plt\n",
    "import math\n",
    "from math import floor as f\n",
    "from math import ceil as ce"
   ]
  },
  {
   "cell_type": "code",
   "execution_count": 160,
   "id": "65838cb3-6910-45d9-bd3f-505da5409be6",
   "metadata": {},
   "outputs": [],
   "source": [
    "#implement the KNN class\n",
    "class KNN:\n",
    "    k = 0\n",
    "    data = None\n",
    "    labels = None\n",
    "    \n",
    "    def __init__(self, k):\n",
    "        self.k = k\n",
    "        \n",
    "    def train(self, vals, labs):\n",
    "        self.data = vals\n",
    "        self.labels = labs\n",
    "    \n",
    "    def predict(self, X):\n",
    "        \n",
    "        #make sure columns equal\n",
    "        #assert(self.data.shape[1] == (len(X[i]) for i in X)) # will come back to this\n",
    "        assert(self.data.shape[1] == len(X[0]))\n",
    "        \n",
    "        dist = [\n",
    "            (labels[i], la.norm(X-data[i])) for i in range(len(data))\n",
    "        ]\n",
    "        \n",
    "        k_nearest = sorted(dist, key = lambda X: X[1])\n",
    "        k_nearest = k_nearest[:self.k]\n",
    "\n",
    "        f = c([p[0] for p in k_nearest])\n",
    "        return f"
   ]
  },
  {
   "cell_type": "code",
   "execution_count": 114,
   "id": "24c887e6-696e-42d7-9062-7b6ac63b04ed",
   "metadata": {},
   "outputs": [],
   "source": [
    "#implement the k-mean class\n",
    "class k_mean:\n",
    "    k = 0\n",
    "    def __init__(self, k):\n",
    "        self.k = 3"
   ]
  },
  {
   "cell_type": "code",
   "execution_count": 193,
   "id": "f430837d-7c4d-4237-a99a-f302c50ecf14",
   "metadata": {},
   "outputs": [
    {
     "name": "stdout",
     "output_type": "stream",
     "text": [
      "The counts for [18, 2.3] are:\n",
      "Blue ~> 2\n",
      "Red ~> 1\n",
      "The counts for [5, 7.5] are:\n",
      "Blue ~> 0\n",
      "Red ~> 3\n",
      "The counts for [6.3, 4.2] are:\n",
      "Blue ~> 2\n",
      "Red ~> 1\n"
     ]
    }
   ],
   "source": [
    "#2 implementation\n",
    "\n",
    "#create data and class\n",
    "data = ((np.random.random(size = (100,2))* 9) + 1).round(3)\n",
    "labels = np.random.choice(['red', 'blue'], 100, p = [0.5, 0.5])\n",
    "\n",
    "#call class/train, this works for all odd k values\n",
    "x = KNN(3)\n",
    "x.train(data,labels)\n",
    "\n",
    "#testing section\n",
    "point1 = [18, 2.3]\n",
    "point2 = [5, 7.5]\n",
    "point3 = [6.3, 4.2]\n",
    "\n",
    "count = x.predict([point1])\n",
    "red = count['red']\n",
    "blue = count['blue']\n",
    "print(f'The counts for {point1} are:\\nBlue ~> {blue}\\nRed ~> {red}')\n",
    "\n",
    "count = x.predict([point2])\n",
    "red = count['red']\n",
    "blue = count['blue']\n",
    "print(f'The counts for {point2} are:\\nBlue ~> {blue}\\nRed ~> {red}')\n",
    "\n",
    "count = x.predict([point3])\n",
    "red = count['red']\n",
    "blue = count['blue']\n",
    "print(f'The counts for {point3} are:\\nBlue ~> {blue}\\nRed ~> {red}')"
   ]
  },
  {
   "cell_type": "code",
   "execution_count": 251,
   "id": "dd0c4d0c-f0bc-472d-ad9d-71dec6b1ed8e",
   "metadata": {},
   "outputs": [],
   "source": [
    "#3 implementation\n",
    "def split(data, labels, p):\n",
    "    \n",
    "    #make sure 0 <= p <= 1\n",
    "    assert(p <= 1 and p >= 0)\n",
    "    \n",
    "    #get sizes\n",
    "    n = len(data)\n",
    "    size1 = n * p\n",
    "    size2 = n * (1-p)\n",
    "    \n",
    "    if (size1 > size2):\n",
    "        size1 = ce(size1)\n",
    "    else:\n",
    "        size1 = f(size1)\n",
    "    \n",
    "    \n",
    "    #get data into one list        \n",
    "    dist = [\n",
    "    \n",
    "        (labels[i], data[i]) for i in range(len(data))\n",
    "       \n",
    "    ]\n",
    "    \n",
    "    #shuffle data\n",
    "    np.random.shuffle(dist)\n",
    "    \n",
    "    #get subsets and return them\n",
    "    subset1 = dist[:size1]\n",
    "    subset2 = dist[size1:]\n",
    "    \n",
    "    return subset1, subset2"
   ]
  },
  {
   "cell_type": "code",
   "execution_count": 252,
   "id": "e2260275-d0f5-4593-8540-672522c8e634",
   "metadata": {},
   "outputs": [],
   "source": [
    "#test split function\n",
    "sub1, sub2 = split(x.data, x.labels, 0.75)\n",
    "#print(sub1)\n",
    "#print(\"\\n\\n\\n\")\n",
    "#print(sub2)"
   ]
  },
  {
   "cell_type": "code",
   "execution_count": null,
   "id": "fdd72edf-c443-459b-b3a3-9fe22f913ecd",
   "metadata": {},
   "outputs": [],
   "source": [
    "#4 testing"
   ]
  },
  {
   "cell_type": "code",
   "execution_count": null,
   "id": "5eda265c-f52f-43fe-89ab-bd50a23ca698",
   "metadata": {},
   "outputs": [],
   "source": []
  }
 ],
 "metadata": {
  "kernelspec": {
   "display_name": "Python 3 (ipykernel)",
   "language": "python",
   "name": "python3"
  },
  "language_info": {
   "codemirror_mode": {
    "name": "ipython",
    "version": 3
   },
   "file_extension": ".py",
   "mimetype": "text/x-python",
   "name": "python",
   "nbconvert_exporter": "python",
   "pygments_lexer": "ipython3",
   "version": "3.8.8"
  }
 },
 "nbformat": 4,
 "nbformat_minor": 5
}
