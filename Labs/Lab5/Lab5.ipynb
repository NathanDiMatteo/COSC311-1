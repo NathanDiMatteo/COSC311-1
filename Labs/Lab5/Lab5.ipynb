{
 "cells": [
  {
   "cell_type": "code",
   "execution_count": 1,
   "id": "3067c0e3-023a-4edc-a9c8-e5658fad8f52",
   "metadata": {},
   "outputs": [],
   "source": [
    "#import stuff\n",
    "import pandas as pd\n",
    "import numpy as np\n",
    "import seaborn as sb\n",
    "from matplotlib import pyplot as plt\n",
    "import math\n"
   ]
  },
  {
   "cell_type": "code",
   "execution_count": 150,
   "id": "65838cb3-6910-45d9-bd3f-505da5409be6",
   "metadata": {},
   "outputs": [],
   "source": [
    "#implement the KNN class\n",
    "class KNN:\n",
    "    k = 0\n",
    "    data = None\n",
    "    labels = None\n",
    "    \n",
    "    def __init__(self, k):\n",
    "        self.k = k\n",
    "        \n",
    "    def train(self, vals1, labs):\n",
    "        self.data = vals1\n",
    "        self.labels = labs\n",
    "        \n",
    "    \n",
    "    def predict(self, X):\n",
    "        \n",
    "        # make sure columns equal\n",
    "        #assert(self.data.shape[1] == (len(X[i]) for i in X)) # will come back to this\n",
    "        assert(self.data.shape[1] == len(X[0]))\n",
    "        \n",
    "    \n",
    "    def ED():\n",
    "        pass\n",
    "    "
   ]
  },
  {
   "cell_type": "code",
   "execution_count": 135,
   "id": "24c887e6-696e-42d7-9062-7b6ac63b04ed",
   "metadata": {},
   "outputs": [],
   "source": [
    "# implement the k-mean class\n",
    "class k_mean:\n",
    "    k = 0\n",
    "    def __init__(self, k):\n",
    "        self.k = 3"
   ]
  },
  {
   "cell_type": "code",
   "execution_count": 153,
   "id": "f430837d-7c4d-4237-a99a-f302c50ecf14",
   "metadata": {},
   "outputs": [],
   "source": [
    "#create data and class\n",
    "\n",
    "data = pd.DataFrame()\n",
    "data['label'] = np.random.choice(['red', 'blue'], 100, p = [0.5, 0.5])\n",
    "data['x-val'] = (10 * np.random.random_sample(100))\n",
    "data['y-val'] = (10 * np.random.random_sample(100))\n",
    "\n",
    "X = data[['x-val', 'y-val']].values\n",
    "Y[Y == 'red'] = 0\n",
    "Y[Y!= 0] = 1\n",
    "\n",
    "Y.astype('float64')\n",
    "\n",
    "# call class\n",
    "x = KNN(3)\n",
    "x.train(X,Y)\n",
    "\n",
    "x.predict([[7.5, 2.3], [7.6, 2.3]])"
   ]
  },
  {
   "cell_type": "code",
   "execution_count": null,
   "id": "dd0c4d0c-f0bc-472d-ad9d-71dec6b1ed8e",
   "metadata": {},
   "outputs": [],
   "source": []
  }
 ],
 "metadata": {
  "kernelspec": {
   "display_name": "Python 3 (ipykernel)",
   "language": "python",
   "name": "python3"
  },
  "language_info": {
   "codemirror_mode": {
    "name": "ipython",
    "version": 3
   },
   "file_extension": ".py",
   "mimetype": "text/x-python",
   "name": "python",
   "nbconvert_exporter": "python",
   "pygments_lexer": "ipython3",
   "version": "3.8.8"
  }
 },
 "nbformat": 4,
 "nbformat_minor": 5
}
