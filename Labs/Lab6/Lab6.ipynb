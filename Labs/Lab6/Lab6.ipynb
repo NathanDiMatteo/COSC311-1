{
 "cells": [
  {
   "cell_type": "code",
   "execution_count": 2,
   "id": "37bb046c-da10-427d-9351-96799cfabba8",
   "metadata": {},
   "outputs": [],
   "source": [
    "#import stuff\n",
    "import pandas as pd\n",
    "import numpy as np\n",
    "import seaborn as s\n",
    "from matplotlib import pyplot as plt\n",
    "import shap as sp\n",
    "from sklearn.neural_network import MLPClassifier as nn"
   ]
  },
  {
   "cell_type": "code",
   "execution_count": 4,
   "id": "c8b7dd04-4d0d-4b16-a477-f446a7f5d5e2",
   "metadata": {},
   "outputs": [],
   "source": [
    "# get data set\n",
    "iris = pd.read_csv('../../Notes/data/iris.data', header=None, \n",
    "                   names=['sepal_length', 'sepal_width', 'petal_length', 'petal_width', 'class'])"
   ]
  },
  {
   "cell_type": "code",
   "execution_count": null,
   "id": "3bee6146-d93a-42ea-a7ce-9c0a0eeaf7f4",
   "metadata": {},
   "outputs": [],
   "source": []
  }
 ],
 "metadata": {
  "kernelspec": {
   "display_name": "Python 3 (ipykernel)",
   "language": "python",
   "name": "python3"
  },
  "language_info": {
   "codemirror_mode": {
    "name": "ipython",
    "version": 3
   },
   "file_extension": ".py",
   "mimetype": "text/x-python",
   "name": "python",
   "nbconvert_exporter": "python",
   "pygments_lexer": "ipython3",
   "version": "3.8.8"
  }
 },
 "nbformat": 4,
 "nbformat_minor": 5
}
