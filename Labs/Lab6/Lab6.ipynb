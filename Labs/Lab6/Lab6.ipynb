{
 "cells": [
  {
   "cell_type": "code",
   "execution_count": 1,
   "id": "37bb046c-da10-427d-9351-96799cfabba8",
   "metadata": {},
   "outputs": [],
   "source": [
    "#import stuff\n",
    "import pandas as pd\n",
    "import numpy as np\n",
    "import seaborn as s\n",
    "from matplotlib import pyplot as plt\n",
    "import shap as sp\n",
    "from sklearn.neural_network import MLPClassifier as nn"
   ]
  },
  {
   "cell_type": "code",
   "execution_count": 2,
   "id": "c8b7dd04-4d0d-4b16-a477-f446a7f5d5e2",
   "metadata": {},
   "outputs": [],
   "source": [
    "# get data set\n",
    "iris = pd.read_csv('../../Notes/data/iris.data', header=None, \n",
    "                   names=['sepal_length', 'sepal_width', 'petal_length', 'petal_width', 'class'])"
   ]
  },
  {
   "cell_type": "code",
   "execution_count": 60,
   "id": "3bee6146-d93a-42ea-a7ce-9c0a0eeaf7f4",
   "metadata": {},
   "outputs": [
    {
     "data": {
      "text/plain": [
       "MLPClassifier(hidden_layer_sizes=(10, 4), random_state=1, solver='lbfgs')"
      ]
     },
     "execution_count": 60,
     "metadata": {},
     "output_type": "execute_result"
    }
   ],
   "source": [
    "# train the set using a Neural Network\n",
    "mlp = nn(solver = 'lbfgs', alpha = 0.0001, hidden_layer_sizes = (10, 4), random_state = 1)\n",
    "y = [0,1]\n",
    "arr = [iris['sepal_length'], iris['sepal_width']]\n",
    "mlp.fit(arr, y)"
   ]
  },
  {
   "cell_type": "code",
   "execution_count": 54,
   "id": "58a91413-1412-44b6-9334-c70ba5ffb283",
   "metadata": {},
   "outputs": [
    {
     "data": {
      "text/plain": [
       "array([1, 1])"
      ]
     },
     "execution_count": 54,
     "metadata": {},
     "output_type": "execute_result"
    }
   ],
   "source": [
    "# predict random values\n",
    "mlp.predict([iris['petal_length'], iris['petal_width']])"
   ]
  },
  {
   "cell_type": "code",
   "execution_count": 55,
   "id": "a98db3f9-b5df-42f2-b623-1e713aa5d8c7",
   "metadata": {},
   "outputs": [
    {
     "data": {
      "text/plain": [
       "[(150, 10), (10, 4), (4, 1)]"
      ]
     },
     "execution_count": 55,
     "metadata": {},
     "output_type": "execute_result"
    }
   ],
   "source": [
    "# find weight matrices\n",
    "[coef.shape for coef in mlp.coefs_]"
   ]
  },
  {
   "cell_type": "code",
   "execution_count": 56,
   "id": "d02a33ff-9c19-4032-a0ff-b5f53ae79684",
   "metadata": {},
   "outputs": [
    {
     "data": {
      "text/plain": [
       "array([[0.49998112, 0.50001888],\n",
       "       [0.49998112, 0.50001888]])"
      ]
     },
     "execution_count": 56,
     "metadata": {},
     "output_type": "execute_result"
    }
   ],
   "source": [
    "mlp.predict_proba([iris['petal_length'], iris['petal_width']])"
   ]
  },
  {
   "cell_type": "code",
   "execution_count": null,
   "id": "2d4c7fec-9791-43eb-b6f4-25d1fff1e0d6",
   "metadata": {},
   "outputs": [],
   "source": []
  }
 ],
 "metadata": {
  "kernelspec": {
   "display_name": "Python 3 (ipykernel)",
   "language": "python",
   "name": "python3"
  },
  "language_info": {
   "codemirror_mode": {
    "name": "ipython",
    "version": 3
   },
   "file_extension": ".py",
   "mimetype": "text/x-python",
   "name": "python",
   "nbconvert_exporter": "python",
   "pygments_lexer": "ipython3",
   "version": "3.8.8"
  }
 },
 "nbformat": 4,
 "nbformat_minor": 5
}
