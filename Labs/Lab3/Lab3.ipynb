{
 "cells": [
  {
   "cell_type": "code",
   "execution_count": 1,
   "id": "a4d8df10-07d6-47db-9c8e-67c3c62c8d08",
   "metadata": {},
   "outputs": [],
   "source": [
    "# Import stuff\n",
    "import pandas as p\n",
    "import numpy as np\n",
    "from matplotlib import pyplot as pp\n",
    "import seaborn as s\n",
    "import stats"
   ]
  },
  {
   "cell_type": "code",
   "execution_count": 2,
   "id": "b75482e7-f9bf-4214-9eae-148db944f541",
   "metadata": {},
   "outputs": [],
   "source": [
    "# get data set\n",
    "iris = p.read_csv('../../Notes/data/iris.data', header=None, \n",
    "                   names=['sepal_length', 'sepal_width', 'petal_length', 'petal_width', 'class'])"
   ]
  },
  {
   "cell_type": "code",
   "execution_count": 3,
   "id": "d59ae3b8-2a00-4a3d-aa88-55947c4e61be",
   "metadata": {},
   "outputs": [
    {
     "data": {
      "text/html": [
       "<div>\n",
       "<style scoped>\n",
       "    .dataframe tbody tr th:only-of-type {\n",
       "        vertical-align: middle;\n",
       "    }\n",
       "\n",
       "    .dataframe tbody tr th {\n",
       "        vertical-align: top;\n",
       "    }\n",
       "\n",
       "    .dataframe thead th {\n",
       "        text-align: right;\n",
       "    }\n",
       "</style>\n",
       "<table border=\"1\" class=\"dataframe\">\n",
       "  <thead>\n",
       "    <tr style=\"text-align: right;\">\n",
       "      <th></th>\n",
       "      <th>sepal_length</th>\n",
       "      <th>sepal_width</th>\n",
       "      <th>petal_length</th>\n",
       "      <th>petal_width</th>\n",
       "      <th>class</th>\n",
       "    </tr>\n",
       "  </thead>\n",
       "  <tbody>\n",
       "    <tr>\n",
       "      <th>0</th>\n",
       "      <td>5.1</td>\n",
       "      <td>3.5</td>\n",
       "      <td>1.4</td>\n",
       "      <td>0.2</td>\n",
       "      <td>Iris-setosa</td>\n",
       "    </tr>\n",
       "    <tr>\n",
       "      <th>1</th>\n",
       "      <td>4.9</td>\n",
       "      <td>3.0</td>\n",
       "      <td>1.4</td>\n",
       "      <td>0.2</td>\n",
       "      <td>Iris-setosa</td>\n",
       "    </tr>\n",
       "    <tr>\n",
       "      <th>2</th>\n",
       "      <td>4.7</td>\n",
       "      <td>3.2</td>\n",
       "      <td>1.3</td>\n",
       "      <td>0.2</td>\n",
       "      <td>Iris-setosa</td>\n",
       "    </tr>\n",
       "    <tr>\n",
       "      <th>3</th>\n",
       "      <td>4.6</td>\n",
       "      <td>3.1</td>\n",
       "      <td>1.5</td>\n",
       "      <td>0.2</td>\n",
       "      <td>Iris-setosa</td>\n",
       "    </tr>\n",
       "    <tr>\n",
       "      <th>4</th>\n",
       "      <td>5.0</td>\n",
       "      <td>3.6</td>\n",
       "      <td>1.4</td>\n",
       "      <td>0.2</td>\n",
       "      <td>Iris-setosa</td>\n",
       "    </tr>\n",
       "    <tr>\n",
       "      <th>...</th>\n",
       "      <td>...</td>\n",
       "      <td>...</td>\n",
       "      <td>...</td>\n",
       "      <td>...</td>\n",
       "      <td>...</td>\n",
       "    </tr>\n",
       "    <tr>\n",
       "      <th>145</th>\n",
       "      <td>6.7</td>\n",
       "      <td>3.0</td>\n",
       "      <td>5.2</td>\n",
       "      <td>2.3</td>\n",
       "      <td>Iris-virginica</td>\n",
       "    </tr>\n",
       "    <tr>\n",
       "      <th>146</th>\n",
       "      <td>6.3</td>\n",
       "      <td>2.5</td>\n",
       "      <td>5.0</td>\n",
       "      <td>1.9</td>\n",
       "      <td>Iris-virginica</td>\n",
       "    </tr>\n",
       "    <tr>\n",
       "      <th>147</th>\n",
       "      <td>6.5</td>\n",
       "      <td>3.0</td>\n",
       "      <td>5.2</td>\n",
       "      <td>2.0</td>\n",
       "      <td>Iris-virginica</td>\n",
       "    </tr>\n",
       "    <tr>\n",
       "      <th>148</th>\n",
       "      <td>6.2</td>\n",
       "      <td>3.4</td>\n",
       "      <td>5.4</td>\n",
       "      <td>2.3</td>\n",
       "      <td>Iris-virginica</td>\n",
       "    </tr>\n",
       "    <tr>\n",
       "      <th>149</th>\n",
       "      <td>5.9</td>\n",
       "      <td>3.0</td>\n",
       "      <td>5.1</td>\n",
       "      <td>1.8</td>\n",
       "      <td>Iris-virginica</td>\n",
       "    </tr>\n",
       "  </tbody>\n",
       "</table>\n",
       "<p>150 rows × 5 columns</p>\n",
       "</div>"
      ],
      "text/plain": [
       "     sepal_length  sepal_width  petal_length  petal_width           class\n",
       "0             5.1          3.5           1.4          0.2     Iris-setosa\n",
       "1             4.9          3.0           1.4          0.2     Iris-setosa\n",
       "2             4.7          3.2           1.3          0.2     Iris-setosa\n",
       "3             4.6          3.1           1.5          0.2     Iris-setosa\n",
       "4             5.0          3.6           1.4          0.2     Iris-setosa\n",
       "..            ...          ...           ...          ...             ...\n",
       "145           6.7          3.0           5.2          2.3  Iris-virginica\n",
       "146           6.3          2.5           5.0          1.9  Iris-virginica\n",
       "147           6.5          3.0           5.2          2.0  Iris-virginica\n",
       "148           6.2          3.4           5.4          2.3  Iris-virginica\n",
       "149           5.9          3.0           5.1          1.8  Iris-virginica\n",
       "\n",
       "[150 rows x 5 columns]"
      ]
     },
     "execution_count": 3,
     "metadata": {},
     "output_type": "execute_result"
    }
   ],
   "source": [
    "# display data\n",
    "iris"
   ]
  },
  {
   "cell_type": "code",
   "execution_count": 4,
   "id": "d14e069b-34de-44b9-b06d-28fd72cc7175",
   "metadata": {},
   "outputs": [],
   "source": [
    "\"\"\"\n",
    "#4 implementation;\n",
    "\n",
    "The 6 scatter plots needed are as follows:\n",
    "==========================================\n",
    "1 ~> Sepal_length vs Sepal_width\n",
    "2 ~> Sepal_length vs Petal_length\n",
    "3 ~> Sepal_length vs Petal_width\n",
    "4 ~> Sepal_width vs Petal_length\n",
    "5 ~> Sepal_width vs Petal_width\n",
    "6 ~> Petal_length vs Petal_width\n",
    "==========================================\n",
    "\"\"\"\n",
    "# Split data into 2 sets without taking class into consideration\n",
    "sepal = p.DataFrame()\n",
    "petal = p.DataFrame()\n",
    "\n",
    "sepal[['L', 'W', 'C']] = iris[['sepal_length', 'sepal_width', 'class']]\n",
    "petal[['L', 'W', 'C']] = iris[['petal_length', 'petal_width', 'class']]\n",
    "\n",
    "# Split data into 3 smaller sets by the classes \n",
    "setosa = iris[iris['class'] == 'Iris-setosa']\n",
    "virginica = iris[iris['class'] == 'Iris-virginica']\n",
    "versicolor = iris[iris['class'] == 'Iris-versicolor']"
   ]
  },
  {
   "cell_type": "code",
   "execution_count": 18,
   "id": "9a219863-621c-426f-b9ce-d579d840047b",
   "metadata": {},
   "outputs": [
    {
     "name": "stdout",
     "output_type": "stream",
     "text": [
      "Correlation between non-classed Sepal Length & Width ~> -0.10936924995064935\n",
      "Correlation between non-classed Sepal Length & Width ~> 0.9627570970509667\n"
     ]
    },
    {
     "data": {
      "image/png": "[encoded data removed]",
      "text/plain": [
       "<Figure size 432x288 with 1 Axes>"
      ]
     },
     "metadata": {
      "needs_background": "light"
     },
     "output_type": "display_data"
    }
   ],
   "source": [
    "#sepal_length vs sepal_width no class\n",
    "pp.scatter(x = sepal['L'], y = sepal['W'], color = 'b')\n",
    "pp.scatter(x = petal['L'], y = petal['W'], color = 'r', marker = 'v')\n",
    "pp.title(\"Non-Classed Sepal Length & Width\")\n",
    "pp.legend(['Sepal', 'Petal'])\n",
    "corrS = stats.corr(sepal['L'], sepal['W'])\n",
    "print(f'Correlation between non-classed Sepal Length & Width ~> {corrS}')\n",
    "corrP = stats.corr(petal['L'], petal['W'])\n",
    "print(f'Correlation between non-classed Sepal Length & Width ~> {corrP}')"
   ]
  },
  {
   "cell_type": "code",
   "execution_count": 10,
   "id": "b42335d0-b3a3-420e-a914-3c6319f99620",
   "metadata": {},
   "outputs": [
    {
     "data": {
      "text/plain": [
       "<matplotlib.legend.Legend at 0x7fb970b38fa0>"
      ]
     },
     "execution_count": 10,
     "metadata": {},
     "output_type": "execute_result"
    },
    {
     "data": {
      "image/png": "[encoded data removed]",
      "text/plain": [
       "<Figure size 432x288 with 1 Axes>"
      ]
     },
     "metadata": {
      "needs_background": "light"
     },
     "output_type": "display_data"
    }
   ],
   "source": [
    "# sepal_length vs sepal_width class\n",
    "pp.scatter(x = setosa['sepal_length'], y = setosa['sepal_width'], color = 'b')\n",
    "pp.scatter(x = virginica['sepal_length'], y = virginica['sepal_width'], color = 'r')\n",
    "pp.scatter(x = versicolor ['sepal_length'], y = versicolor ['sepal_width'], color = 'g')\n",
    "pp.title(\"Sepal Length vs Sepal Width\")\n",
    "pp.legend(['setosa', 'viginica', 'versicolor'])"
   ]
  },
  {
   "cell_type": "code",
   "execution_count": null,
   "id": "0a8f0089-88e3-4756-b961-19b4ab139667",
   "metadata": {},
   "outputs": [],
   "source": []
  }
 ],
 "metadata": {
  "kernelspec": {
   "display_name": "Python 3 (ipykernel)",
   "language": "python",
   "name": "python3"
  },
  "language_info": {
   "codemirror_mode": {
    "name": "ipython",
    "version": 3
   },
   "file_extension": ".py",
   "mimetype": "text/x-python",
   "name": "python",
   "nbconvert_exporter": "python",
   "pygments_lexer": "ipython3",
   "version": "3.8.8"
  }
 },
 "nbformat": 4,
 "nbformat_minor": 5
}
