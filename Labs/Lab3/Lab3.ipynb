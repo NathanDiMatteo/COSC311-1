{
 "cells": [
  {
   "cell_type": "code",
   "execution_count": 1,
   "id": "a4d8df10-07d6-47db-9c8e-67c3c62c8d08",
   "metadata": {},
   "outputs": [],
   "source": [
    "# Import stuff\n",
    "import pandas as p\n",
    "import numpy as np\n",
    "from matplotlib import pyplot as pp\n",
    "import seaborn as s"
   ]
  },
  {
   "cell_type": "code",
   "execution_count": null,
   "id": "b75482e7-f9bf-4214-9eae-148db944f541",
   "metadata": {},
   "outputs": [],
   "source": []
  }
 ],
 "metadata": {
  "kernelspec": {
   "display_name": "Python 3 (ipykernel)",
   "language": "python",
   "name": "python3"
  },
  "language_info": {
   "codemirror_mode": {
    "name": "ipython",
    "version": 3
   },
   "file_extension": ".py",
   "mimetype": "text/x-python",
   "name": "python",
   "nbconvert_exporter": "python",
   "pygments_lexer": "ipython3",
   "version": "3.8.8"
  }
 },
 "nbformat": 4,
 "nbformat_minor": 5
}
