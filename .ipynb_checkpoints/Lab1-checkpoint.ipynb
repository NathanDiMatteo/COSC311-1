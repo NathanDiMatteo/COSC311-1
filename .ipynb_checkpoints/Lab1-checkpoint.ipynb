{
 "cells": [
  {
   "cell_type": "markdown",
   "metadata": {},
   "source": [
    "# Hello\n",
    "This is fun"
   ]
  },
  {
   "cell_type": "code",
   "execution_count": 3,
   "metadata": {},
   "outputs": [],
   "source": [
    "# Number 3\n",
    "artists = [\n",
    "    {\"id\": 0, \"name\": \"Susan Tedeschi\" },\n",
    "    {\"id\": 1, \"name\": \"Bob Dylan\" },\n",
    "    {\"id\": 2, \"name\": \"Freddie Mercury\" },\n",
    "    {\"id\": 3, \"name\": \"Bob Marley\" },\n",
    "    {\"id\": 4, \"name\": \"Michael Jackson\" },\n",
    "    {\"id\": 5, \"name\": \"Swae Lee\" },\n",
    "    {\"id\": 6, \"name\": \"Post Malone\" },\n",
    "    {\"id\": 7, \"name\": \"Slim Jxmmi\" },\n",
    "    {\"id\": 8, \"name\": \"Lil Uzi Vert\" },\n",
    "    {\"id\": 9, \"name\": \"Elvis Presley\" },\n",
    "]\n",
    "# Number 4\n",
    "songs = [\n",
    "    {\"id\": 0, \"name\": \"Angel from Montgomery\" },\n",
    "    {\"id\": 1, \"name\": \"Sunflower\" },\n",
    "    {\"id\": 2, \"name\": \"Billie Jean\" },\n",
    "    {\"id\": 3, \"name\": \"Powerglide\" },\n",
    "    {\"id\": 4, \"name\": \"P2\" },\n",
    "    {\"id\": 5, \"name\": \"Don't Think Twice, It's Alright\" },\n",
    "    {\"id\": 6, \"name\": \"It Hurt So Bad\" },\n",
    "    {\"id\": 7, \"name\": \"Don't Worry, Be Happy\" },\n",
    "    {\"id\": 8, \"name\": \"Don't Stop Me Now\" },\n",
    "    {\"id\": 9, \"name\": \"WaterSlide\" },\n",
    "    {\"id\": 10, \"name\": \"Circles\" },\n",
    "    {\"id\": 11, \"name\": \"Jailhouse Rock\" },\n",
    "]\n",
    "# Number 5\n",
    "artist_songs = [\n",
    "    (0,0), (0,5), (0,6),\n",
    "    (1,5), (1,9),\n",
    "    (2,8),\n",
    "    (3,7),\n",
    "    (4,2),\n",
    "    (5,1), (5,3),\n",
    "    (6,1), (6,10),\n",
    "    (7,3), \n",
    "    (8,4),\n",
    "    (9,11),\n",
    "]"
   ]
  },
  {
   "cell_type": "code",
   "execution_count": 1,
   "metadata": {},
   "outputs": [],
   "source": [
    "# Number 6 implementation\n",
    "def who_covered(name_song):\n",
    "    h=0\n",
    "    for y in range(0,len(songs)):\n",
    "        if name_song == songs[y][\"name\"]:\n",
    "            h=1\n",
    "            print(\"The artist(s) that covered\",songs[y][\"name\"],\"~>\")\n",
    "            for x in range(0,len(artist_songs)):\n",
    "                j=artist_songs[x][0]\n",
    "                k=artist_songs[x][1]\n",
    "                if y == k:\n",
    "                    print(artists[j][\"name\"])\n",
    "    if h == 0:\n",
    "        print(\"Song is not in database\")\n",
    "        \n",
    "        \n",
    "        #This was to test the tuples \n",
    "       # print(artists[j][\"name\"],\"covered\",songs[k][\"name\"])"
   ]
  },
  {
   "cell_type": "code",
   "execution_count": 4,
   "metadata": {},
   "outputs": [
    {
     "name": "stdout",
     "output_type": "stream",
     "text": [
      "The artist(s) that covered Circles ~>\n",
      "Post Malone\n"
     ]
    }
   ],
   "source": [
    "# Number 6 function call\n",
    "who_covered(\"Circles\")"
   ]
  },
  {
   "cell_type": "code",
   "execution_count": 18,
   "metadata": {},
   "outputs": [],
   "source": [
    "# Number 7 implementation\n",
    "def shared_songs(name_artist):\n",
    "    h=0\n",
    "    for y in range(0,len(artists)):\n",
    "        if name_artist == artists[y][\"name\"]:\n",
    "            h=1\n",
    "            print(name_artist,\"shares these songs with others ~>\")\n",
    "            \n",
    "            \n",
    "    if h == 0:\n",
    "        print(\"Artist not in database\")\n",
    "    if h == 2:\n",
    "        print(\"Artist does not share songs with anyone\")"
   ]
  },
  {
   "cell_type": "code",
   "execution_count": 19,
   "metadata": {},
   "outputs": [
    {
     "name": "stdout",
     "output_type": "stream",
     "text": [
      "Bob Dylan shares these songs with others ~>\n",
      "ID ~> 1\n"
     ]
    }
   ],
   "source": [
    "# Number 7 implementation\n",
    "shared_songs(\"Bob Dylan\")"
   ]
  },
  {
   "cell_type": "code",
   "execution_count": null,
   "metadata": {},
   "outputs": [],
   "source": []
  },
  {
   "cell_type": "code",
   "execution_count": null,
   "metadata": {},
   "outputs": [],
   "source": []
  }
 ],
 "metadata": {
  "kernelspec": {
   "display_name": "Python 3",
   "language": "python",
   "name": "python3"
  },
  "language_info": {
   "codemirror_mode": {
    "name": "ipython",
    "version": 3
   },
   "file_extension": ".py",
   "mimetype": "text/x-python",
   "name": "python",
   "nbconvert_exporter": "python",
   "pygments_lexer": "ipython3",
   "version": "3.6.7"
  }
 },
 "nbformat": 4,
 "nbformat_minor": 4
}
