{
 "cells": [
  {
   "cell_type": "markdown",
   "id": "dcd899d2-b88e-47a2-8b18-d6ef30ce9129",
   "metadata": {},
   "source": [
    "# Probability and Random Variables\n",
    "\n",
    "We use the language of probability to give structure to uncertain and complex processes. When we talk about a \"random variable\" we mean an observable phenomenon that takes values in a particular universe of possibility.\n",
    "\n",
    "For example, flipping a coin can take values in $\\{H, T\\}$, and to each we assign a probability $P(H)$ and $P(T)$.\n",
    "\n",
    "So to fully consider a random variable variable, we need three things:\n",
    "1. The random variable itself (the actual outcome) -- $X$\n",
    "2. The set of possibilities -- $\\Omega$\n",
    "3. The probability function that maps the possibilities to values -- $P$\n",
    "\n",
    "We then say that the triple $(X,\\Omega, P)$ forms a probability space.\n",
    "\n",
    "Furthermore, we require that $P$ satisfies the following:\n",
    "1. $0 \\leq P(\\omega) \\leq 1$ for all $\\omega \\in \\Omega$.\n",
    "2. $\\sum_{\\omega \\in \\Omega} P(\\omega) = 1$"
   ]
  },
  {
   "cell_type": "code",
   "execution_count": 1,
   "id": "da3cd627-13ba-4205-8d77-64ef8db99843",
   "metadata": {},
   "outputs": [],
   "source": [
    "p = 0.71"
   ]
  },
  {
   "cell_type": "markdown",
   "id": "74fdb238-8da2-43f2-81e1-d410acaa130f",
   "metadata": {},
   "source": [
    "## Discrete Random Variables\n",
    "\n",
    "The random variable $X$ is said to be discrete if $\\Omega$ is countable (either finite or countably infinite). For completeness, a set $A$ is countably infinite if there exists a bijection $f:\\mathbb{N} \\to A$.\n",
    "\n",
    "Examples:\n",
    "- flip of a coin\n",
    "- number of people in a class\n",
    "- the number of times a person has been picked last for volleyball"
   ]
  },
  {
   "cell_type": "markdown",
   "id": "58d175cb-996f-4e36-9ecd-6e83babb5727",
   "metadata": {},
   "source": [
    "Let $(X, \\Omega, P)$ be a discrete probability space with $\\Omega \\subset \\mathbb{R}$.\n",
    "\n",
    "We will define the cumulative probability function (cdf) for random variable $X$ as\n",
    "$$ P(X \\leq t) = F_X(t) = \\sum_{\\omega \\leq t} P(X = \\omega) $$\n",
    "i.e. the sum of probabilities for all values at most $t$."
   ]
  },
  {
   "cell_type": "markdown",
   "id": "23e89690-1dde-4a7a-a51e-374229b25c8f",
   "metadata": {},
   "source": [
    "We can now come back to statistical quantities, but now in terms of a random variable:\n",
    "the mean is\n",
    "$$ \\mathbb{E} X = \\sum_{x \\in \\Omega} x P(x) $$\n",
    "and the variance is\n",
    "$$ \\operatorname{Var}(X) = \\mathbb{E}(X - \\mathbb{E}X)^2 $$"
   ]
  },
  {
   "cell_type": "markdown",
   "id": "ecffbeab-6e71-4380-8b66-7312f52a2a0e",
   "metadata": {},
   "source": [
    "## Continuous Random Variables\n",
    "\n",
    "A random variable $X$ is continuous if the associated $\\Omega$ is not countably infinite. \n",
    "\n",
    "For example:\n",
    "- A random draw from $(0,1)$\n",
    "- Temperature measured on a day (with infinite precision)\n",
    "- Measuring speed of cars on a road at a certain location\n",
    "\n",
    "So now we have a $P: \\Omega \\to \\mathbb{R}$ that is continuous (maybe with some points of discontinuity). We then define the cdf of $X$ as $F_X(t) = P(X \\leq t)$ which is usually defined for that specific random variable/distribution. However, most common continuous random variables have a Probability Denisty Function (pdf) called $f_X(x)$ so that \n",
    "$$ F_X(t) = P(X \\leq t) = \\int_{-\\infty}^{t} f_X(x) dx $$\n"
   ]
  },
  {
   "cell_type": "markdown",
   "id": "c8f58bed-b04e-4394-b660-87f9d0d75214",
   "metadata": {},
   "source": [
    "We then define the mean as \n",
    "$$ \\mathbb{E}X = \\int_{-\\infty}^{\\infty} x f_X(x) dx = \\left[ \\int_{-\\infty}^{\\infty} x dF_X(x) \\right]$$"
   ]
  },
  {
   "cell_type": "markdown",
   "id": "9360206a-836e-4587-86f1-c0902c8a3c87",
   "metadata": {},
   "source": [
    "### Example: Uniform distribution\n",
    "\n",
    "Look at uniform draw from interval $(0,1)$. Call this draw $X$. The distribution of this is denoted $U(0,1)$ when all values have equal probability, i.e. the uniform distribution on $(0,1)$.\n",
    "\n",
    "The pdf of this is then \n",
    "$$ f_X(x) = \n",
    "\\begin{cases}\n",
    "0 \\text{ if } x \\not \\in (0,1) \\\\\n",
    "1 \\text{ otherwise}\n",
    "\\end{cases}\n",
    "$$\n",
    "because we still need the law of total probability:\n",
    "$$ \\int_{-\\infty}^{\\infty} f_X(x) dx = \\int_{0}^{1} f_X(x) dx = 1 $$"
   ]
  },
  {
   "cell_type": "markdown",
   "id": "311403e1-3bb5-4cac-9698-12dcab9ddbe7",
   "metadata": {},
   "source": [
    "In general for interval $(a,b)$ the uniform distribution has pdf \n",
    "$$ f(x) =\n",
    "\\begin{cases}\n",
    "0 \\text{ if } x \\not \\in (a,b) \\\\\n",
    "\\frac{1}{b-a} \\text{ otherwise}\n",
    "\\end{cases}\n",
    "$$"
   ]
  },
  {
   "cell_type": "code",
   "execution_count": 2,
   "id": "20217ad3-3d84-4014-8d17-817c3305a824",
   "metadata": {},
   "outputs": [],
   "source": [
    "def uniform_pdf(x,a,b):\n",
    "    return 1/(b-a) if a <= x and x <= b else 0\n",
    "\n",
    "def uniform_cdf(t,a,b):\n",
    "    if t < a:\n",
    "        return 0\n",
    "    if t > b:\n",
    "        return 1\n",
    "    return (t-a)/(b-a)"
   ]
  },
  {
   "cell_type": "code",
   "execution_count": 3,
   "id": "e7867655-a825-40e7-8389-55a61628cb05",
   "metadata": {},
   "outputs": [
    {
     "data": {
      "text/plain": [
       "<matplotlib.legend.Legend at 0x7fa94ff015b0>"
      ]
     },
     "execution_count": 3,
     "metadata": {},
     "output_type": "execute_result"
    },
    {
     "data": {
      "image/png": "[encoded data removed]",
      "text/plain": [
       "<Figure size 432x288 with 1 Axes>"
      ]
     },
     "metadata": {
      "needs_background": "light"
     },
     "output_type": "display_data"
    }
   ],
   "source": [
    "from matplotlib import pyplot as plt\n",
    "import numpy as np\n",
    "\n",
    "xs = np.arange(-2,2,0.01)\n",
    "ys = [uniform_pdf(x,0,1) for x in xs]\n",
    "plt.plot(xs, ys)\n",
    "\n",
    "ys = [uniform_cdf(x,0,1) for x in xs]\n",
    "plt.plot(xs, ys)\n",
    "\n",
    "plt.legend(['pdf of U(0,1)', 'cdf of U(0,1)'])"
   ]
  },
  {
   "cell_type": "markdown",
   "id": "584b9729-6152-4523-bc9a-ddbfca0fcfef",
   "metadata": {},
   "source": [
    "Now, for random variable $X$ distributed as $U(a,b)$, calculate the cdf:\n",
    "First, suppose $t \\in (a,b)$.\n",
    "\n",
    "$$ F_X(t) = \\int_{-\\infty}^{t} f_X(x) dx = \\int_{a}^{t} \\frac{1}{b-a} dx = \\frac{1}{b-a} x \\bigg \\vert_{a}^{t} = \\frac{t}{b-a} - \\frac{a}{b-a} = \\frac{t-a}{b-a}$$\n",
    "so final form:\n",
    "\n",
    "$$ F_X(t) = \n",
    "\\begin{cases}\n",
    "0 \\text{ if } t <= a \\\\\n",
    "\\frac{t-a}{b-a} \\text{ if } t \\in (a,b) \\\\\n",
    "1 \\text{ if } t > b \\\\\n",
    "\\end{cases}\n",
    "$$"
   ]
  },
  {
   "cell_type": "markdown",
   "id": "49e676c4-44d0-4c55-b04d-1b5c3411873c",
   "metadata": {},
   "source": [
    "Try calculating the mean of $X$ when distributed as $U(0,1)$:\n",
    "\n",
    "$$\\mathbb{E}X = \\int_{-\\infty}^{\\infty} x f_X(x) dx = \\int_{0}^{1} x dx = \\frac{x^2}{2} \\bigg \\vert_{0}^{1} = 1/2 $$"
   ]
  },
  {
   "cell_type": "markdown",
   "id": "c1459833-c257-4d09-8511-f705fd8390d1",
   "metadata": {},
   "source": [
    "Exercise: do variance for $U(0,1)$."
   ]
  },
  {
   "cell_type": "markdown",
   "id": "0c100856-142f-460e-9140-ecedf5992b5c",
   "metadata": {},
   "source": [
    "### Example: Normal Distribution\n",
    "\n",
    "Also called the Gaussian distribution, the pdf is\n",
    "$$ f_X(x; \\mu, \\sigma) = \\frac{1}{\\sigma \\sqrt{2 \\pi}} \\exp\\left( -\\frac{(x-\\mu)^2}{2 \\sigma^2} \\right) $$\n",
    "and we normally abbreviate this distrubtion $ \\mathcal{N}(\\mu, \\sigma^2) $.\n",
    "In this formulation, the mean is $\\mu$ and variance $\\sigma^2$.\n",
    "This distribution has cdf\n",
    "$$ F_X(x; \\mu, \\sigma) = \\frac{1}{2} \\left[ 1 + \\operatorname{erf} \\left( \\frac{x-\\mu}{\\sigma \\sqrt{2}} \\right) \\right] $$"
   ]
  },
  {
   "cell_type": "code",
   "execution_count": 4,
   "id": "11d8c964-3e85-4bc3-a44a-11fbc872329c",
   "metadata": {},
   "outputs": [],
   "source": [
    "import math\n",
    "\n",
    "def normal_pdf(x, mu, sigma):\n",
    "    return (1/(sigma*np.sqrt(2 * np.pi))) * np.exp(-1*(x - mu)**2 / (2 * sigma**2))\n",
    "\n",
    "def normal_cdf(x, mu, sigma):\n",
    "    return (1 + math.erf((x-mu)/(sigma*np.sqrt(2))))/2"
   ]
  },
  {
   "cell_type": "code",
   "execution_count": 5,
   "id": "07fafd9f-1738-4ced-b6eb-4a7f5b12008b",
   "metadata": {},
   "outputs": [
    {
     "data": {
      "text/plain": [
       "<matplotlib.legend.Legend at 0x7fa95173bca0>"
      ]
     },
     "execution_count": 5,
     "metadata": {},
     "output_type": "execute_result"
    },
    {
     "data": {
      "image/png": "[encoded data removed]",
      "text/plain": [
       "<Figure size 432x288 with 1 Axes>"
      ]
     },
     "metadata": {
      "needs_background": "light"
     },
     "output_type": "display_data"
    }
   ],
   "source": [
    "xs = np.arange(-5,5,0.01)\n",
    "plt.plot(xs, [normal_pdf(x,0,1) for x in xs], 'b', label='mu=0 sigma=1')\n",
    "plt.plot(xs, [normal_pdf(x,0,1.5) for x in xs], 'g--', label='mu=0 sigma=1.5')\n",
    "plt.plot(xs, [normal_pdf(x,0,2) for x in xs], 'r:', label='mu=0 sigma=2')\n",
    "plt.plot(xs, [normal_pdf(x,0,0.5) for x in xs], 'y', label='mu=0 sigma=0.5')\n",
    "plt.legend()"
   ]
  },
  {
   "cell_type": "code",
   "execution_count": 6,
   "id": "2b0ac52d-c068-44b6-85ef-204f00490d1c",
   "metadata": {},
   "outputs": [
    {
     "data": {
      "text/plain": [
       "<matplotlib.legend.Legend at 0x7fa9517c2430>"
      ]
     },
     "execution_count": 6,
     "metadata": {},
     "output_type": "execute_result"
    },
    {
     "data": {
      "image/png": "[encoded data removed]",
      "text/plain": [
       "<Figure size 432x288 with 1 Axes>"
      ]
     },
     "metadata": {
      "needs_background": "light"
     },
     "output_type": "display_data"
    }
   ],
   "source": [
    "xs = np.arange(-5,5,0.01)\n",
    "plt.plot(xs, [normal_cdf(x,0,1) for x in xs], 'b', label='mu=0 sigma=1')\n",
    "plt.plot(xs, [normal_cdf(x,0,1.5) for x in xs], 'g--', label='mu=0 sigma=1.5')\n",
    "plt.plot(xs, [normal_cdf(x,0,2) for x in xs], 'r:', label='mu=0 sigma=2')\n",
    "plt.plot(xs, [normal_cdf(x,0,0.5) for x in xs], 'y', label='mu=0 sigma=0.5')\n",
    "plt.legend()"
   ]
  },
  {
   "cell_type": "code",
   "execution_count": 7,
   "id": "b13a9748-2e1f-4744-bb32-d129a5c3c8b7",
   "metadata": {},
   "outputs": [
    {
     "data": {
      "text/plain": [
       "<matplotlib.legend.Legend at 0x7fa9519279d0>"
      ]
     },
     "execution_count": 7,
     "metadata": {},
     "output_type": "execute_result"
    },
    {
     "data": {
      "image/png": "[encoded data removed]",
      "text/plain": [
       "<Figure size 432x288 with 1 Axes>"
      ]
     },
     "metadata": {
      "needs_background": "light"
     },
     "output_type": "display_data"
    }
   ],
   "source": [
    "xs = np.arange(-5,5,0.01)\n",
    "plt.plot(xs, [normal_pdf(x,0,1) for x in xs], 'b:', label='mu=0 sigma=1')\n",
    "plt.plot(xs, [normal_cdf(x,0,1) for x in xs], 'b', label='mu=0 sigma=1')\n",
    "plt.legend()"
   ]
  },
  {
   "cell_type": "code",
   "execution_count": 8,
   "id": "a0544a62-83d1-4a4b-a798-ba7f3a4cefc7",
   "metadata": {},
   "outputs": [
    {
     "data": {
      "text/plain": [
       "<matplotlib.legend.Legend at 0x7fa95198ebb0>"
      ]
     },
     "execution_count": 8,
     "metadata": {},
     "output_type": "execute_result"
    },
    {
     "data": {
      "image/png": "[encoded data removed]",
      "text/plain": [
       "<Figure size 432x288 with 1 Axes>"
      ]
     },
     "metadata": {
      "needs_background": "light"
     },
     "output_type": "display_data"
    }
   ],
   "source": [
    "xs = np.arange(-5,5,0.01)\n",
    "plt.plot(xs, [normal_pdf(x,0,1) for x in xs], 'b:', label='mu=0 sigma=1')\n",
    "plt.plot(xs, [normal_pdf(x,1,1) for x in xs], 'b', label='mu=0 sigma=1')\n",
    "plt.legend()"
   ]
  },
  {
   "cell_type": "markdown",
   "id": "08ca2f40-76ce-44d8-bbd5-bed592981f6c",
   "metadata": {},
   "source": [
    "# Central Limit Theorem\n",
    "\n",
    "Let $X$ be *any* random variable with mean $\\mu$ and variance $\\sigma^2$.\n",
    "Then if you have $x_1, x_2, \\dots, x_N$ iid (independent and identially distributed) copies/observations of $X$, the quantity\n",
    "$$ \\bar{x} = \\frac{1}{N} (x_1 + x_2 + \\dots + x_N) $$\n",
    "will, if $N$ is large enough, behave like $\\mathcal{N}\\left( \\mu, \\frac{\\sigma^2}{N} \\right)$.\n",
    "That is the empirical mean (interpreted now as a random variable) will look normal, if enough samples are used.\n",
    "\n",
    "Notice that the variance of this depends on $N$ but the mean does not.\n",
    "So if you increase $N$, i.e. draw more samples, the variance of your empirical mean goes down."
   ]
  },
  {
   "cell_type": "markdown",
   "id": "554e0729-3155-4043-9037-5d96ababc254",
   "metadata": {},
   "source": [
    "### Case study: flipping a coin.\n",
    "\n",
    "We're given a (maybe unfair) coin that flips heads with probabilitiy $p$ and tails with probability $1-p$.\n",
    "We want to estimate what $p$ by flipping the coin ourselves.\n",
    "\n",
    "So lets repeat the following experiment: Flip the coin $n$ times, calculate the average.\n",
    "But after repeating this, look at the distribution of values. What will it look like?\n",
    "\n",
    "A coin flip is usually referred to as a Bernoilli random variable.\n",
    "Call this distribution $\\operatorname{Bernoulli}(p)$, which then has mean p and variance __ .\n",
    "The value of a Bernoulli random variable is 1 with probability $p$ and 0 with probability $1-p$.\n",
    "\n",
    "So its mean is calculate as:\n",
    "\n",
    "$$ p \\cdot 1 + (1-p) \\cdot 0 = p $$\n",
    "\n",
    "The variance $\\mathbb{E} (X - \\mathbb{E}(X))^2$ is:\n",
    "\n",
    "$$ \n",
    "\\begin{align*}\n",
    "\\mathbb{E}(X - p)^2 &= \\mathbb{E}( X^2 -2pX + p^2) \\\\\n",
    "&= \\mathbb{E}(X^2) - 2p\\mathbb{E}(X) + p^2 \\; \\text{ by linearity} \\\\\n",
    "&= \\mathbb{E}(X^2) - 2p^2 + p^2 \\\\ \n",
    "&= \\mathbb{E}(X^2) - p^2 \\\\\n",
    "&= p - p^2 = p(1-p)\n",
    "\\end{align*}\n",
    "$$"
   ]
  },
  {
   "cell_type": "markdown",
   "id": "69babead-18ed-4a5d-9212-1ebbc168a97e",
   "metadata": {},
   "source": [
    "Side note: expectation is linear. I.e.\n",
    "$$ \\mathbb{E}(aX + bY) = a\\mathbb{E}(X) + b\\mathbb{E}(Y) $$\n",
    "Also, for any constant $a$, $\\mathbb{E}(a) = a$."
   ]
  },
  {
   "cell_type": "markdown",
   "id": "6dfd0c3a-67bc-4eae-86dd-4c42dca5b8fb",
   "metadata": {},
   "source": [
    "Now, we talk about the quantity $X_1 + X_2 + \\dots + X_n$ when each $X_i$ is Bernoulli$(p)$ is called the Binomial distribution, denote as $\\operatorname{Binom(n,p)}$.\n",
    "The mean of a Binomial$(n,p)$ is\n",
    "$$ \\mathbb{E}(X_1 + X_2 + \\dots + X_N) = \\mathbb{E}(X_1) + \\dots + \\mathbb{E}(X_N) = np $$\n",
    "The variance is then\n",
    "$$\n",
    "\\operatorname{Var}(X_1 + X_2 + \\dots + X_N) = n \\operatorname{Var}(X_1) = np(1-p)\n",
    "$$"
   ]
  },
  {
   "cell_type": "markdown",
   "id": "33525a52-849f-448f-bed5-fa840bba03b6",
   "metadata": {},
   "source": [
    "Variance is also distributive over addition, but is homogeneous degree 2.\n",
    "That is, $\\operatorname{Var}(aX + bY) = a^2 \\operatorname{Var}(X) + b^2 \\operatorname{Var}(Y) $"
   ]
  },
  {
   "cell_type": "markdown",
   "id": "ec67e242-3c79-4e2d-aacb-a0b7cb9ea061",
   "metadata": {},
   "source": [
    "So the distribution of my estimated mean will behave like $\\mathcal{N}(np, np(1-p))$."
   ]
  },
  {
   "cell_type": "code",
   "execution_count": 9,
   "id": "2e1a054f-2f63-4185-83e1-ef43509f0231",
   "metadata": {},
   "outputs": [
    {
     "name": "stdout",
     "output_type": "stream",
     "text": [
      "Counter({49: 809, 51: 768, 48: 767, 50: 764, 52: 743, 53: 700, 47: 672, 46: 589, 54: 584, 55: 512, 45: 460, 44: 392, 56: 375, 57: 274, 43: 266, 58: 231, 42: 220, 41: 172, 59: 158, 60: 101, 40: 95, 39: 81, 61: 80, 62: 43, 38: 37, 63: 21, 37: 20, 36: 17, 64: 15, 65: 12, 35: 5, 34: 5, 32: 4, 66: 3, 33: 2, 68: 1, 69: 1, 29: 1})\n"
     ]
    },
    {
     "data": {
      "text/plain": [
       "[<matplotlib.lines.Line2D at 0x7fa951be3dc0>]"
      ]
     },
     "execution_count": 9,
     "metadata": {},
     "output_type": "execute_result"
    },
    {
     "data": {
      "image/png": "[encoded data removed]",
      "text/plain": [
       "<Figure size 432x288 with 1 Axes>"
      ]
     },
     "metadata": {
      "needs_background": "light"
     },
     "output_type": "display_data"
    }
   ],
   "source": [
    "from collections import Counter\n",
    "\n",
    "N = 100\n",
    "bias = 0.5\n",
    "num_trials = 10000\n",
    "\n",
    "def binom_draw(n,p):\n",
    "    \"\"\"Generate one draw from a Binomial(n,p) distribution\"\"\"\n",
    "    return np.sum(np.random.choice([0,1],size=n,p=[1-p,p]))\n",
    "\n",
    "# get the number of successes num_trials times\n",
    "observations = [binom_draw(N,bias) for _ in range(num_trials)]\n",
    "\n",
    "# want to plot the distribution of these observations\n",
    "# we could fancier histogram methods, or for fun do it by hand\n",
    "\n",
    "counts = Counter(observations)\n",
    "print(counts)\n",
    "\n",
    "plt.bar([x for x in counts.keys()], [v / num_trials for v in counts.values()])\n",
    "\n",
    "# now compare with actual normal pdf\n",
    "mu = N*bias\n",
    "sigma = math.sqrt(N*bias*(1-bias))\n",
    "\n",
    "xs = np.arange(30,70,0.1)\n",
    "plt.plot(xs, [normal_pdf(x,mu,sigma) for x in xs])"
   ]
  },
  {
   "cell_type": "code",
   "execution_count": 10,
   "id": "6499ce8a-70b9-452b-bdf3-830dcf92e0d7",
   "metadata": {},
   "outputs": [
    {
     "data": {
      "text/plain": [
       "2"
      ]
     },
     "execution_count": 10,
     "metadata": {},
     "output_type": "execute_result"
    }
   ],
   "source": [
    "# help(np.random.choice)\n",
    "#np.random.choice([0,1],p=[0.5, 0.5],size=10)\n",
    "binom_draw(10,0.2)"
   ]
  },
  {
   "cell_type": "markdown",
   "id": "8e11fd77-7030-4ee6-9935-274e688b27f0",
   "metadata": {},
   "source": [
    "## Confidence Measurement -- Confidence Intervals\n",
    "\n",
    "When we're calculating, specifcally, the mean of a quantity, we assign to it a _confidence interval_ by calculating the _standard error_ of the estimator:\n",
    "\n",
    "If we call $\\bar{x}$ the mean, then the **Standard Error** of $\\bar{x}$ is denoted and defined as\n",
    "\n",
    "$$\n",
    "\\operatorname{SE} := \\operatorname{std}(\\bar{x}) = \\sqrt{\\operatorname{var}(\\bar{x})} = \\frac{\\sigma_x}{\\sqrt{N}} .\n",
    "$$\n",
    "\n",
    "So the CLT implies that if $N$ is large enough, $\\bar{x}$ behaves normally, and we use $\\sigma_{\\bar{x}}$ as a substitute, which is typically suitable when $n > 30$."
   ]
  },
  {
   "cell_type": "markdown",
   "id": "b6f3d6f2-cc14-4d8a-a33f-016905048feb",
   "metadata": {},
   "source": [
    "Once we have the SE, we will build a confidence interval around the observed $\\bar{x}$ as\n",
    "$$\n",
    "[\\bar{x} - 1.96 \\cdot \\operatorname{SE}, \\bar{x} + 1.96 \\cdot \\operatorname{SE} ]\n",
    "$$\n",
    "because, if $\\bar{x}$ truly behaves as a normal distribution, this interval contains 95% of the probability mass."
   ]
  },
  {
   "cell_type": "markdown",
   "id": "34b6abe6-451c-4c1f-968f-6587ca656801",
   "metadata": {},
   "source": [
    "Example: with a hidden bias, estimate the bias of a coin:\n",
    "\n",
    "- Want an $\\bar{x}$\n",
    "- Need SE\n",
    "- So we need $\\operatorname{std}_{\\bar{x}}$.\n",
    "- Then we calculate the interval as above"
   ]
  },
  {
   "cell_type": "code",
   "execution_count": 11,
   "id": "1b8f816b-2261-42b2-8966-c20bae3181ba",
   "metadata": {},
   "outputs": [
    {
     "data": {
      "text/plain": [
       "8"
      ]
     },
     "execution_count": 11,
     "metadata": {},
     "output_type": "execute_result"
    }
   ],
   "source": [
    "binom_draw(10,p)"
   ]
  },
  {
   "cell_type": "code",
   "execution_count": 12,
   "id": "6bc7111f-3822-4d07-b683-715602422cc1",
   "metadata": {},
   "outputs": [
    {
     "name": "stdout",
     "output_type": "stream",
     "text": [
      "SE of xbar is 0.010441352988825398\n",
      "We think the bias is about 0.714 with a confidence inverval of [0.6935349481419022, 0.7344650518580977]\n"
     ]
    }
   ],
   "source": [
    "import stats\n",
    "n = 1000\n",
    "\n",
    "# TODO: discuss/investigate boostrapping this thing...\n",
    "se = stats.std([ binom_draw(n,p)/n for i in range(0,31) ])\n",
    "print(f'SE of xbar is {se}')\n",
    "\n",
    "xbar = binom_draw(n,p)/n\n",
    "\n",
    "interval_low = xbar - 1.96*se\n",
    "interval_high = xbar + 1.96*se\n",
    "\n",
    "print(f'We think the bias is about {xbar} with a confidence inverval of [{interval_low}, {interval_high}]')"
   ]
  },
  {
   "cell_type": "code",
   "execution_count": 13,
   "id": "23b7c05a-4d7f-4ac9-8ed3-2cb71cb01588",
   "metadata": {},
   "outputs": [
    {
     "data": {
      "text/html": [
       "<div>\n",
       "<style scoped>\n",
       "    .dataframe tbody tr th:only-of-type {\n",
       "        vertical-align: middle;\n",
       "    }\n",
       "\n",
       "    .dataframe tbody tr th {\n",
       "        vertical-align: top;\n",
       "    }\n",
       "\n",
       "    .dataframe thead th {\n",
       "        text-align: right;\n",
       "    }\n",
       "</style>\n",
       "<table border=\"1\" class=\"dataframe\">\n",
       "  <thead>\n",
       "    <tr style=\"text-align: right;\">\n",
       "      <th></th>\n",
       "      <th>Avg Breakdown Rate</th>\n",
       "      <th>SE</th>\n",
       "      <th>Model</th>\n",
       "    </tr>\n",
       "  </thead>\n",
       "  <tbody>\n",
       "    <tr>\n",
       "      <th>0</th>\n",
       "      <td>13.5</td>\n",
       "      <td>1.5</td>\n",
       "      <td>Model X</td>\n",
       "    </tr>\n",
       "    <tr>\n",
       "      <th>1</th>\n",
       "      <td>31.9</td>\n",
       "      <td>2.0</td>\n",
       "      <td>Model Y</td>\n",
       "    </tr>\n",
       "    <tr>\n",
       "      <th>2</th>\n",
       "      <td>20.1</td>\n",
       "      <td>0.8</td>\n",
       "      <td>Model Z</td>\n",
       "    </tr>\n",
       "    <tr>\n",
       "      <th>3</th>\n",
       "      <td>15.9</td>\n",
       "      <td>2.4</td>\n",
       "      <td>Model A</td>\n",
       "    </tr>\n",
       "  </tbody>\n",
       "</table>\n",
       "</div>"
      ],
      "text/plain": [
       "   Avg Breakdown Rate   SE    Model\n",
       "0                13.5  1.5  Model X\n",
       "1                31.9  2.0  Model Y\n",
       "2                20.1  0.8  Model Z\n",
       "3                15.9  2.4  Model A"
      ]
     },
     "execution_count": 13,
     "metadata": {},
     "output_type": "execute_result"
    }
   ],
   "source": [
    "# Example to plot/visualize error bars (i.e. confidence intervals):\n",
    "\n",
    "# In the example: we had data of thousands of cars, we know their model\n",
    "# and whether or not they broke down in the first month of owning them.\n",
    "# We grouped by model and then calculated the percent that broke down\n",
    "# in the first month for each group (i.e. estimated the bias of the breakdown 'coin')\n",
    "# Say we have a dataframe that has mean averaged along each column:\n",
    "\n",
    "import pandas as pd\n",
    "\n",
    "df = pd.DataFrame({\n",
    "    'Avg Breakdown Rate': [\n",
    "        13.5,\n",
    "        31.9,\n",
    "        20.1,\n",
    "        15.9\n",
    "    ],\n",
    "    'SE': [\n",
    "        1.5,\n",
    "        2.0,\n",
    "        0.8,\n",
    "        2.4\n",
    "    ],\n",
    "    'Model': [\n",
    "        'Model X', \n",
    "        'Model Y', \n",
    "        'Model Z', \n",
    "        'Model A',\n",
    "    ]\n",
    "})\n",
    "\n",
    "df\n"
   ]
  },
  {
   "cell_type": "code",
   "execution_count": 14,
   "id": "b60b1beb-a65a-4bdc-964b-4f2182bb2481",
   "metadata": {},
   "outputs": [
    {
     "data": {
      "text/plain": [
       "<BarContainer object of 4 artists>"
      ]
     },
     "execution_count": 14,
     "metadata": {},
     "output_type": "execute_result"
    },
    {
     "data": {
      "image/png": "[encoded data removed]",
      "text/plain": [
       "<Figure size 432x288 with 1 Axes>"
      ]
     },
     "metadata": {
      "needs_background": "light"
     },
     "output_type": "display_data"
    }
   ],
   "source": [
    "plt.bar(df['Model'], df['Avg Breakdown Rate'], yerr=df['SE'], capsize=5)"
   ]
  },
  {
   "cell_type": "code",
   "execution_count": 15,
   "id": "7afbb141-ed8b-4e37-b53a-cf739cfafd02",
   "metadata": {},
   "outputs": [
    {
     "data": {
      "text/html": [
       "<div>\n",
       "<style scoped>\n",
       "    .dataframe tbody tr th:only-of-type {\n",
       "        vertical-align: middle;\n",
       "    }\n",
       "\n",
       "    .dataframe tbody tr th {\n",
       "        vertical-align: top;\n",
       "    }\n",
       "\n",
       "    .dataframe thead th {\n",
       "        text-align: right;\n",
       "    }\n",
       "</style>\n",
       "<table border=\"1\" class=\"dataframe\">\n",
       "  <thead>\n",
       "    <tr style=\"text-align: right;\">\n",
       "      <th></th>\n",
       "      <th>Brokedown</th>\n",
       "    </tr>\n",
       "    <tr>\n",
       "      <th>Model</th>\n",
       "      <th></th>\n",
       "    </tr>\n",
       "  </thead>\n",
       "  <tbody>\n",
       "    <tr>\n",
       "      <th>Model A</th>\n",
       "      <td>0.195833</td>\n",
       "    </tr>\n",
       "    <tr>\n",
       "      <th>Model X</th>\n",
       "      <td>0.215278</td>\n",
       "    </tr>\n",
       "    <tr>\n",
       "      <th>Model Y</th>\n",
       "      <td>0.137778</td>\n",
       "    </tr>\n",
       "    <tr>\n",
       "      <th>Model Z</th>\n",
       "      <td>0.202429</td>\n",
       "    </tr>\n",
       "  </tbody>\n",
       "</table>\n",
       "</div>"
      ],
      "text/plain": [
       "         Brokedown\n",
       "Model             \n",
       "Model A   0.195833\n",
       "Model X   0.215278\n",
       "Model Y   0.137778\n",
       "Model Z   0.202429"
      ]
     },
     "execution_count": 15,
     "metadata": {},
     "output_type": "execute_result"
    }
   ],
   "source": [
    "N = 1000\n",
    "cars = pd.DataFrame({\n",
    "    'Brokedown': np.random.choice([0,1], size=N, p=[0.8, 0.2]),\n",
    "    'Model': np.random.choice(['Model X', 'Model Y', 'Model Z', 'Model A'], size=N)\n",
    "})\n",
    "cars.groupby('Model').mean()"
   ]
  },
  {
   "cell_type": "markdown",
   "id": "0c64bac9-ab6d-4ac9-be33-0f7b9dd14737",
   "metadata": {},
   "source": [
    "**In a pratical setting with actual data:** We can't _just_ get more data. So what to do to get the estimates for $\\sigma$ and $\\bar{x}$?\n",
    "\n",
    "- Work with subsets of the full data!\n",
    "  - Partition into disjoint subsets\n",
    "    - Potential bias within each group with structured partitioning/slicing\n",
    "    - Shuffle first, then slice successive subsets\n",
    "    - You can then measure the variability between each subgroup and \"propogate\" through to final estimate\n",
    "  - Partition into fixed size subsets but with replacement"
   ]
  },
  {
   "cell_type": "code",
   "execution_count": 16,
   "id": "36cfdbf0-7456-4476-8233-f9139d26763b",
   "metadata": {},
   "outputs": [],
   "source": [
    "cars2 = cars.reset_index()\n",
    "subsets = [\n",
    "    #[cars.loc[np.random.choice(np.arange(1,len(cars)),size=1)] for i in range(0,100)]\n",
    "    cars2[[cars2.loc[i]['index'] in np.random.choice(np.arange(1,len(cars)),size=1) for i in range(0,len(cars2))]]\n",
    "    for j in range(0,31)]"
   ]
  },
  {
   "cell_type": "code",
   "execution_count": 17,
   "id": "58123c93-3a17-42d5-83a2-e42268f0ccb3",
   "metadata": {},
   "outputs": [
    {
     "data": {
      "text/html": [
       "<div>\n",
       "<style scoped>\n",
       "    .dataframe tbody tr th:only-of-type {\n",
       "        vertical-align: middle;\n",
       "    }\n",
       "\n",
       "    .dataframe tbody tr th {\n",
       "        vertical-align: top;\n",
       "    }\n",
       "\n",
       "    .dataframe thead th {\n",
       "        text-align: right;\n",
       "    }\n",
       "</style>\n",
       "<table border=\"1\" class=\"dataframe\">\n",
       "  <thead>\n",
       "    <tr style=\"text-align: right;\">\n",
       "      <th></th>\n",
       "      <th>index</th>\n",
       "      <th>Brokedown</th>\n",
       "      <th>Model</th>\n",
       "    </tr>\n",
       "  </thead>\n",
       "  <tbody>\n",
       "    <tr>\n",
       "      <th>562</th>\n",
       "      <td>562</td>\n",
       "      <td>0</td>\n",
       "      <td>Model Y</td>\n",
       "    </tr>\n",
       "  </tbody>\n",
       "</table>\n",
       "</div>"
      ],
      "text/plain": [
       "     index  Brokedown    Model\n",
       "562    562          0  Model Y"
      ]
     },
     "execution_count": 17,
     "metadata": {},
     "output_type": "execute_result"
    }
   ],
   "source": [
    "subsets[2]"
   ]
  },
  {
   "cell_type": "code",
   "execution_count": 18,
   "id": "7e188f5b-760e-4bfb-9031-3c4719ace689",
   "metadata": {},
   "outputs": [
    {
     "data": {
      "text/html": [
       "<div>\n",
       "<style scoped>\n",
       "    .dataframe tbody tr th:only-of-type {\n",
       "        vertical-align: middle;\n",
       "    }\n",
       "\n",
       "    .dataframe tbody tr th {\n",
       "        vertical-align: top;\n",
       "    }\n",
       "\n",
       "    .dataframe thead th {\n",
       "        text-align: right;\n",
       "    }\n",
       "</style>\n",
       "<table border=\"1\" class=\"dataframe\">\n",
       "  <thead>\n",
       "    <tr style=\"text-align: right;\">\n",
       "      <th></th>\n",
       "      <th>Brokedown</th>\n",
       "      <th>Model</th>\n",
       "    </tr>\n",
       "  </thead>\n",
       "  <tbody>\n",
       "    <tr>\n",
       "      <th>0</th>\n",
       "      <td>0</td>\n",
       "      <td>Model X</td>\n",
       "    </tr>\n",
       "    <tr>\n",
       "      <th>1</th>\n",
       "      <td>0</td>\n",
       "      <td>Model X</td>\n",
       "    </tr>\n",
       "    <tr>\n",
       "      <th>2</th>\n",
       "      <td>0</td>\n",
       "      <td>Model A</td>\n",
       "    </tr>\n",
       "    <tr>\n",
       "      <th>3</th>\n",
       "      <td>0</td>\n",
       "      <td>Model X</td>\n",
       "    </tr>\n",
       "    <tr>\n",
       "      <th>4</th>\n",
       "      <td>1</td>\n",
       "      <td>Model Y</td>\n",
       "    </tr>\n",
       "    <tr>\n",
       "      <th>...</th>\n",
       "      <td>...</td>\n",
       "      <td>...</td>\n",
       "    </tr>\n",
       "    <tr>\n",
       "      <th>995</th>\n",
       "      <td>0</td>\n",
       "      <td>Model A</td>\n",
       "    </tr>\n",
       "    <tr>\n",
       "      <th>996</th>\n",
       "      <td>0</td>\n",
       "      <td>Model A</td>\n",
       "    </tr>\n",
       "    <tr>\n",
       "      <th>997</th>\n",
       "      <td>0</td>\n",
       "      <td>Model Y</td>\n",
       "    </tr>\n",
       "    <tr>\n",
       "      <th>998</th>\n",
       "      <td>0</td>\n",
       "      <td>Model Y</td>\n",
       "    </tr>\n",
       "    <tr>\n",
       "      <th>999</th>\n",
       "      <td>0</td>\n",
       "      <td>Model X</td>\n",
       "    </tr>\n",
       "  </tbody>\n",
       "</table>\n",
       "<p>1000 rows × 2 columns</p>\n",
       "</div>"
      ],
      "text/plain": [
       "     Brokedown    Model\n",
       "0            0  Model X\n",
       "1            0  Model X\n",
       "2            0  Model A\n",
       "3            0  Model X\n",
       "4            1  Model Y\n",
       "..         ...      ...\n",
       "995          0  Model A\n",
       "996          0  Model A\n",
       "997          0  Model Y\n",
       "998          0  Model Y\n",
       "999          0  Model X\n",
       "\n",
       "[1000 rows x 2 columns]"
      ]
     },
     "execution_count": 18,
     "metadata": {},
     "output_type": "execute_result"
    }
   ],
   "source": [
    "cars"
   ]
  },
  {
   "cell_type": "markdown",
   "id": "0f15e78e-21e7-4b34-9d27-70bfa0400656",
   "metadata": {},
   "source": [
    "# Hypothesis Testing\n",
    "\n",
    "Idea: reverse the logic of confidence intervals to either accept or reject a conclusion based on the probability of it happening, as observed by some samples.\n",
    "\n",
    "What we need is a *null hypothesis* ofthen called $H_0$.\n",
    "This needs to be some fact about a quantity\n",
    "\n",
    "# Coming up after that: conditional probability and algorithms using it"
   ]
  },
  {
   "cell_type": "code",
   "execution_count": null,
   "id": "76466824-eb70-4e8d-bd78-1a43ba1e9793",
   "metadata": {},
   "outputs": [],
   "source": []
  }
 ],
 "metadata": {
  "kernelspec": {
   "display_name": "Python 3 (ipykernel)",
   "language": "python",
   "name": "python3"
  },
  "language_info": {
   "codemirror_mode": {
    "name": "ipython",
    "version": 3
   },
   "file_extension": ".py",
   "mimetype": "text/x-python",
   "name": "python",
   "nbconvert_exporter": "python",
   "pygments_lexer": "ipython3",
   "version": "3.8.8"
  }
 },
 "nbformat": 4,
 "nbformat_minor": 5
}
