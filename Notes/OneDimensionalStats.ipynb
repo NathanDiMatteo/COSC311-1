{
 "cells": [
  {
   "cell_type": "markdown",
   "id": "2a92e0c3-519d-4f4e-b637-963d64ee6b96",
   "metadata": {},
   "source": [
    "# 1-D Statistical Tools\n",
    "\n",
    "When we are presented with sets of raw data from some observation,\n",
    "we need to be able to systematically quantify its various properties.\n",
    "\n",
    "**This is the purpose of most 1-D descriptive statistics**\n",
    "\n",
    "- Quantify the _\"average\"_ value present (**mean**)\n",
    "\n",
    "$$ \\hat{x} := \\frac{1}{N} \\sum{i=1}^{N} x_i $$\n",
    " \n",
    "- The \"center\" of the data set (**median**)\n",
    "- Values that appear more or less frequently (**mode**)\n",
    "- Extremes of the data (**Min/Max**)\n",
    "- Measures of \"spread\", how varied is it? (**Std. Deviation**)\n",
    "\n",
    "$$ std(X) := \\sqrt{\\sigma^2_x} $$\n",
    "\n",
    "- Variance is : $$\\frac{1}{N-1} \\sum{i=1}^{N} (x_i - \\overline{x})^2$$\n",
    "\n",
    "- Covarience is similar to the variance, but instead of the average square distance to the mean, its the average product of differences with their means: $$ cov(X,Y) := \\frac{1}{N-1} \\sum_{i=1}^{N} (x_i - \\bar{x}) (y_i - \\bar{y}) $$\n",
    "\n",
    "_Note: then the covarience generalizes variance in the sense that_\n",
    "\n",
    "$$ var(X) := cov(X,X) $$\n",
    "\n",
    "- Correlation between two sample populations/events/processes is measure of their relationship. Typically given by a '**correlation coefficient**' that is in range (-1,1). A positive correlation means that when the value of the first process/observation is higher, so will the other one be; i.e (they increase together) Negative means they have an inverse relationship. To define this, we need to define the '**covariance**' between the samples.\n",
    "\n",
    "$$ \\sigma_{x,y} := \\frac{cov(X,Y)}{\\sigma_x \\sigma_y} $$\n"
   ]
  },
  {
   "cell_type": "markdown",
   "id": "ba3b4519-1f0f-4a9e-89db-dc2501d00eca",
   "metadata": {},
   "source": [
    "## First, some discussion on Python Modules\n",
    "\n",
    "We want to, in Python, be able to import not only nice build-in libraries, but code we wrote ourselves! Similar to, in 'c++', being able to '#include' other '.cpp' files.\n",
    "\n",
    "We with Python 'modules' -- which for us will just mean single files with definetiions of cunction/untility variables inside.\n",
    "\n",
    "### Idea:\n",
    "- Write your python tools, funcitons, etc... in some file that ends in '.py', ex. 'stats.py'\n",
    "- If the file is local to your current other Python file or Notebook, you can simple 'import' that file by name (without the .py), e.g. import stats\n",
    "- This then loads all the constituent definitions into a scope named by the import, e.g. a function called 'mean' defined in 'stats.py' will be accessible via 'stats.mean'\n",
    "- NB: if using a notebook or kernel-based environment, either have to unload and reload the module to refresh its contents or restart your kernal"
   ]
  },
  {
   "cell_type": "code",
   "execution_count": 1,
   "id": "523717b3-9d7e-430f-afcc-ee67625129cd",
   "metadata": {},
   "outputs": [],
   "source": [
    "# Every variable, function, etc... \n",
    "# in the top-level scope is now here! and located under the \"stats\" scope\n",
    "# When you import, it essentially does 'python stats.py' and stores the definitions/variables\n",
    "# IF YOU CHANGE THE .py, YOU MUST RERUN THIS TO RELOAD THE FILE\n",
    "import stats \n",
    "import numpy as np"
   ]
  },
  {
   "cell_type": "code",
   "execution_count": 2,
   "id": "362051dc-df4d-4402-95ac-cc9317e3aeba",
   "metadata": {},
   "outputs": [
    {
     "data": {
      "text/plain": [
       "4.0"
      ]
     },
     "execution_count": 2,
     "metadata": {},
     "output_type": "execute_result"
    }
   ],
   "source": [
    "stats.mean([1,2,3,5,6,7])"
   ]
  },
  {
   "cell_type": "code",
   "execution_count": 3,
   "id": "38eb6abd-cb1d-4070-97ea-6838fa23a9ca",
   "metadata": {},
   "outputs": [
    {
     "data": {
      "text/plain": [
       "1.5"
      ]
     },
     "execution_count": 3,
     "metadata": {},
     "output_type": "execute_result"
    }
   ],
   "source": [
    "stats.median([1,2])"
   ]
  },
  {
   "cell_type": "code",
   "execution_count": 5,
   "id": "4abdcda8-7bad-45a5-b802-ee3d7aed8ffe",
   "metadata": {},
   "outputs": [
    {
     "data": {
      "text/plain": [
       "1.25"
      ]
     },
     "execution_count": 5,
     "metadata": {},
     "output_type": "execute_result"
    }
   ],
   "source": [
    "stats.var([2,3,4,5,])"
   ]
  },
  {
   "cell_type": "code",
   "execution_count": null,
   "id": "43fa79cb-7f0c-4831-b3af-9e6a7355283c",
   "metadata": {},
   "outputs": [],
   "source": []
  }
 ],
 "metadata": {
  "kernelspec": {
   "display_name": "Python 3 (ipykernel)",
   "language": "python",
   "name": "python3"
  },
  "language_info": {
   "codemirror_mode": {
    "name": "ipython",
    "version": 3
   },
   "file_extension": ".py",
   "mimetype": "text/x-python",
   "name": "python",
   "nbconvert_exporter": "python",
   "pygments_lexer": "ipython3",
   "version": "3.8.8"
  }
 },
 "nbformat": 4,
 "nbformat_minor": 5
}
