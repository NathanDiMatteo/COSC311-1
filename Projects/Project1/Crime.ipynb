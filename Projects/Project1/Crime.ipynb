{
 "cells": [
  {
   "cell_type": "code",
   "execution_count": 3,
   "id": "bc9d5490-46c2-424c-b146-3448a2d6079c",
   "metadata": {},
   "outputs": [],
   "source": [
    "# import stuff\n",
    "import pandas as p\n",
    "import numpy as n\n",
    "import seaborn as s"
   ]
  },
  {
   "cell_type": "markdown",
   "id": "ccfe1df6-a53a-4ae1-ad04-2522ab7570f1",
   "metadata": {},
   "source": [
    "## Data Set 3; Crime in Baltimore\n",
    "\n",
    "This is the data set containing the selling price predictions of 14k 2nd hand cars.\n",
    "\n",
    "[csv link](https://www.kaggle.com/sohier/crime-in-baltimore)\n",
    "\n",
    "### Useful Stats:\n",
    "- Size of set ~> 276,530\n",
    "- Columns ~> 15"
   ]
  },
  {
   "cell_type": "code",
   "execution_count": 26,
   "id": "734dd6b7-da37-41d9-a8bc-ce49ce94845d",
   "metadata": {},
   "outputs": [],
   "source": [
    "crime = p.read_csv('data/crime.csv', header = None, skipinitialspace = True, encoding = 'latin-1', low_memory = False, skiprows = 1,\n",
    "                  names = ['CrimeDate' , 'CrimeTime', 'CrimeCode', 'Location', 'Description' , 'Inside/Outside', 'Weapon', 'Post', 'District', \n",
    "                          'Neighborhood', 'Longitude', 'Latitude', 'Coordinates', 'Premise', 'Total Incidents']\n",
    "                  )\n",
    "p.set_option('display.max_rows', 10)"
   ]
  },
  {
   "cell_type": "code",
   "execution_count": 42,
   "id": "df18a47e-9694-4845-a8e9-a7533d584902",
   "metadata": {},
   "outputs": [
    {
     "data": {
      "text/plain": [
       "False"
      ]
     },
     "execution_count": 42,
     "metadata": {},
     "output_type": "execute_result"
    }
   ],
   "source": [
    "# to check for null values\n",
    "crime['Total Incidents'].isnull().values.any()"
   ]
  },
  {
   "cell_type": "markdown",
   "id": "48b0ea33-0a34-4121-806a-f66a5e510b08",
   "metadata": {},
   "source": [
    "A) The data we are sampling is the crime data in Baltimore from the years 2012-2017\n",
    "\n",
    "B) The features being measured are all the information about a crime. Including all the data needed besides the name of the person who did the crime or the victim. This data gives all information available about a certain crime.\n",
    "\n",
    "C) The only continuous features are crime time,longitude, latitude, and the cooridantes, the rest of the features are discrete. Date is the only feature that is both discrete and continuous.\n",
    "\n",
    "### Qualitative and Nominal: \n",
    "    - CrimeCode\n",
    "    - CrimeDate\n",
    "    - CrimeTime\n",
    "    - Location\n",
    "    - Description\n",
    "    - Inside/Outside\n",
    "    - Weapon\n",
    "    - Description\n",
    "    - Neighborhood\n",
    "    - Premise\n",
    "    - Coordinates\n",
    "       \n",
    "### Quanatative and Ordinal:\n",
    "     - Post\n",
    "     - Longitude\n",
    "     - Latitude\n",
    "     - Total Incidents\n",
    "        \n",
    "D) The features that include null values are as follows:\n",
    "* Weapons\n",
    "* Location\n",
    "* Inside/Outside\n",
    "* Post\n",
    "* District\n",
    "* Neighborhood\n",
    "* Lontitude\n",
    "* Latitude\n",
    "* Coordinates\n",
    "* Premise\n",
    "\n",
    "These are still important to include because the crimes need to be stored. Although not all of the information is available, the crimes still happened and need/have been investigated. "
   ]
  },
  {
   "cell_type": "code",
   "execution_count": null,
   "id": "d1e08d84-4ccd-4b8d-9488-0d62341ac7f5",
   "metadata": {},
   "outputs": [],
   "source": []
  }
 ],
 "metadata": {
  "kernelspec": {
   "display_name": "Python 3 (ipykernel)",
   "language": "python",
   "name": "python3"
  },
  "language_info": {
   "codemirror_mode": {
    "name": "ipython",
    "version": 3
   },
   "file_extension": ".py",
   "mimetype": "text/x-python",
   "name": "python",
   "nbconvert_exporter": "python",
   "pygments_lexer": "ipython3",
   "version": "3.8.8"
  }
 },
 "nbformat": 4,
 "nbformat_minor": 5
}
