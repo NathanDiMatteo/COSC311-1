{
 "cells": [
  {
   "cell_type": "code",
   "execution_count": 2,
   "id": "bc9d5490-46c2-424c-b146-3448a2d6079c",
   "metadata": {},
   "outputs": [],
   "source": [
    "# import stuff\n",
    "import pandas as p\n",
    "import numpy as n\n",
    "import seaborn as s"
   ]
  },
  {
   "cell_type": "markdown",
   "id": "ccfe1df6-a53a-4ae1-ad04-2522ab7570f1",
   "metadata": {},
   "source": [
    "## Data Set 3; Crime in Baltimore\n",
    "\n",
    "This is the data set containing the selling price predictions of 14k 2nd hand cars.\n",
    "\n",
    "[csv link](https://www.kaggle.com/sohier/crime-in-baltimore)\n",
    "\n",
    "### Useful Stats:\n",
    "- Size of set ~> 276,530\n",
    "- Columns ~> 15"
   ]
  },
  {
   "cell_type": "code",
   "execution_count": 3,
   "id": "734dd6b7-da37-41d9-a8bc-ce49ce94845d",
   "metadata": {},
   "outputs": [
    {
     "data": {
      "text/plain": [
       "276530"
      ]
     },
     "execution_count": 3,
     "metadata": {},
     "output_type": "execute_result"
    }
   ],
   "source": [
    "crime = p.read_csv('data/crime.csv', header = None, skipinitialspace = True, encoding = 'latin-1', low_memory = False)\n",
    "len(crime)"
   ]
  },
  {
   "cell_type": "code",
   "execution_count": null,
   "id": "df18a47e-9694-4845-a8e9-a7533d584902",
   "metadata": {},
   "outputs": [],
   "source": []
  }
 ],
 "metadata": {
  "kernelspec": {
   "display_name": "Python 3 (ipykernel)",
   "language": "python",
   "name": "python3"
  },
  "language_info": {
   "codemirror_mode": {
    "name": "ipython",
    "version": 3
   },
   "file_extension": ".py",
   "mimetype": "text/x-python",
   "name": "python",
   "nbconvert_exporter": "python",
   "pygments_lexer": "ipython3",
   "version": "3.8.8"
  }
 },
 "nbformat": 4,
 "nbformat_minor": 5
}
