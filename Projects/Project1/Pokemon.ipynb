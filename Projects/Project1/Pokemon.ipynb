{
 "cells": [
  {
   "cell_type": "code",
   "execution_count": 1,
   "id": "6cf46833-4200-4db8-ae14-2246fd82b988",
   "metadata": {},
   "outputs": [],
   "source": [
    "# import stuff\n",
    "import pandas as p\n",
    "import numpy as n\n",
    "import seaborn as s"
   ]
  },
  {
   "cell_type": "markdown",
   "id": "9111a555-b70b-4433-8951-bb7b01a372ab",
   "metadata": {},
   "source": [
    "## Data Set 1; Pokemon :)\n",
    "\n",
    "This is the data set containing the selling price predictions of 14k 2nd hand cars.\n",
    "\n",
    "[csv link](https://www.kaggle.com/hamdallak/the-world-of-pokemons)\n",
    "\n",
    "### Useful Stats:\n",
    "- Size of set ~> 276,530\n",
    "- Columns ~> 15"
   ]
  },
  {
   "cell_type": "code",
   "execution_count": null,
   "id": "89ab2e6b-685f-4734-9a43-5d5a5eaf936a",
   "metadata": {},
   "outputs": [],
   "source": [
    "pokemon = p.read_csv('data/pokemon.csv', header = None, skipinitialspace = True, encoding = 'latin-1', low_memory = False)"
   ]
  }
 ],
 "metadata": {
  "kernelspec": {
   "display_name": "Python 3 (ipykernel)",
   "language": "python",
   "name": "python3"
  },
  "language_info": {
   "codemirror_mode": {
    "name": "ipython",
    "version": 3
   },
   "file_extension": ".py",
   "mimetype": "text/x-python",
   "name": "python",
   "nbconvert_exporter": "python",
   "pygments_lexer": "ipython3",
   "version": "3.8.8"
  }
 },
 "nbformat": 4,
 "nbformat_minor": 5
}
