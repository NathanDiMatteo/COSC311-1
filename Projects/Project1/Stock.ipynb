{
 "cells": [
  {
   "cell_type": "code",
   "execution_count": 4,
   "id": "ce74c876-440f-4343-9c01-21a232bf84a2",
   "metadata": {},
   "outputs": [],
   "source": [
    "# import stuff\n",
    "import pandas as p\n",
    "import numpy as n\n",
    "import seaborn as s"
   ]
  },
  {
   "cell_type": "markdown",
   "id": "316e2bb5-bf56-4685-b0fd-e0510cbc15fd",
   "metadata": {},
   "source": [
    "## Data Set 2; Stock Exchange Data\n",
    "\n",
    "This is the data set containing the stock market information for 14 unique exchanges over the span of 12-31-1965 to 06-03-2021.\n",
    "\n",
    "There are 3 csv files, but for this project, we will only be using indexData.csv. This has all the null values and extra data that indexProcessed.csv does not. \n",
    "\n",
    "[csv link](https://www.kaggle.com/mattiuzc/stock-exchange-data)\n",
    "\n",
    "\n",
    "### Useful Stats:\n",
    "- Size of set ~> 112,458\n",
    "- Columns ~> 8"
   ]
  },
  {
   "cell_type": "code",
   "execution_count": 6,
   "id": "7bf13981-6e40-4690-b9a3-48a0966af13f",
   "metadata": {},
   "outputs": [
    {
     "data": {
      "text/plain": [
       "112458"
      ]
     },
     "execution_count": 6,
     "metadata": {},
     "output_type": "execute_result"
    }
   ],
   "source": [
    "stock = p.read_csv('data/indexData.csv', header = None, skipinitialspace = True, encoding = 'latin-1', low_memory = False)\n",
    "len(stock)"
   ]
  },
  {
   "cell_type": "code",
   "execution_count": null,
   "id": "d71828c6-ad78-4b80-984f-a72571b3811b",
   "metadata": {},
   "outputs": [],
   "source": []
  }
 ],
 "metadata": {
  "kernelspec": {
   "display_name": "Python 3 (ipykernel)",
   "language": "python",
   "name": "python3"
  },
  "language_info": {
   "codemirror_mode": {
    "name": "ipython",
    "version": 3
   },
   "file_extension": ".py",
   "mimetype": "text/x-python",
   "name": "python",
   "nbconvert_exporter": "python",
   "pygments_lexer": "ipython3",
   "version": "3.8.8"
  }
 },
 "nbformat": 4,
 "nbformat_minor": 5
}
