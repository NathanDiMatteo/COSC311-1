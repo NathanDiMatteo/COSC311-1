{
 "cells": [
  {
   "cell_type": "code",
   "execution_count": 12,
   "id": "c8a46184-c3cc-4f36-9e5f-5757dbbd9a5b",
   "metadata": {},
   "outputs": [],
   "source": [
    "#import stuff\n",
    "import pandas as pd\n",
    "import numpy as np\n",
    "import seaborn as s\n",
    "from matplotlib import pyplot as plt\n",
    "import numpy.linalg as la\n",
    "import lib as l\n",
    "import copy\n",
    "import tqdm\n",
    "from sklearn.metrics import confusion_matrix as cm"
   ]
  },
  {
   "cell_type": "code",
   "execution_count": 66,
   "id": "7637373f-9719-41bb-bf70-82cf3b7875b5",
   "metadata": {},
   "outputs": [],
   "source": [
    "#import data\n",
    "pokemon = pd.read_csv('data/pokemon.csv', header = None, \n",
    "                     skiprows=1, encoding = 'latin-1', low_memory = False,\n",
    "                    names = ['Name', 'Version', 'Primary Type' ,'Secondary Type', 'Stage' ,'Attack', 'Defense' , 'HP', 'Sp. Attack', 'Sp. Defense', 'Speed', 'Total', 'Legendary']\n",
    ")\n",
    "noMega = pokemon[pokemon['Version'].isnull()] # for KNN alg\n",
    "\n",
    "img = plt.imread(\"logo.png\") # get the pokemon logo :)"
   ]
  },
  {
   "cell_type": "markdown",
   "id": "cff7218c-60fa-4b6b-a7b9-1bf30fadd971",
   "metadata": {},
   "source": [
    "# Question 1;\n",
    "\n",
    "This is the data set of all current pokemon as of 11/23/21. This represents a statistical outlook of the 1045 pokemon. This includes legendaries, mythical, and mega evolution variants. Their attributes are broken down into 7 numerical categories. They represents how strong the corresponding attribute of the pokemon is. So the higher the value, the stronger the attribute will be. The categories are as follows:\n",
    "\n",
    "    - HP\n",
    "    - Attack\n",
    "    - Defense\n",
    "    - Special Attack\n",
    "    - Special Defense\n",
    "    - Speed\n",
    "    - Total\n",
    "    \n",
    "These are not the actual values of the attributes. _i.e._ If I have a Lvl 100 Venusaur, I won't have 82 Attack. It is more like a scale that determines the boundaries that a pokemon's attributes are tied to. \n",
    "\n",
    "# Question 2;\n",
    "\n",
    "There are few, not so obvious **classes** that are present in this data set. One of which can be determining if a pokemon is considered _Statistically Strong_. This has a vague definition, but generally the higher the pokemon's attributes are, the better they can do in battle. For our purpose, we will define statistically strong as _having a higher total than 500, as well as having at least 3 of their 6 attributes being in the third quartile of all values._ This will hopefully eliminate any outliers or pokemon that have all their power in a few stats. **(Blissey)**\n",
    "\n",
    "Another class is whether the pokemon have a secondary type or not. There really is no correlation with the data we currently have, but if we added a column that gave us the evolution stage that a pokemon is in, (1, 2, or 3), we could define secondary types with evolution stage as a potential class. \n",
    "\n",
    "## Important Statistics & Info of the Set:\n",
    "\n",
    "1. We will be excluding ALL mega evolution forms of pokemon as well as **Eternamax** for our KNN alg because they will cause some annoying skewing.\n",
    "\n",
    "2. For our K-means clustering algorithm, we will be including all 1045 pokemon. This will prove our point later on that K-means is NOT a good algorithm to use on this data set.\n",
    "\n",
    "We will provide some basic stats about our set below:"
   ]
  },
  {
   "cell_type": "code",
   "execution_count": 4,
   "id": "e217e8c0-2fdb-4114-ba8e-f1ae67ef7865",
   "metadata": {},
   "outputs": [
    {
     "data": {
      "text/html": [
       "<div>\n",
       "<style scoped>\n",
       "    .dataframe tbody tr th:only-of-type {\n",
       "        vertical-align: middle;\n",
       "    }\n",
       "\n",
       "    .dataframe tbody tr th {\n",
       "        vertical-align: top;\n",
       "    }\n",
       "\n",
       "    .dataframe thead th {\n",
       "        text-align: right;\n",
       "    }\n",
       "</style>\n",
       "<table border=\"1\" class=\"dataframe\">\n",
       "  <thead>\n",
       "    <tr style=\"text-align: right;\">\n",
       "      <th></th>\n",
       "      <th>Stage</th>\n",
       "      <th>Attack</th>\n",
       "      <th>Defense</th>\n",
       "      <th>HP</th>\n",
       "      <th>Sp. Attack</th>\n",
       "      <th>Sp. Defense</th>\n",
       "      <th>Speed</th>\n",
       "      <th>Total</th>\n",
       "    </tr>\n",
       "  </thead>\n",
       "  <tbody>\n",
       "    <tr>\n",
       "      <th>count</th>\n",
       "      <td>870.000</td>\n",
       "      <td>870.000</td>\n",
       "      <td>870.000</td>\n",
       "      <td>870.000</td>\n",
       "      <td>870.000</td>\n",
       "      <td>870.000</td>\n",
       "      <td>870.000</td>\n",
       "      <td>870.000</td>\n",
       "    </tr>\n",
       "    <tr>\n",
       "      <th>mean</th>\n",
       "      <td>1.614</td>\n",
       "      <td>76.017</td>\n",
       "      <td>71.511</td>\n",
       "      <td>68.706</td>\n",
       "      <td>69.117</td>\n",
       "      <td>69.387</td>\n",
       "      <td>65.143</td>\n",
       "      <td>419.882</td>\n",
       "    </tr>\n",
       "    <tr>\n",
       "      <th>std</th>\n",
       "      <td>0.704</td>\n",
       "      <td>29.471</td>\n",
       "      <td>29.533</td>\n",
       "      <td>26.272</td>\n",
       "      <td>29.061</td>\n",
       "      <td>26.859</td>\n",
       "      <td>28.110</td>\n",
       "      <td>110.641</td>\n",
       "    </tr>\n",
       "    <tr>\n",
       "      <th>min</th>\n",
       "      <td>1.000</td>\n",
       "      <td>5.000</td>\n",
       "      <td>5.000</td>\n",
       "      <td>1.000</td>\n",
       "      <td>10.000</td>\n",
       "      <td>20.000</td>\n",
       "      <td>5.000</td>\n",
       "      <td>180.000</td>\n",
       "    </tr>\n",
       "    <tr>\n",
       "      <th>25%</th>\n",
       "      <td>1.000</td>\n",
       "      <td>55.000</td>\n",
       "      <td>50.000</td>\n",
       "      <td>50.000</td>\n",
       "      <td>45.000</td>\n",
       "      <td>50.000</td>\n",
       "      <td>45.000</td>\n",
       "      <td>320.000</td>\n",
       "    </tr>\n",
       "    <tr>\n",
       "      <th>50%</th>\n",
       "      <td>1.000</td>\n",
       "      <td>75.000</td>\n",
       "      <td>67.000</td>\n",
       "      <td>65.000</td>\n",
       "      <td>65.000</td>\n",
       "      <td>65.000</td>\n",
       "      <td>64.000</td>\n",
       "      <td>430.000</td>\n",
       "    </tr>\n",
       "    <tr>\n",
       "      <th>75%</th>\n",
       "      <td>2.000</td>\n",
       "      <td>95.000</td>\n",
       "      <td>90.000</td>\n",
       "      <td>80.000</td>\n",
       "      <td>90.000</td>\n",
       "      <td>85.000</td>\n",
       "      <td>85.000</td>\n",
       "      <td>500.000</td>\n",
       "    </tr>\n",
       "    <tr>\n",
       "      <th>max</th>\n",
       "      <td>3.000</td>\n",
       "      <td>181.000</td>\n",
       "      <td>230.000</td>\n",
       "      <td>255.000</td>\n",
       "      <td>173.000</td>\n",
       "      <td>230.000</td>\n",
       "      <td>200.000</td>\n",
       "      <td>720.000</td>\n",
       "    </tr>\n",
       "  </tbody>\n",
       "</table>\n",
       "</div>"
      ],
      "text/plain": [
       "         Stage   Attack  Defense       HP  Sp. Attack  Sp. Defense    Speed  \\\n",
       "count  870.000  870.000  870.000  870.000     870.000      870.000  870.000   \n",
       "mean     1.614   76.017   71.511   68.706      69.117       69.387   65.143   \n",
       "std      0.704   29.471   29.533   26.272      29.061       26.859   28.110   \n",
       "min      1.000    5.000    5.000    1.000      10.000       20.000    5.000   \n",
       "25%      1.000   55.000   50.000   50.000      45.000       50.000   45.000   \n",
       "50%      1.000   75.000   67.000   65.000      65.000       65.000   64.000   \n",
       "75%      2.000   95.000   90.000   80.000      90.000       85.000   85.000   \n",
       "max      3.000  181.000  230.000  255.000     173.000      230.000  200.000   \n",
       "\n",
       "         Total  \n",
       "count  870.000  \n",
       "mean   419.882  \n",
       "std    110.641  \n",
       "min    180.000  \n",
       "25%    320.000  \n",
       "50%    430.000  \n",
       "75%    500.000  \n",
       "max    720.000  "
      ]
     },
     "execution_count": 4,
     "metadata": {},
     "output_type": "execute_result"
    }
   ],
   "source": [
    "stats = noMega.describe().round(3)\n",
    "stats"
   ]
  },
  {
   "cell_type": "code",
   "execution_count": 5,
   "id": "eda25dc6-a0a3-4053-8eb9-878930e505d9",
   "metadata": {},
   "outputs": [
    {
     "data": {
      "text/plain": [
       "<matplotlib.image.AxesImage at 0x7fa27a784fa0>"
      ]
     },
     "execution_count": 5,
     "metadata": {},
     "output_type": "execute_result"
    },
    {
     "data": {
      "image/png": "[encoded data removed]",
      "text/plain": [
       "<Figure size 432x288 with 1 Axes>"
      ]
     },
     "metadata": {
      "needs_background": "light"
     },
     "output_type": "display_data"
    }
   ],
   "source": [
    "#distribution of total values (no mega or eternamax)\n",
    "noMega['Total'].hist(color = 'red', ec = 'black', grid = False, bins = 7)\n",
    "plt.title(\"Distribution of Total Pokemon Stats\")\n",
    "plt.xlabel(\"Total Values\")\n",
    "plt.ylabel(\"Count\")\n",
    "plt.imshow(img, extent = [150, 800, 0, 300])"
   ]
  },
  {
   "cell_type": "markdown",
   "id": "fef188f6-1fd9-447c-9f55-3bdd8d7a03fc",
   "metadata": {},
   "source": [
    "# K-nearest Neighbors Algorithm"
   ]
  },
  {
   "cell_type": "code",
   "execution_count": 80,
   "id": "88630db3-345e-4810-b6ae-9b1baefade0d",
   "metadata": {},
   "outputs": [
    {
     "data": {
      "image/png": "[encoded data removed]",
      "text/plain": [
       "<Figure size 576x576 with 1 Axes>"
      ]
     },
     "metadata": {
      "needs_background": "light"
     },
     "output_type": "display_data"
    }
   ],
   "source": [
    "# SPLIT INTO OUR THREE STAGES \n",
    "stage_one = noMega[noMega['Stage'] == 1]\n",
    "stage_two = noMega[noMega['Stage'] == 2]\n",
    "stage_three = noMega[noMega['Stage'] == 3]\n",
    "\n",
    "#make random pokemon\n",
    "random_pokemon = [100, 600]\n",
    "\n",
    "#PLOTTING\n",
    "plt.scatter(x = stage_one['HP'], y = stage_one['Total'], color = 'g')\n",
    "plt.scatter(x = stage_two['HP'], y = stage_two['Total'], color = 'b')\n",
    "plt.scatter(x = stage_three['HP'], y = stage_three['Total'], color = 'r')\n",
    "plt.scatter(x = random_pokemon[0], y = random_pokemon[1], color = 'black')\n",
    "plt.title(\"Evolution Stages Based on HP & Total\")\n",
    "plt.xlabel(\"HP\")\n",
    "plt.ylabel(\"Total\")\n",
    "plt.gca().set_facecolor('pink')\n",
    "plt.gcf().set_size_inches(8,8)"
   ]
  },
  {
   "cell_type": "code",
   "execution_count": 81,
   "id": "c54da70a-ed22-4246-aa3e-b10ac4485dd2",
   "metadata": {},
   "outputs": [
    {
     "name": "stdout",
     "output_type": "stream",
     "text": [
      "The predicted stage of [100, 600] is ~> Stage 1\n"
     ]
    }
   ],
   "source": [
    "#Predicting what stage a pokemon is based off of HP and Total\n",
    "knn = l.KNN(3)\n",
    "\n",
    "knn_set = noMega[['HP', 'Total']].to_numpy()\n",
    "labels = noMega['Stage'].values \n",
    "\n",
    "knn.train(knn_set, labels)\n",
    "\n",
    "#predict random pokemon from above\n",
    "pred = knn.predict(random_pokemon)\n",
    "print(f'The predicted stage of {random_pokemon} is ~> Stage {pred.most_common(1)[0][0]}')"
   ]
  },
  {
   "cell_type": "code",
   "execution_count": 99,
   "id": "f2df70a8-56fb-4bfa-85a2-6950f9bb7991",
   "metadata": {},
   "outputs": [],
   "source": [
    "# test to see how this alg performs on large sums of data\n",
    "def divideSets(p,data):\n",
    "    copydata = copy.deepcopy(data)\n",
    "    np.random.shuffle(copydata)\n",
    "    list1 = copydata[:int(p*len(copydata))]\n",
    "    list2 = copydata[int(p*len(copydata)):]\n",
    "    return (list1,list2)\n",
    "\n",
    "\n",
    "stages = noMega[['Total', 'Stage']].to_numpy()\n",
    "\n",
    "p = 0.6\n",
    "n = len(noMega['Total'])\n",
    "rets = divideSets(p, stages)\n",
    "list1 = rets[0]\n",
    "list2 = rets[1]\n",
    "\n",
    "data1 = [t[0] for t in list1]\n",
    "label1 = [t[1] for t in list1]\n",
    "\n",
    "data2 = [t[0] for t in list2]\n",
    "label2 = [t[1] for t in list2]\n"
   ]
  },
  {
   "cell_type": "code",
   "execution_count": 100,
   "id": "f57bf6e5-1d94-45ca-a77a-4884cd6eae7b",
   "metadata": {},
   "outputs": [],
   "source": [
    "k = 3\n",
    "knn = l.KNN(k)\n",
    "\n",
    "knn.train(data1,label1)\n",
    "\n",
    "prediction = []\n",
    "for x in data2:\n",
    "    prediction.append(knn.predict(x))\n",
    "    \n",
    "predictions = [prediction[i].most_common(2)[0][0] for i in range(len(prediction))]\n",
    "#print(predictions)\n"
   ]
  },
  {
   "cell_type": "markdown",
   "id": "f5817ba8-b698-4191-8953-c78e3f75cad8",
   "metadata": {},
   "source": [
    "## Issues with this Algorithm\n",
    "The problem lies with the **legendary** pokemon.\n",
    "\n",
    "Majority of them don't have an evolution path, so they are all considered stage 1. Therefore, it severely skews the data. Thus being difficult to predict pokemon with higher stats.\n",
    "\n",
    "Below we can see the means for each stage."
   ]
  },
  {
   "cell_type": "code",
   "execution_count": 101,
   "id": "89186eca-3f97-4053-8cc4-f2170b269b89",
   "metadata": {},
   "outputs": [
    {
     "name": "stdout",
     "output_type": "stream",
     "text": [
      "377.36160714285717\n",
      "446.9516129032258\n",
      "515.0357142857143\n"
     ]
    }
   ],
   "source": [
    "new = noMega[['Total' , 'Stage']]\n",
    "\n",
    "one = new[new['Stage'] == 1]\n",
    "two = new[new['Stage'] == 2]\n",
    "three = new[new['Stage'] == 3]\n",
    "\n",
    "print(one['Total'].mean())\n",
    "print(two['Total'].mean())\n",
    "print(three['Total'].mean())"
   ]
  },
  {
   "cell_type": "code",
   "execution_count": 102,
   "id": "42feafed-8edf-4bbd-ac95-14f8353e8518",
   "metadata": {},
   "outputs": [
    {
     "name": "stdout",
     "output_type": "stream",
     "text": [
      "Confusion Matrix: \n",
      " [[157  21  16]\n",
      " [ 27  69  17]\n",
      " [ 12   7  22]]\n",
      "\n",
      " Normalized Confusion Matrix: \n",
      " [[0.80927835 0.10824742 0.08247423]\n",
      " [0.23893805 0.61061947 0.15044248]\n",
      " [0.29268293 0.17073171 0.53658537]]\n"
     ]
    }
   ],
   "source": [
    "#print('True Evolution Stages \\n', label2)\n",
    "#print('\\n Predicted Evolution Stages \\n', predictions)\n",
    "print('Confusion Matrix: \\n', cm(label2,predictions))\n",
    "print('\\n Normalized Confusion Matrix: \\n', cm(label2,predictions, normalize = 'true'))"
   ]
  },
  {
   "cell_type": "markdown",
   "id": "544fd30f-ad81-4bb9-973b-e04bab9cae5c",
   "metadata": {},
   "source": [
    "Note that **Stage 1** has a fairly high total mean, and the confusion matrix is not fantastic, considering they are the *weak* pokemon. The legendaries very much skew the set to have a larger mean than intended. $ \\\\ $ This is where the __No Legendaries__ set comes into play."
   ]
  },
  {
   "cell_type": "code",
   "execution_count": 92,
   "id": "e2b2c7c5-1138-4c82-95d8-4e9f8b28fda5",
   "metadata": {},
   "outputs": [
    {
     "name": "stdout",
     "output_type": "stream",
     "text": [
      "Stage 1 mean ~> 336.344\n",
      "Stage 2 mean ~> 445.89869281045753\n",
      "Stage 3 mean ~> 512.0363636363636\n"
     ]
    }
   ],
   "source": [
    "# no legendaries section\n",
    "noLeg = noMega[noMega['Legendary'] == 'N'] # for KNN alg\n",
    "\n",
    "\n",
    "one = noLeg[noLeg['Stage'] == 1]\n",
    "two = noLeg[noLeg['Stage'] == 2]\n",
    "three = noLeg[noLeg['Stage'] == 3]\n",
    "\n",
    "oneM = one['Total'].mean()\n",
    "twoM = two['Total'].mean()\n",
    "threeM = three['Total'].mean()\n",
    "\n",
    "print(f'Stage 1 mean ~> {oneM}\\nStage 2 mean ~> {twoM}\\nStage 3 mean ~> {threeM}')\n"
   ]
  },
  {
   "cell_type": "markdown",
   "id": "f6870a1d-631f-47b0-b33e-3432d913d96f",
   "metadata": {},
   "source": [
    "As you can see, the mean for stage 1 dropped by over 10%. This should allow for a much more accurate prediction, and the scatterplot of the new data points is:"
   ]
  },
  {
   "cell_type": "code",
   "execution_count": 82,
   "id": "67b414d4-10c0-4541-bbd3-2766125931a4",
   "metadata": {},
   "outputs": [
    {
     "data": {
      "image/png": "[encoded data removed]",
      "text/plain": [
       "<Figure size 576x576 with 1 Axes>"
      ]
     },
     "metadata": {
      "needs_background": "light"
     },
     "output_type": "display_data"
    }
   ],
   "source": [
    "# SPLIT INTO OUR THREE STAGES \n",
    "stage_one = noLeg[noLeg['Stage'] == 1]\n",
    "stage_two = noLeg[noLeg['Stage'] == 2]\n",
    "stage_three = noLeg[noLeg['Stage'] == 3]\n",
    "\n",
    "#make random pokemon\n",
    "random_pokemon = [100, 600]\n",
    "\n",
    "#PLOTTING\n",
    "plt.scatter(x = stage_one['HP'], y = stage_one['Total'], color = 'g')\n",
    "plt.scatter(x = stage_two['HP'], y = stage_two['Total'], color = 'b')\n",
    "plt.scatter(x = stage_three['HP'], y = stage_three['Total'], color = 'r')\n",
    "plt.scatter(x = random_pokemon[0], y = random_pokemon[1], color = 'black')\n",
    "plt.title(\"Evolution Stages Based on HP & Total\")\n",
    "plt.xlabel(\"HP\")\n",
    "plt.ylabel(\"Total\")\n",
    "plt.gca().set_facecolor('pink')\n",
    "plt.gcf().set_size_inches(8,8)"
   ]
  },
  {
   "cell_type": "code",
   "execution_count": 83,
   "id": "7e3dc696-cc60-4e81-84b5-599bd043fa34",
   "metadata": {},
   "outputs": [
    {
     "name": "stdout",
     "output_type": "stream",
     "text": [
      "The predicted stage of [100, 600] is ~> Stage 3\n"
     ]
    }
   ],
   "source": [
    "#Predicting what stage a pokemon is based off of HP and Total\n",
    "knn = l.KNN(3)\n",
    "\n",
    "knn_set = noLeg[['HP', 'Total']].to_numpy()\n",
    "labels = noLeg['Stage'].values \n",
    "\n",
    "knn.train(knn_set, labels)\n",
    "\n",
    "#predict random pokemon from above\n",
    "pred = knn.predict(random_pokemon)\n",
    "print(f'The predicted stage of {random_pokemon} is ~> Stage {pred.most_common(1)[0][0]}')"
   ]
  },
  {
   "cell_type": "code",
   "execution_count": 96,
   "id": "fa449808-6b9f-4507-a838-b9305a80f522",
   "metadata": {},
   "outputs": [
    {
     "name": "stdout",
     "output_type": "stream",
     "text": [
      "Confusion Matrix: \n",
      " [[134  19   5]\n",
      " [ 27  75  14]\n",
      " [  4   8  31]]\n",
      "\n",
      " Normalized Confusion Matrix: \n",
      " [[0.84810127 0.12025316 0.03164557]\n",
      " [0.23275862 0.64655172 0.12068966]\n",
      " [0.09302326 0.18604651 0.72093023]]\n"
     ]
    }
   ],
   "source": [
    "stages = noLeg[['Total', 'Stage']].to_numpy()\n",
    "\n",
    "p = 0.6\n",
    "n = len(noLeg['Total'])\n",
    "rets = divideSets(p, stages)\n",
    "list1 = rets[0]\n",
    "list2 = rets[1]\n",
    "\n",
    "data1 = [t[0] for t in list1]\n",
    "label1 = [t[1] for t in list1]\n",
    "\n",
    "data2 = [t[0] for t in list2]\n",
    "label2 = [t[1] for t in list2]\n",
    "\n",
    "\n",
    "\n",
    "# creating a confusion matrix\n",
    "k = 3\n",
    "knn = l.KNN(k)\n",
    "\n",
    "knn.train(data1,label1)\n",
    "\n",
    "prediction = []\n",
    "for x in data2:\n",
    "    prediction.append(knn.predict(x))\n",
    "    \n",
    "predictions = [prediction[i].most_common(2)[0][0] for i in range(len(prediction))]\n",
    "#print(predictions)\n",
    "#print('True Evolution Stages \\n', label2)\n",
    "#print('\\n Predicted Evolution Stages \\n', predictions)\n",
    "print('Confusion Matrix: \\n', cm(label2,predictions))\n",
    "print('\\n Normalized Confusion Matrix: \\n', cm(label2,predictions, normalize = 'true'))"
   ]
  },
  {
   "cell_type": "markdown",
   "id": "9ebb43b6-82b2-4fa6-80b0-f70a1b9badff",
   "metadata": {},
   "source": [
    "As you can see, the algorithm is much better at predicting **Stage 2 and 3** pokemon due to the lack of legendaries. It also has a better idea of what **Stage 1** are _supposed_ to look like, notice the % of **Stage 1** pokemon that are predicted as **Stage 3** DRASTICALLY decreases. "
   ]
  },
  {
   "cell_type": "markdown",
   "id": "a8373bad-92e4-4ffd-ba61-7a93138bc258",
   "metadata": {},
   "source": [
    "# K-means Clustering"
   ]
  },
  {
   "cell_type": "code",
   "execution_count": 25,
   "id": "c8c754de-9b88-4d32-a3a3-add5b49c8dce",
   "metadata": {},
   "outputs": [
    {
     "data": {
      "text/plain": [
       "array([[ 49,  49],\n",
       "       [ 62,  63],\n",
       "       [ 82,  83],\n",
       "       ...,\n",
       "       [ 80,  80],\n",
       "       [165, 150],\n",
       "       [ 85,  80]])"
      ]
     },
     "execution_count": 25,
     "metadata": {},
     "output_type": "execute_result"
    }
   ],
   "source": [
    "kMeans_set = pokemon[['Attack', 'Defense']].values\n",
    "kMeans_set"
   ]
  },
  {
   "cell_type": "code",
   "execution_count": 26,
   "id": "79fbcaef-d41b-43ca-845a-044d1c85f0d2",
   "metadata": {},
   "outputs": [],
   "source": [
    "class KMeansClassifier:\n",
    "    \"\"\"Given some data, determines k means to be used for classification\"\"\"\n",
    "    def __init__(self):\n",
    "        self.means = []\n",
    "    \n",
    "    def train(self, data, k):\n",
    "        \"\"\"Run the k-means algorithm, stores the final means in self.means\"\"\"\n",
    "        \n",
    "        # so we can be destructive\n",
    "        copy_data = np.copy(data)\n",
    "        \n",
    "        # 1. choose k points at random from data\n",
    "        \n",
    "        # not necessary if data is all numeric\n",
    "        # copy_data = copy.deepcopy(data)\n",
    "        \n",
    "        np.random.shuffle(copy_data)\n",
    "        self.means = copy_data[:k] # grab the first k rows after a random shuff\n",
    "        \n",
    "        # 2. loop the following until self.means stops changing\n",
    "        #    - for each self.means as m, gather all rows of copy_data\n",
    "        #         for which m is the closest mean, call this group_m\n",
    "        print(f'Before Training:\\n{self.means}')        \n",
    "        count = 0\n",
    "        while count < 10: # want to add a convergence check\n",
    "            for i in range(len(self.means)):\n",
    "                group = [0,0] # set of rows in copy_data for which self.means[i] is the closest mean\n",
    "                           # aggregated group as a matrix, rows are rows of data\n",
    "                for row in copy_data:\n",
    "                    num_times = 0\n",
    "                    distances = []\n",
    "                    for j in range(len(self.means)):\n",
    "                        # calculate distance to self.means[i]\n",
    "                        distances.append(la.norm(row - self.means[j]))\n",
    "                    # if min distance is at index i, then np.vstack([ group, row ])\n",
    "                    min0 = np.array(distances)\n",
    "                    min0 = min0.argsort()\n",
    "                    if min0[0] == i:\n",
    "                        group = np.vstack([group, row])\n",
    "                \n",
    "                # get rid of first row, which is 0,0 to make vstack work\n",
    "                group = group[1:]\n",
    "                self.means[i] = np.mean(group, axis=0)\n",
    "        #    - re-assign self.means[m] = mean(group_m)\n",
    "            count += 1\n",
    "            #print(self.means) #to test\n",
    "        print(f'After Training:\\n{self.means}')\n",
    "    \n",
    "    \n",
    "    def test(self, x):\n",
    "        \"\"\"Return the mean closest to x among self.means\"\"\"\n",
    "        # find row of self.means that is the closest to x in euclidean distance\n",
    "        # return it\n",
    "        for i in range(len(self.means)):\n",
    "            distance = []\n",
    "            for j in range(len(self.means)):\n",
    "                # calculate distance to self.means[i]\n",
    "                distance.append(la.norm(x - self.means[j]))\n",
    "            # if min distance is at index i, then np.vstack([ group, row ])\n",
    "            min0 = np.array(distance)\n",
    "            min0 = min0.argsort()\n",
    "            if min0[0] == i:\n",
    "                return min0[0]\n",
    "        # to see if something screwed up\n",
    "        print(\"Error :(\")\n",
    "        return -1"
   ]
  },
  {
   "cell_type": "code",
   "execution_count": 27,
   "id": "bfe6169b-236a-4be3-9d2e-96925bedc86e",
   "metadata": {},
   "outputs": [
    {
     "name": "stdout",
     "output_type": "stream",
     "text": [
      "Before Training:\n",
      "[[45 45]\n",
      " [30 30]\n",
      " [50 45]]\n",
      "After Training:\n",
      "[[ 76  74]\n",
      " [ 46  44]\n",
      " [118 103]]\n"
     ]
    }
   ],
   "source": [
    "means = KMeansClassifier()\n",
    "means.train(kMeans_set, 3)"
   ]
  },
  {
   "cell_type": "code",
   "execution_count": 28,
   "id": "b413269c-515c-4638-9886-45a8876f769f",
   "metadata": {},
   "outputs": [
    {
     "name": "stdout",
     "output_type": "stream",
     "text": [
      "Mean that [75, 75] is closest to ~> 0\n"
     ]
    }
   ],
   "source": [
    "point = [75,75]\n",
    "print(f'Mean that {point} is closest to ~> {means.test(point)}')"
   ]
  },
  {
   "cell_type": "code",
   "execution_count": null,
   "id": "3847e236-494c-454a-9380-5e5810fac071",
   "metadata": {},
   "outputs": [],
   "source": []
  }
 ],
 "metadata": {
  "kernelspec": {
   "display_name": "Python 3 (ipykernel)",
   "language": "python",
   "name": "python3"
  },
  "language_info": {
   "codemirror_mode": {
    "name": "ipython",
    "version": 3
   },
   "file_extension": ".py",
   "mimetype": "text/x-python",
   "name": "python",
   "nbconvert_exporter": "python",
   "pygments_lexer": "ipython3",
   "version": "3.8.8"
  }
 },
 "nbformat": 4,
 "nbformat_minor": 5
}
