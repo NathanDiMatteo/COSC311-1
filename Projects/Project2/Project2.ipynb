{
 "cells": [
  {
   "cell_type": "code",
   "execution_count": null,
   "id": "c8a46184-c3cc-4f36-9e5f-5757dbbd9a5b",
   "metadata": {},
   "outputs": [],
   "source": [
    "#import stuff\n",
    "import pandas as p\n",
    "import numpy as n\n",
    "import seaborn as s\n",
    "from matplotlib import pyplot\n"
   ]
  }
 ],
 "metadata": {
  "kernelspec": {
   "display_name": "Python 3 (ipykernel)",
   "language": "python",
   "name": "python3"
  },
  "language_info": {
   "codemirror_mode": {
    "name": "ipython",
    "version": 3
   },
   "file_extension": ".py",
   "mimetype": "text/x-python",
   "name": "python",
   "nbconvert_exporter": "python",
   "pygments_lexer": "ipython3",
   "version": "3.8.8"
  }
 },
 "nbformat": 4,
 "nbformat_minor": 5
}
