{
 "cells": [
  {
   "cell_type": "code",
   "execution_count": 116,
   "id": "c8a46184-c3cc-4f36-9e5f-5757dbbd9a5b",
   "metadata": {},
   "outputs": [],
   "source": [
    "#import stuff\n",
    "import pandas as pd\n",
    "import numpy as np\n",
    "import seaborn as s\n",
    "from matplotlib import pyplot as plt\n",
    "import numpy.linalg as la\n",
    "import lib as l\n",
    "import copy\n",
    "import tqdm"
   ]
  },
  {
   "cell_type": "code",
   "execution_count": 3,
   "id": "7637373f-9719-41bb-bf70-82cf3b7875b5",
   "metadata": {},
   "outputs": [],
   "source": [
    "#import data\n",
    "pokemon = pd.read_csv('data/pokemon.csv', header = None, \n",
    "                     skiprows=1, encoding = 'latin-1', low_memory = False,\n",
    "                    names = ['Name', 'Version', 'Primary Type' ,'Secondary Type', 'Stage' ,'Attack', 'Defense' , 'HP', 'Sp. Attack', 'Sp. Defense', 'Speed', 'Total', 'Legendary']\n",
    ")\n",
    "noMega = pokemon[pokemon['Version'].isnull()] # for KNN alg\n",
    "\n",
    "img = plt.imread(\"logo.png\") # get the pokemon logo :)"
   ]
  },
  {
   "cell_type": "markdown",
   "id": "cff7218c-60fa-4b6b-a7b9-1bf30fadd971",
   "metadata": {},
   "source": [
    "# Question 1;\n",
    "\n",
    "This is the data set of all current pokemon as of 11/23/21. This represents a statistical outlook of the 1045 pokemon. This includes legendaries, mythical, and mega evolution variants. Their attributes are broken down into 7 numerical categories. They represents how strong the corresponding attribute of the pokemon is. So the higher the value, the stronger the attribute will be. The categories are as follows:\n",
    "\n",
    "    - HP\n",
    "    - Attack\n",
    "    - Defense\n",
    "    - Special Attack\n",
    "    - Special Defense\n",
    "    - Speed\n",
    "    - Total\n",
    "    \n",
    "These are not the actual values of the attributes. _i.e._ If I have a Lvl 100 Venusaur, I won't have 82 Attack. It is more like a scale that determines the boundaries that a pokemon's attributes are tied to. \n",
    "\n",
    "# Question 2;\n",
    "\n",
    "There are few, not so obvious **classes** that are present in this data set. One of which can be determining if a pokemon is considered _Statistically Strong_. This has a vague definition, but generally the higher the pokemon's attributes are, the better they can do in battle. For our purpose, we will define statistically strong as _having a higher total than 500, as well as having at least 3 of their 6 attributes being in the third quartile of all values._ This will hopefully eliminate any outliers or pokemon that have all their power in a few stats. **(Blissey)**\n",
    "\n",
    "Another class is whether the pokemon have a secondary type or not. There really is no correlation with the data we currently have, but if we added a column that gave us the evolution stage that a pokemon is in, (1, 2, or 3), we could define secondary types with evolution stage as a potential class. \n",
    "\n",
    "## Important Statistics & Info of the Set:\n",
    "\n",
    "1. We will be excluding ALL mega evolution forms of pokemon as well as **Eternamax** for our KNN alg because they will cause some annoying skewing.\n",
    "\n",
    "2. For our K-means clustering algorithm, we will be including all 1045 pokemon. This will prove our point later on that K-means is NOT a good algorithm to use on this data set.\n",
    "\n",
    "We will provide some basic stats about our set below:"
   ]
  },
  {
   "cell_type": "code",
   "execution_count": 4,
   "id": "e217e8c0-2fdb-4114-ba8e-f1ae67ef7865",
   "metadata": {},
   "outputs": [
    {
     "data": {
      "text/html": [
       "<div>\n",
       "<style scoped>\n",
       "    .dataframe tbody tr th:only-of-type {\n",
       "        vertical-align: middle;\n",
       "    }\n",
       "\n",
       "    .dataframe tbody tr th {\n",
       "        vertical-align: top;\n",
       "    }\n",
       "\n",
       "    .dataframe thead th {\n",
       "        text-align: right;\n",
       "    }\n",
       "</style>\n",
       "<table border=\"1\" class=\"dataframe\">\n",
       "  <thead>\n",
       "    <tr style=\"text-align: right;\">\n",
       "      <th></th>\n",
       "      <th>Stage</th>\n",
       "      <th>Attack</th>\n",
       "      <th>Defense</th>\n",
       "      <th>HP</th>\n",
       "      <th>Sp. Attack</th>\n",
       "      <th>Sp. Defense</th>\n",
       "      <th>Speed</th>\n",
       "      <th>Total</th>\n",
       "    </tr>\n",
       "  </thead>\n",
       "  <tbody>\n",
       "    <tr>\n",
       "      <th>count</th>\n",
       "      <td>870.000</td>\n",
       "      <td>870.000</td>\n",
       "      <td>870.000</td>\n",
       "      <td>870.000</td>\n",
       "      <td>870.000</td>\n",
       "      <td>870.000</td>\n",
       "      <td>870.000</td>\n",
       "      <td>870.000</td>\n",
       "    </tr>\n",
       "    <tr>\n",
       "      <th>mean</th>\n",
       "      <td>1.614</td>\n",
       "      <td>76.017</td>\n",
       "      <td>71.511</td>\n",
       "      <td>68.706</td>\n",
       "      <td>69.117</td>\n",
       "      <td>69.387</td>\n",
       "      <td>65.143</td>\n",
       "      <td>419.882</td>\n",
       "    </tr>\n",
       "    <tr>\n",
       "      <th>std</th>\n",
       "      <td>0.704</td>\n",
       "      <td>29.471</td>\n",
       "      <td>29.533</td>\n",
       "      <td>26.272</td>\n",
       "      <td>29.061</td>\n",
       "      <td>26.859</td>\n",
       "      <td>28.110</td>\n",
       "      <td>110.641</td>\n",
       "    </tr>\n",
       "    <tr>\n",
       "      <th>min</th>\n",
       "      <td>1.000</td>\n",
       "      <td>5.000</td>\n",
       "      <td>5.000</td>\n",
       "      <td>1.000</td>\n",
       "      <td>10.000</td>\n",
       "      <td>20.000</td>\n",
       "      <td>5.000</td>\n",
       "      <td>180.000</td>\n",
       "    </tr>\n",
       "    <tr>\n",
       "      <th>25%</th>\n",
       "      <td>1.000</td>\n",
       "      <td>55.000</td>\n",
       "      <td>50.000</td>\n",
       "      <td>50.000</td>\n",
       "      <td>45.000</td>\n",
       "      <td>50.000</td>\n",
       "      <td>45.000</td>\n",
       "      <td>320.000</td>\n",
       "    </tr>\n",
       "    <tr>\n",
       "      <th>50%</th>\n",
       "      <td>1.000</td>\n",
       "      <td>75.000</td>\n",
       "      <td>67.000</td>\n",
       "      <td>65.000</td>\n",
       "      <td>65.000</td>\n",
       "      <td>65.000</td>\n",
       "      <td>64.000</td>\n",
       "      <td>430.000</td>\n",
       "    </tr>\n",
       "    <tr>\n",
       "      <th>75%</th>\n",
       "      <td>2.000</td>\n",
       "      <td>95.000</td>\n",
       "      <td>90.000</td>\n",
       "      <td>80.000</td>\n",
       "      <td>90.000</td>\n",
       "      <td>85.000</td>\n",
       "      <td>85.000</td>\n",
       "      <td>500.000</td>\n",
       "    </tr>\n",
       "    <tr>\n",
       "      <th>max</th>\n",
       "      <td>3.000</td>\n",
       "      <td>181.000</td>\n",
       "      <td>230.000</td>\n",
       "      <td>255.000</td>\n",
       "      <td>173.000</td>\n",
       "      <td>230.000</td>\n",
       "      <td>200.000</td>\n",
       "      <td>720.000</td>\n",
       "    </tr>\n",
       "  </tbody>\n",
       "</table>\n",
       "</div>"
      ],
      "text/plain": [
       "         Stage   Attack  Defense       HP  Sp. Attack  Sp. Defense    Speed  \\\n",
       "count  870.000  870.000  870.000  870.000     870.000      870.000  870.000   \n",
       "mean     1.614   76.017   71.511   68.706      69.117       69.387   65.143   \n",
       "std      0.704   29.471   29.533   26.272      29.061       26.859   28.110   \n",
       "min      1.000    5.000    5.000    1.000      10.000       20.000    5.000   \n",
       "25%      1.000   55.000   50.000   50.000      45.000       50.000   45.000   \n",
       "50%      1.000   75.000   67.000   65.000      65.000       65.000   64.000   \n",
       "75%      2.000   95.000   90.000   80.000      90.000       85.000   85.000   \n",
       "max      3.000  181.000  230.000  255.000     173.000      230.000  200.000   \n",
       "\n",
       "         Total  \n",
       "count  870.000  \n",
       "mean   419.882  \n",
       "std    110.641  \n",
       "min    180.000  \n",
       "25%    320.000  \n",
       "50%    430.000  \n",
       "75%    500.000  \n",
       "max    720.000  "
      ]
     },
     "execution_count": 4,
     "metadata": {},
     "output_type": "execute_result"
    }
   ],
   "source": [
    "stats = noMega.describe().round(3)\n",
    "stats"
   ]
  },
  {
   "cell_type": "code",
   "execution_count": 5,
   "id": "eda25dc6-a0a3-4053-8eb9-878930e505d9",
   "metadata": {},
   "outputs": [
    {
     "data": {
      "text/plain": [
       "<matplotlib.image.AxesImage at 0x7f843d84a100>"
      ]
     },
     "execution_count": 5,
     "metadata": {},
     "output_type": "execute_result"
    },
    {
     "data": {
      "image/png": "[encoded data removed]",
      "text/plain": [
       "<Figure size 432x288 with 1 Axes>"
      ]
     },
     "metadata": {
      "needs_background": "light"
     },
     "output_type": "display_data"
    }
   ],
   "source": [
    "#distribution of total values (no mega or eternamax)\n",
    "noMega['Total'].hist(color = 'red', ec = 'black', grid = False, bins = 7)\n",
    "plt.title(\"Distribution of Total Pokemon Stats\")\n",
    "plt.xlabel(\"Total Values\")\n",
    "plt.ylabel(\"Count\")\n",
    "plt.imshow(img, extent = [150, 800, 0, 300])"
   ]
  },
  {
   "cell_type": "markdown",
   "id": "fef188f6-1fd9-447c-9f55-3bdd8d7a03fc",
   "metadata": {},
   "source": [
    "# K-nearest Neighbors Algorithm"
   ]
  },
  {
   "cell_type": "code",
   "execution_count": 439,
   "id": "88630db3-345e-4810-b6ae-9b1baefade0d",
   "metadata": {},
   "outputs": [
    {
     "data": {
      "image/png": "[encoded data removed]",
      "text/plain": [
       "<Figure size 576x576 with 1 Axes>"
      ]
     },
     "metadata": {
      "needs_background": "light"
     },
     "output_type": "display_data"
    }
   ],
   "source": [
    "# SPLIT INTO OUR THREE STAGES \n",
    "stage_one = noMega[noMega['Stage'] == 1]\n",
    "stage_two = noMega[noMega['Stage'] == 2]\n",
    "stage_three = noMega[noMega['Stage'] == 3]\n",
    "\n",
    "#make random pokemon\n",
    "random_pokemon = [50, 500]\n",
    "\n",
    "#PLOTTING\n",
    "plt.scatter(x = stage_one['HP'], y = stage_one['Total'], color = 'g')\n",
    "plt.scatter(x = stage_two['HP'], y = stage_two['Total'], color = 'b')\n",
    "plt.scatter(x = stage_three['HP'], y = stage_three['Total'], color = 'r')\n",
    "plt.scatter(x = random_pokemon[0], y = random_pokemon[1], color = 'black')\n",
    "plt.title(\"Evolution Stages Based on HP & Total\")\n",
    "plt.xlabel(\"HP\")\n",
    "plt.ylabel(\"Total\")\n",
    "plt.gca().set_facecolor('pink')\n",
    "plt.gcf().set_size_inches(8,8)"
   ]
  },
  {
   "cell_type": "code",
   "execution_count": null,
   "id": "c54da70a-ed22-4246-aa3e-b10ac4485dd2",
   "metadata": {},
   "outputs": [],
   "source": [
    "#Predicting what stage a pokemon is based off of HP and Total\n",
    "knn = l.KNN(3)\n",
    "\n",
    "knn_set = noMega[['HP', 'Total']].to_numpy()\n",
    "labels = noMega['Stage'].values \n",
    "\n",
    "knn.train(knn_set, labels)\n",
    "\n",
    "#test one\n",
    "random_pokemon = [255,480]\n",
    "pred = knn.predict(random_pokemon)\n",
    "\n",
    "print(f'The predicted stage of {random_pokemon} is ~> Stage {pred.most_common(1)[0][0]}')\n",
    "\n",
    "#test two\n",
    "random_pokemon = [150,600]\n",
    "pred = knn.predict(random_pokemon)\n",
    "\n",
    "print(f'The predicted stage of {random_pokemon} is ~> Stage {pred.most_common(1)[0][0]}')\n",
    "\n",
    "#test three\n",
    "random_pokemon = [50,300]\n",
    "pred = knn.predict(random_pokemon)\n",
    "\n",
    "print(f'The predicted stage of {random_pokemon} is ~> Stage {pred.most_common(1)[0][0]}')\n",
    "print(\"=======================================================\")"
   ]
  },
  {
   "cell_type": "markdown",
   "id": "f5817ba8-b698-4191-8953-c78e3f75cad8",
   "metadata": {},
   "source": [
    "## Issues with this Algorithm\n",
    "The problem lies with the **legendary** pokemon.\n",
    "\n",
    "Majority of them don't have an evolution path, so they are all considered stage 1. Therefore, it severely skews the data. Thus being difficult to predict pokemon with higher stats.\n",
    "\n",
    "Below we can see the means for each stage."
   ]
  },
  {
   "cell_type": "code",
   "execution_count": null,
   "id": "89186eca-3f97-4053-8cc4-f2170b269b89",
   "metadata": {},
   "outputs": [],
   "source": [
    "new = noMega[['Total' , 'Stage']]\n",
    "\n",
    "one = new[new['Stage'] == 1]\n",
    "two = new[new['Stage'] == 2]\n",
    "three = new[new['Stage'] == 3]\n",
    "\n",
    "print(one['Total'].mean())\n",
    "print(two['Total'].mean())\n",
    "print(three['Total'].mean())"
   ]
  },
  {
   "cell_type": "markdown",
   "id": "544fd30f-ad81-4bb9-973b-e04bab9cae5c",
   "metadata": {},
   "source": [
    "Note that **Stage 1** has a fairly high total mean considering they are the *weak* pokemon. The legendaries very much skew the set to have a larger mean than intended. $ \\\\ $"
   ]
  },
  {
   "cell_type": "code",
   "execution_count": 7,
   "id": "f2df70a8-56fb-4bfa-85a2-6950f9bb7991",
   "metadata": {},
   "outputs": [
    {
     "name": "stdout",
     "output_type": "stream",
     "text": [
      "\n",
      " Total Stats (data1): \n",
      " [520, 452, 264, 340, 325, 280, 351, 310, 250, 600, 420, 385, 309, 489, 455, 320, 455, 316, 330, 465, 384, 305, 348, 484, 325, 517, 320, 335, 600, 280, 405, 335, 680, 270, 430, 205, 481, 341, 310, 405, 340, 514, 460, 285, 385, 515, 495, 265, 600, 473, 475, 295, 515, 205, 180, 341, 468, 495, 303, 260, 460, 485, 507, 470, 470, 535, 479, 336, 510, 316, 454, 405, 300, 305, 600, 430, 490, 318, 475, 382, 413, 310, 303, 325, 300, 480, 480, 309, 600, 450, 490, 600, 250, 305, 460, 500, 495, 480, 220, 530, 580, 210, 490, 525, 375, 500, 450, 505, 310, 390, 515, 485, 500, 670, 385, 320, 320, 285, 454, 570, 418, 365, 269, 480, 400, 413, 534, 314, 425, 440, 405, 470, 360, 500, 485, 195, 580, 410, 413, 520, 500, 230, 474, 520, 330, 465, 485, 400, 305, 535, 456, 200, 495, 310, 455, 395, 253, 305, 330, 500, 600, 420, 365, 390, 508, 510, 464, 260, 420, 465, 450, 355, 567, 507, 420, 510, 515, 284, 390, 540, 600, 490, 455, 200, 288, 600, 455, 525, 465, 580, 600, 470, 485, 330, 269, 600, 472, 320, 200, 435, 345, 600, 314, 363, 350, 250, 460, 405, 330, 480, 470, 580, 290, 525, 420, 452, 308, 405, 300, 194, 220, 500, 485, 520, 485, 525, 330, 500, 490, 340, 474, 313, 460, 330, 555, 308, 483, 500, 270, 500, 465, 400, 245, 430, 490, 525, 345, 275, 237, 440, 500, 325, 385, 250, 310, 435, 330, 304, 570, 505, 320, 485, 280, 460, 440, 495, 305, 500, 281, 385, 325, 509, 250, 237, 475, 260, 410, 355, 495, 420, 300, 245, 515, 380, 305, 470, 476, 278, 280, 448, 315, 345, 580, 528, 218, 325, 680, 482, 530, 515, 280, 275, 340, 720, 580, 400, 455, 495, 405, 423, 290, 435, 487, 285, 253, 470, 495, 485, 240, 360, 310, 458, 265, 530, 305, 472, 405, 370, 446, 534, 305, 300, 580, 530, 420, 220, 285, 505, 280, 510, 340, 490, 410, 390, 525, 390, 535, 580, 330, 370, 535, 314, 465, 325, 471, 318, 670, 308, 454, 500, 430, 505, 292, 300, 480, 480, 500, 475, 570, 420, 400, 530, 485, 480, 300, 405, 534, 320, 530, 350, 505, 670, 300, 245, 265, 485, 355, 450, 680, 500, 570, 450, 250, 220, 485, 350, 521, 275, 236, 530, 370, 309, 521, 405, 450, 305, 360, 510, 485, 335, 299, 377, 325, 515, 528, 490, 495, 540, 475, 495, 308, 490, 480, 335, 485, 530, 485, 525, 315, 485, 530, 410, 450, 600, 531, 580, 350, 360, 350, 292, 525, 250, 500, 305, 210, 401, 490, 468, 405, 430, 470, 289, 288, 405, 500, 295, 525, 300, 520, 306, 440, 251, 460, 365, 270, 600, 260, 180, 494, 273, 510, 545, 530, 410, 460, 420, 495, 319, 349, 490, 495, 500, 340, 530, 370, 600, 410, 474, 600, 275, 425, 510, 295, 323, 300, 300, 495, 195, 335, 420, 418, 455, 570, 525, 338, 505, 424, 680, 462, 213, 355, 498, 409, 430, 580, 355, 467, 245, 270, 330, 280, 600]\n",
      "\n",
      " Evolution Stage (Label1):\n",
      " [3, 2, 1, 2, 1, 1, 2, 1, 1, 1, 2, 1, 1, 2, 2, 1, 3, 1, 1, 1, 2, 1, 1, 1, 1, 1, 1, 1, 1, 1, 2, 1, 3, 1, 1, 2, 2, 1, 1, 1, 2, 2, 2, 1, 1, 2, 3, 1, 1, 2, 2, 1, 2, 2, 1, 1, 2, 3, 1, 1, 1, 3, 2, 1, 2, 3, 3, 1, 1, 1, 1, 1, 1, 1, 3, 2, 2, 1, 2, 2, 2, 1, 1, 1, 1, 2, 2, 1, 3, 2, 1, 2, 1, 1, 2, 3, 2, 2, 1, 3, 1, 1, 2, 3, 1, 1, 2, 3, 1, 2, 1, 2, 2, 1, 2, 1, 1, 1, 2, 1, 3, 1, 1, 2, 2, 3, 3, 1, 2, 2, 2, 1, 2, 1, 1, 1, 1, 1, 3, 3, 2, 1, 2, 3, 1, 1, 2, 2, 1, 3, 2, 1, 1, 1, 1, 3, 1, 1, 1, 1, 1, 1, 2, 2, 2, 3, 2, 1, 2, 1, 2, 2, 2, 2, 2, 2, 3, 1, 2, 3, 3, 1, 2, 1, 1, 3, 2, 3, 2, 1, 3, 1, 3, 1, 1, 3, 1, 1, 1, 1, 1, 1, 1, 2, 1, 2, 2, 2, 1, 2, 2, 1, 1, 2, 2, 2, 2, 2, 1, 1, 1, 3, 2, 3, 3, 2, 1, 2, 3, 1, 2, 1, 3, 1, 2, 1, 2, 2, 1, 2, 2, 2, 1, 2, 2, 2, 1, 1, 1, 2, 2, 2, 1, 1, 1, 1, 1, 1, 1, 2, 1, 2, 1, 2, 1, 2, 1, 2, 1, 3, 1, 3, 1, 1, 2, 1, 2, 1, 2, 2, 1, 1, 2, 1, 1, 1, 1, 2, 1, 2, 1, 1, 1, 1, 1, 1, 1, 2, 2, 3, 1, 1, 2, 1, 1, 2, 2, 2, 2, 2, 2, 3, 2, 1, 1, 2, 2, 2, 1, 1, 1, 1, 1, 3, 1, 2, 2, 2, 2, 3, 1, 1, 1, 3, 3, 1, 1, 3, 1, 3, 2, 2, 2, 2, 2, 2, 1, 1, 1, 2, 3, 1, 1, 1, 1, 1, 1, 2, 2, 3, 1, 1, 1, 1, 1, 2, 1, 2, 1, 2, 2, 3, 2, 2, 1, 2, 3, 1, 3, 1, 2, 1, 1, 1, 1, 2, 1, 2, 1, 2, 1, 2, 1, 1, 1, 1, 2, 1, 2, 3, 2, 1, 2, 2, 2, 1, 2, 2, 3, 1, 1, 1, 1, 2, 1, 1, 2, 2, 1, 2, 1, 2, 2, 1, 2, 3, 1, 3, 1, 1, 3, 2, 2, 1, 2, 1, 1, 1, 1, 1, 2, 1, 2, 1, 1, 1, 2, 2, 2, 2, 1, 1, 1, 1, 1, 1, 2, 1, 3, 1, 2, 1, 1, 2, 1, 1, 1, 1, 2, 1, 3, 3, 3, 1, 2, 1, 2, 1, 2, 2, 2, 3, 1, 3, 2, 3, 2, 2, 1, 1, 2, 3, 1, 1, 1, 1, 2, 1, 1, 2, 2, 2, 2, 2, 1, 3, 2, 1, 2, 2, 1, 2, 2, 1, 1, 1, 2, 1, 2, 1, 1, 1]\n",
      "\n",
      " Total Stats (data2): \n",
      " [420, 505, 535, 300, 600, 415, 500, 431, 410, 495, 500, 530, 530, 570, 380, 310, 448, 265, 395, 490, 320, 329, 505, 600, 294, 510, 310, 580, 358, 580, 490, 320, 288, 362, 290, 395, 480, 480, 420, 240, 570, 308, 570, 365, 440, 300, 295, 328, 482, 530, 320, 314, 540, 320, 455, 580, 519, 475, 400, 435, 483, 464, 535, 445, 350, 484, 275, 430, 680, 395, 330, 300, 670, 300, 680, 410, 300, 530, 405, 278, 479, 534, 244, 525, 490, 270, 380, 600, 600, 340, 500, 510, 510, 455, 490, 500, 525, 290, 405, 455, 280, 395, 495, 580, 534, 480, 270, 525, 680, 245, 488, 510, 405, 535, 330, 328, 190, 460, 405, 405, 570, 505, 300, 210, 500, 483, 518, 318, 460, 330, 498, 329, 600, 440, 515, 300, 405, 535, 263, 365, 600, 680, 540, 300, 355, 310, 290, 300, 420, 275, 305, 490, 498, 205, 425, 660, 185, 315, 525, 488, 455, 490, 420, 495, 505, 510, 405, 570, 307, 304, 334, 478, 505, 474, 490, 210, 497, 530, 480, 690, 330, 500, 552, 411, 300, 435, 495, 499, 323, 515, 485, 385, 540, 410, 309, 580, 310, 420, 525, 290, 540, 680, 405, 442, 262, 198, 580, 540, 480, 490, 523, 570, 410, 405, 250, 195, 302, 294, 461, 485, 205, 600, 510, 510, 440, 525, 483, 242, 480, 390, 680, 460, 490, 475, 520, 315, 360, 483, 348, 570, 475, 550, 570, 600, 200, 505, 330, 535, 505, 494, 320, 428, 490, 510, 305, 508, 405, 485, 425, 490, 262, 400, 452, 600, 348, 250, 316, 528, 458, 580, 320, 384, 310, 350, 500, 420, 540, 305, 475, 680, 470, 295, 440, 525, 245, 440, 290, 395, 540, 265, 270, 240, 410, 305, 340, 390, 300, 405, 362, 405, 215, 224, 340, 680, 415, 530, 580, 500, 290, 600, 325, 570, 490, 370, 280, 288, 295, 530, 369, 310, 420, 518, 266, 355, 580, 600, 480, 303, 490, 360, 500, 310, 371, 255, 410, 500, 460, 335, 498, 370, 455, 405, 405, 465, 205, 330, 535, 411]\n",
      "\n",
      " Evolution Stage (Label2):\n",
      " [2, 1, 3, 1, 1, 1, 2, 1, 2, 2, 3, 3, 2, 1, 1, 1, 2, 1, 3, 1, 1, 1, 1, 1, 1, 3, 1, 1, 2, 1, 2, 1, 1, 1, 1, 3, 2, 2, 2, 1, 1, 2, 1, 2, 2, 1, 1, 1, 2, 3, 1, 1, 2, 1, 2, 1, 3, 2, 2, 1, 3, 2, 3, 1, 1, 1, 1, 1, 1, 1, 1, 1, 3, 1, 3, 1, 1, 3, 2, 1, 2, 1, 1, 2, 3, 1, 2, 1, 1, 1, 2, 2, 2, 2, 1, 2, 2, 1, 2, 2, 1, 2, 2, 1, 3, 2, 1, 2, 1, 1, 2, 2, 2, 3, 1, 1, 1, 2, 2, 1, 1, 1, 1, 1, 2, 2, 3, 1, 2, 1, 2, 1, 1, 2, 3, 1, 2, 1, 1, 2, 1, 1, 3, 1, 1, 1, 1, 1, 2, 1, 1, 1, 2, 2, 2, 1, 1, 1, 2, 3, 2, 2, 2, 2, 3, 2, 2, 1, 1, 1, 1, 2, 2, 2, 3, 1, 2, 3, 1, 1, 1, 2, 3, 1, 1, 1, 2, 3, 2, 2, 3, 1, 3, 2, 1, 1, 1, 2, 2, 1, 2, 1, 2, 2, 1, 1, 1, 2, 3, 1, 3, 1, 2, 2, 1, 1, 1, 1, 1, 1, 1, 1, 3, 2, 1, 3, 2, 1, 3, 1, 1, 1, 3, 2, 2, 1, 1, 2, 1, 1, 2, 2, 1, 3, 1, 3, 1, 2, 1, 2, 1, 1, 3, 2, 1, 2, 2, 1, 2, 2, 1, 1, 2, 3, 1, 1, 1, 1, 1, 1, 2, 2, 1, 1, 1, 3, 3, 1, 1, 1, 2, 1, 1, 1, 1, 2, 1, 2, 3, 1, 1, 1, 2, 1, 1, 1, 1, 2, 1, 2, 1, 1, 2, 1, 2, 3, 1, 2, 1, 1, 1, 1, 2, 1, 1, 1, 1, 3, 1, 1, 2, 3, 1, 1, 1, 1, 2, 1, 3, 1, 2, 1, 2, 2, 2, 3, 2, 2, 2, 2, 2, 2, 2, 1, 2, 1, 3, 3]\n"
     ]
    }
   ],
   "source": [
    "def divideSets(p,data):\n",
    "    copydata = copy.deepcopy(data)\n",
    "    np.random.shuffle(copydata)\n",
    "    list1 = copydata[:int(p*len(copydata))]\n",
    "    list2 = copydata[int(p*len(copydata)):]\n",
    "    return (list1,list2)\n",
    "\n",
    "\n",
    "stages = noMega[['Total', 'Stage']].to_numpy()\n",
    "\n",
    "p = 0.6\n",
    "n = len(noMega['Total'])\n",
    "rets = divideSets(p, stages)\n",
    "list1 = rets[0]\n",
    "list2 = rets[1]\n",
    "\n",
    "data1 = [t[0] for t in list1]\n",
    "print('\\n Total Stats (data1): \\n', data1)\n",
    "label1 = [t[1] for t in list1]\n",
    "print('\\n Evolution Stage (Label1):\\n', label1)\n",
    "\n",
    "data2 = [t[0] for t in list2]\n",
    "print('\\n Total Stats (data2): \\n', data2)\n",
    "label2 = [t[1] for t in list2]\n",
    "print('\\n Evolution Stage (Label2):\\n', label2)\n"
   ]
  },
  {
   "cell_type": "code",
   "execution_count": 8,
   "id": "f57bf6e5-1d94-45ca-a77a-4884cd6eae7b",
   "metadata": {},
   "outputs": [
    {
     "name": "stdout",
     "output_type": "stream",
     "text": [
      "[(420, [(2, 2), (1, 1)]), (505, [(3, 2), (2, 1)]), (535, [(3, 2), (1, 1)]), (300, [(1, 3)]), (600, [(1, 3)]), (415, [(3, 2), (2, 1)]), (500, [(3, 1), (1, 1)]), (431, [(2, 2), (1, 1)]), (410, [(2, 2), (1, 1)]), (495, [(3, 2), (2, 1)]), (500, [(3, 1), (1, 1)]), (530, [(3, 2), (2, 1)]), (530, [(3, 2), (2, 1)]), (570, [(1, 3)]), (380, [(1, 2), (2, 1)]), (310, [(1, 3)]), (448, [(2, 3)]), (265, [(1, 3)]), (395, [(2, 2), (3, 1)]), (490, [(2, 2), (1, 1)]), (320, [(1, 3)]), (329, [(1, 3)]), (505, [(3, 2), (2, 1)]), (600, [(1, 3)]), (294, [(1, 3)]), (510, [(1, 1), (3, 1)]), (310, [(1, 3)]), (580, [(1, 3)]), (358, [(2, 2), (1, 1)]), (580, [(1, 3)]), (490, [(2, 2), (1, 1)]), (320, [(1, 3)]), (288, [(1, 3)]), (362, [(2, 2), (1, 1)]), (290, [(1, 2), (2, 1)]), (395, [(2, 2), (3, 1)]), (480, [(2, 3)]), (480, [(2, 3)]), (420, [(2, 2), (1, 1)]), (240, [(1, 3)]), (570, [(1, 3)]), (308, [(2, 2), (1, 1)]), (570, [(1, 3)]), (365, [(2, 2), (1, 1)]), (440, [(2, 2), (1, 1)]), (300, [(1, 3)]), (295, [(1, 3)]), (328, [(1, 3)]), (482, [(2, 3)]), (530, [(3, 2), (2, 1)]), (320, [(1, 3)]), (314, [(1, 3)]), (540, [(3, 2), (2, 1)]), (320, [(1, 3)]), (455, [(2, 1), (3, 1)]), (580, [(1, 3)]), (519, [(3, 3)]), (475, [(2, 3)]), (400, [(2, 3)]), (435, [(1, 2), (3, 1)]), (483, [(2, 2), (1, 1)]), (464, [(1, 2), (2, 1)]), (535, [(3, 2), (1, 1)]), (445, [(2, 3)]), (350, [(1, 3)]), (484, [(1, 1), (3, 1)]), (275, [(1, 3)]), (430, [(2, 2), (1, 1)]), (680, [(1, 2), (3, 1)]), (395, [(2, 2), (3, 1)]), (330, [(1, 3)]), (300, [(1, 3)]), (670, [(1, 3)]), (300, [(1, 3)]), (680, [(1, 2), (3, 1)]), (410, [(2, 2), (1, 1)]), (300, [(1, 3)]), (530, [(3, 2), (2, 1)]), (405, [(1, 2), (2, 1)]), (278, [(1, 2), (2, 1)]), (479, [(2, 2), (3, 1)]), (534, [(3, 3)]), (244, [(1, 3)]), (525, [(3, 2), (2, 1)]), (490, [(2, 2), (1, 1)]), (270, [(1, 3)]), (380, [(1, 2), (2, 1)]), (600, [(1, 3)]), (600, [(1, 3)]), (340, [(2, 2), (1, 1)]), (500, [(3, 1), (1, 1)]), (510, [(1, 1), (3, 1)]), (510, [(1, 1), (3, 1)]), (455, [(2, 1), (3, 1)]), (490, [(2, 2), (1, 1)]), (500, [(3, 1), (1, 1)]), (525, [(3, 2), (2, 1)]), (290, [(1, 2), (2, 1)]), (405, [(1, 2), (2, 1)]), (455, [(2, 1), (3, 1)]), (280, [(1, 3)]), (395, [(2, 2), (3, 1)]), (495, [(3, 2), (2, 1)]), (580, [(1, 3)]), (534, [(3, 3)]), (480, [(2, 3)]), (270, [(1, 3)]), (525, [(3, 2), (2, 1)]), (680, [(1, 2), (3, 1)]), (245, [(1, 3)]), (488, [(2, 3)]), (510, [(1, 1), (3, 1)]), (405, [(1, 2), (2, 1)]), (535, [(3, 2), (1, 1)]), (330, [(1, 3)]), (328, [(1, 3)]), (190, [(1, 3)]), (460, [(2, 2), (1, 1)]), (405, [(1, 2), (2, 1)]), (405, [(1, 2), (2, 1)]), (570, [(1, 3)]), (505, [(3, 2), (2, 1)]), (300, [(1, 3)]), (210, [(1, 2), (2, 1)]), (500, [(3, 1), (1, 1)]), (483, [(2, 2), (1, 1)]), (518, [(3, 2), (1, 1)]), (318, [(1, 3)]), (460, [(2, 2), (1, 1)]), (330, [(1, 3)]), (498, [(2, 1), (3, 1)]), (329, [(1, 3)]), (600, [(1, 3)]), (440, [(2, 2), (1, 1)]), (515, [(2, 2), (1, 1)]), (300, [(1, 3)]), (405, [(1, 2), (2, 1)]), (535, [(3, 2), (1, 1)]), (263, [(1, 3)]), (365, [(2, 2), (1, 1)]), (600, [(1, 3)]), (680, [(1, 2), (3, 1)]), (540, [(3, 2), (2, 1)]), (300, [(1, 3)]), (355, [(1, 2), (2, 1)]), (310, [(1, 3)]), (290, [(1, 2), (2, 1)]), (300, [(1, 3)]), (420, [(2, 2), (1, 1)]), (275, [(1, 3)]), (305, [(1, 3)]), (490, [(2, 2), (1, 1)]), (498, [(2, 1), (3, 1)]), (205, [(2, 2), (1, 1)]), (425, [(2, 3)]), (660, [(1, 3)]), (185, [(1, 3)]), (315, [(1, 3)]), (525, [(3, 2), (2, 1)]), (488, [(2, 3)]), (455, [(2, 1), (3, 1)]), (490, [(2, 2), (1, 1)]), (420, [(2, 2), (1, 1)]), (495, [(3, 2), (2, 1)]), (505, [(3, 2), (2, 1)]), (510, [(1, 1), (3, 1)]), (405, [(1, 2), (2, 1)]), (570, [(1, 3)]), (307, [(2, 2), (1, 1)]), (304, [(1, 3)]), (334, [(1, 3)]), (478, [(2, 2), (3, 1)]), (505, [(3, 2), (2, 1)]), (474, [(2, 3)]), (490, [(2, 2), (1, 1)]), (210, [(1, 2), (2, 1)]), (497, [(3, 2), (2, 1)]), (530, [(3, 2), (2, 1)]), (480, [(2, 3)]), (690, [(1, 2), (3, 1)]), (330, [(1, 3)]), (500, [(3, 1), (1, 1)]), (552, [(3, 2), (2, 1)]), (411, [(2, 2), (1, 1)]), (300, [(1, 3)]), (435, [(1, 2), (3, 1)]), (495, [(3, 2), (2, 1)]), (499, [(3, 1), (1, 1)]), (323, [(1, 3)]), (515, [(2, 2), (1, 1)]), (485, [(3, 1), (2, 1)]), (385, [(1, 2), (2, 1)]), (540, [(3, 2), (2, 1)]), (410, [(2, 2), (1, 1)]), (309, [(1, 3)]), (580, [(1, 3)]), (310, [(1, 3)]), (420, [(2, 2), (1, 1)]), (525, [(3, 2), (2, 1)]), (290, [(1, 2), (2, 1)]), (540, [(3, 2), (2, 1)]), (680, [(1, 2), (3, 1)]), (405, [(1, 2), (2, 1)]), (442, [(2, 2), (1, 1)]), (262, [(1, 3)]), (198, [(1, 3)]), (580, [(1, 3)]), (540, [(3, 2), (2, 1)]), (480, [(2, 3)]), (490, [(2, 2), (1, 1)]), (523, [(3, 2), (2, 1)]), (570, [(1, 3)]), (410, [(2, 2), (1, 1)]), (405, [(1, 2), (2, 1)]), (250, [(1, 2), (2, 1)]), (195, [(1, 3)]), (302, [(1, 3)]), (294, [(1, 3)]), (461, [(2, 2), (1, 1)]), (485, [(3, 1), (2, 1)]), (205, [(2, 2), (1, 1)]), (600, [(1, 3)]), (510, [(1, 1), (3, 1)]), (510, [(1, 1), (3, 1)]), (440, [(2, 2), (1, 1)]), (525, [(3, 2), (2, 1)]), (483, [(2, 2), (1, 1)]), (242, [(1, 3)]), (480, [(2, 3)]), (390, [(2, 3)]), (680, [(1, 2), (3, 1)]), (460, [(2, 2), (1, 1)]), (490, [(2, 2), (1, 1)]), (475, [(2, 3)]), (520, [(3, 3)]), (315, [(1, 3)]), (360, [(2, 2), (1, 1)]), (483, [(2, 2), (1, 1)]), (348, [(1, 2), (2, 1)]), (570, [(1, 3)]), (475, [(2, 3)]), (550, [(3, 2), (2, 1)]), (570, [(1, 3)]), (600, [(1, 3)]), (200, [(1, 3)]), (505, [(3, 2), (2, 1)]), (330, [(1, 3)]), (535, [(3, 2), (1, 1)]), (505, [(3, 2), (2, 1)]), (494, [(3, 2), (2, 1)]), (320, [(1, 3)]), (428, [(2, 2), (1, 1)]), (490, [(2, 2), (1, 1)]), (510, [(1, 1), (3, 1)]), (305, [(1, 3)]), (508, [(2, 3)]), (405, [(1, 2), (2, 1)]), (485, [(3, 1), (2, 1)]), (425, [(2, 3)]), (490, [(2, 2), (1, 1)]), (262, [(1, 3)]), (400, [(2, 3)]), (452, [(2, 2), (1, 1)]), (600, [(1, 3)]), (348, [(1, 2), (2, 1)]), (250, [(1, 2), (2, 1)]), (316, [(1, 3)]), (528, [(1, 2), (3, 1)]), (458, [(1, 2), (2, 1)]), (580, [(1, 3)]), (320, [(1, 3)]), (384, [(1, 2), (2, 1)]), (310, [(1, 3)]), (350, [(1, 3)]), (500, [(3, 1), (1, 1)]), (420, [(2, 2), (1, 1)]), (540, [(3, 2), (2, 1)]), (305, [(1, 3)]), (475, [(2, 3)]), (680, [(1, 2), (3, 1)]), (470, [(1, 2), (2, 1)]), (295, [(1, 3)]), (440, [(2, 2), (1, 1)]), (525, [(3, 2), (2, 1)]), (245, [(1, 3)]), (440, [(2, 2), (1, 1)]), (290, [(1, 2), (2, 1)]), (395, [(2, 2), (3, 1)]), (540, [(3, 2), (2, 1)]), (265, [(1, 3)]), (270, [(1, 3)]), (240, [(1, 3)]), (410, [(2, 2), (1, 1)]), (305, [(1, 3)]), (340, [(2, 2), (1, 1)]), (390, [(2, 3)]), (300, [(1, 3)]), (405, [(1, 2), (2, 1)]), (362, [(2, 2), (1, 1)]), (405, [(1, 2), (2, 1)]), (215, [(1, 2), (2, 1)]), (224, [(1, 3)]), (340, [(2, 2), (1, 1)]), (680, [(1, 2), (3, 1)]), (415, [(3, 2), (2, 1)]), (530, [(3, 2), (2, 1)]), (580, [(1, 3)]), (500, [(3, 1), (1, 1)]), (290, [(1, 2), (2, 1)]), (600, [(1, 3)]), (325, [(1, 3)]), (570, [(1, 3)]), (490, [(2, 2), (1, 1)]), (370, [(2, 3)]), (280, [(1, 3)]), (288, [(1, 3)]), (295, [(1, 3)]), (530, [(3, 2), (2, 1)]), (369, [(2, 3)]), (310, [(1, 3)]), (420, [(2, 2), (1, 1)]), (518, [(3, 2), (1, 1)]), (266, [(1, 3)]), (355, [(1, 2), (2, 1)]), (580, [(1, 3)]), (600, [(1, 3)]), (480, [(2, 3)]), (303, [(1, 3)]), (490, [(2, 2), (1, 1)]), (360, [(2, 2), (1, 1)]), (500, [(3, 1), (1, 1)]), (310, [(1, 3)]), (371, [(2, 3)]), (255, [(1, 3)]), (410, [(2, 2), (1, 1)]), (500, [(3, 1), (1, 1)]), (460, [(2, 2), (1, 1)]), (335, [(1, 3)]), (498, [(2, 1), (3, 1)]), (370, [(2, 3)]), (455, [(2, 1), (3, 1)]), (405, [(1, 2), (2, 1)]), (405, [(1, 2), (2, 1)]), (465, [(1, 3)]), (205, [(2, 2), (1, 1)]), (330, [(1, 3)]), (535, [(3, 2), (1, 1)]), (411, [(2, 2), (1, 1)])]\n"
     ]
    }
   ],
   "source": [
    "k = 3\n",
    "knn = l.KNN(k)\n",
    "\n",
    "knn.train(data1,label1)\n",
    "\n",
    "prediction = []\n",
    "for x in data2:\n",
    "    prediction.append(knn.predict(x))\n",
    "    \n",
    "predictions = [(data2[i], prediction[i].most_common(2)) for i in range(len(prediction))]\n",
    "print(predictions)\n"
   ]
  },
  {
   "cell_type": "code",
   "execution_count": 9,
   "id": "42feafed-8edf-4bbd-ac95-14f8353e8518",
   "metadata": {},
   "outputs": [
    {
     "name": "stdout",
     "output_type": "stream",
     "text": [
      "True Evolution Stages \n",
      " [2, 1, 3, 1, 1, 1, 2, 1, 2, 2, 3, 3, 2, 1, 1, 1, 2, 1, 3, 1, 1, 1, 1, 1, 1, 3, 1, 1, 2, 1, 2, 1, 1, 1, 1, 3, 2, 2, 2, 1, 1, 2, 1, 2, 2, 1, 1, 1, 2, 3, 1, 1, 2, 1, 2, 1, 3, 2, 2, 1, 3, 2, 3, 1, 1, 1, 1, 1, 1, 1, 1, 1, 3, 1, 3, 1, 1, 3, 2, 1, 2, 1, 1, 2, 3, 1, 2, 1, 1, 1, 2, 2, 2, 2, 1, 2, 2, 1, 2, 2, 1, 2, 2, 1, 3, 2, 1, 2, 1, 1, 2, 2, 2, 3, 1, 1, 1, 2, 2, 1, 1, 1, 1, 1, 2, 2, 3, 1, 2, 1, 2, 1, 1, 2, 3, 1, 2, 1, 1, 2, 1, 1, 3, 1, 1, 1, 1, 1, 2, 1, 1, 1, 2, 2, 2, 1, 1, 1, 2, 3, 2, 2, 2, 2, 3, 2, 2, 1, 1, 1, 1, 2, 2, 2, 3, 1, 2, 3, 1, 1, 1, 2, 3, 1, 1, 1, 2, 3, 2, 2, 3, 1, 3, 2, 1, 1, 1, 2, 2, 1, 2, 1, 2, 2, 1, 1, 1, 2, 3, 1, 3, 1, 2, 2, 1, 1, 1, 1, 1, 1, 1, 1, 3, 2, 1, 3, 2, 1, 3, 1, 1, 1, 3, 2, 2, 1, 1, 2, 1, 1, 2, 2, 1, 3, 1, 3, 1, 2, 1, 2, 1, 1, 3, 2, 1, 2, 2, 1, 2, 2, 1, 1, 2, 3, 1, 1, 1, 1, 1, 1, 2, 2, 1, 1, 1, 3, 3, 1, 1, 1, 2, 1, 1, 1, 1, 2, 1, 2, 3, 1, 1, 1, 2, 1, 1, 1, 1, 2, 1, 2, 1, 1, 2, 1, 2, 3, 1, 2, 1, 1, 1, 1, 2, 1, 1, 1, 1, 3, 1, 1, 2, 3, 1, 1, 1, 1, 2, 1, 3, 1, 2, 1, 2, 2, 2, 3, 2, 2, 2, 2, 2, 2, 2, 1, 2, 1, 3, 3]\n",
      "\n",
      " Predicted Evolution Stages \n",
      " [(420, [(2, 2), (1, 1)]), (505, [(3, 2), (2, 1)]), (535, [(3, 2), (1, 1)]), (300, [(1, 3)]), (600, [(1, 3)]), (415, [(3, 2), (2, 1)]), (500, [(3, 1), (1, 1)]), (431, [(2, 2), (1, 1)]), (410, [(2, 2), (1, 1)]), (495, [(3, 2), (2, 1)]), (500, [(3, 1), (1, 1)]), (530, [(3, 2), (2, 1)]), (530, [(3, 2), (2, 1)]), (570, [(1, 3)]), (380, [(1, 2), (2, 1)]), (310, [(1, 3)]), (448, [(2, 3)]), (265, [(1, 3)]), (395, [(2, 2), (3, 1)]), (490, [(2, 2), (1, 1)]), (320, [(1, 3)]), (329, [(1, 3)]), (505, [(3, 2), (2, 1)]), (600, [(1, 3)]), (294, [(1, 3)]), (510, [(1, 1), (3, 1)]), (310, [(1, 3)]), (580, [(1, 3)]), (358, [(2, 2), (1, 1)]), (580, [(1, 3)]), (490, [(2, 2), (1, 1)]), (320, [(1, 3)]), (288, [(1, 3)]), (362, [(2, 2), (1, 1)]), (290, [(1, 2), (2, 1)]), (395, [(2, 2), (3, 1)]), (480, [(2, 3)]), (480, [(2, 3)]), (420, [(2, 2), (1, 1)]), (240, [(1, 3)]), (570, [(1, 3)]), (308, [(2, 2), (1, 1)]), (570, [(1, 3)]), (365, [(2, 2), (1, 1)]), (440, [(2, 2), (1, 1)]), (300, [(1, 3)]), (295, [(1, 3)]), (328, [(1, 3)]), (482, [(2, 3)]), (530, [(3, 2), (2, 1)]), (320, [(1, 3)]), (314, [(1, 3)]), (540, [(3, 2), (2, 1)]), (320, [(1, 3)]), (455, [(2, 1), (3, 1)]), (580, [(1, 3)]), (519, [(3, 3)]), (475, [(2, 3)]), (400, [(2, 3)]), (435, [(1, 2), (3, 1)]), (483, [(2, 2), (1, 1)]), (464, [(1, 2), (2, 1)]), (535, [(3, 2), (1, 1)]), (445, [(2, 3)]), (350, [(1, 3)]), (484, [(1, 1), (3, 1)]), (275, [(1, 3)]), (430, [(2, 2), (1, 1)]), (680, [(1, 2), (3, 1)]), (395, [(2, 2), (3, 1)]), (330, [(1, 3)]), (300, [(1, 3)]), (670, [(1, 3)]), (300, [(1, 3)]), (680, [(1, 2), (3, 1)]), (410, [(2, 2), (1, 1)]), (300, [(1, 3)]), (530, [(3, 2), (2, 1)]), (405, [(1, 2), (2, 1)]), (278, [(1, 2), (2, 1)]), (479, [(2, 2), (3, 1)]), (534, [(3, 3)]), (244, [(1, 3)]), (525, [(3, 2), (2, 1)]), (490, [(2, 2), (1, 1)]), (270, [(1, 3)]), (380, [(1, 2), (2, 1)]), (600, [(1, 3)]), (600, [(1, 3)]), (340, [(2, 2), (1, 1)]), (500, [(3, 1), (1, 1)]), (510, [(1, 1), (3, 1)]), (510, [(1, 1), (3, 1)]), (455, [(2, 1), (3, 1)]), (490, [(2, 2), (1, 1)]), (500, [(3, 1), (1, 1)]), (525, [(3, 2), (2, 1)]), (290, [(1, 2), (2, 1)]), (405, [(1, 2), (2, 1)]), (455, [(2, 1), (3, 1)]), (280, [(1, 3)]), (395, [(2, 2), (3, 1)]), (495, [(3, 2), (2, 1)]), (580, [(1, 3)]), (534, [(3, 3)]), (480, [(2, 3)]), (270, [(1, 3)]), (525, [(3, 2), (2, 1)]), (680, [(1, 2), (3, 1)]), (245, [(1, 3)]), (488, [(2, 3)]), (510, [(1, 1), (3, 1)]), (405, [(1, 2), (2, 1)]), (535, [(3, 2), (1, 1)]), (330, [(1, 3)]), (328, [(1, 3)]), (190, [(1, 3)]), (460, [(2, 2), (1, 1)]), (405, [(1, 2), (2, 1)]), (405, [(1, 2), (2, 1)]), (570, [(1, 3)]), (505, [(3, 2), (2, 1)]), (300, [(1, 3)]), (210, [(1, 2), (2, 1)]), (500, [(3, 1), (1, 1)]), (483, [(2, 2), (1, 1)]), (518, [(3, 2), (1, 1)]), (318, [(1, 3)]), (460, [(2, 2), (1, 1)]), (330, [(1, 3)]), (498, [(2, 1), (3, 1)]), (329, [(1, 3)]), (600, [(1, 3)]), (440, [(2, 2), (1, 1)]), (515, [(2, 2), (1, 1)]), (300, [(1, 3)]), (405, [(1, 2), (2, 1)]), (535, [(3, 2), (1, 1)]), (263, [(1, 3)]), (365, [(2, 2), (1, 1)]), (600, [(1, 3)]), (680, [(1, 2), (3, 1)]), (540, [(3, 2), (2, 1)]), (300, [(1, 3)]), (355, [(1, 2), (2, 1)]), (310, [(1, 3)]), (290, [(1, 2), (2, 1)]), (300, [(1, 3)]), (420, [(2, 2), (1, 1)]), (275, [(1, 3)]), (305, [(1, 3)]), (490, [(2, 2), (1, 1)]), (498, [(2, 1), (3, 1)]), (205, [(2, 2), (1, 1)]), (425, [(2, 3)]), (660, [(1, 3)]), (185, [(1, 3)]), (315, [(1, 3)]), (525, [(3, 2), (2, 1)]), (488, [(2, 3)]), (455, [(2, 1), (3, 1)]), (490, [(2, 2), (1, 1)]), (420, [(2, 2), (1, 1)]), (495, [(3, 2), (2, 1)]), (505, [(3, 2), (2, 1)]), (510, [(1, 1), (3, 1)]), (405, [(1, 2), (2, 1)]), (570, [(1, 3)]), (307, [(2, 2), (1, 1)]), (304, [(1, 3)]), (334, [(1, 3)]), (478, [(2, 2), (3, 1)]), (505, [(3, 2), (2, 1)]), (474, [(2, 3)]), (490, [(2, 2), (1, 1)]), (210, [(1, 2), (2, 1)]), (497, [(3, 2), (2, 1)]), (530, [(3, 2), (2, 1)]), (480, [(2, 3)]), (690, [(1, 2), (3, 1)]), (330, [(1, 3)]), (500, [(3, 1), (1, 1)]), (552, [(3, 2), (2, 1)]), (411, [(2, 2), (1, 1)]), (300, [(1, 3)]), (435, [(1, 2), (3, 1)]), (495, [(3, 2), (2, 1)]), (499, [(3, 1), (1, 1)]), (323, [(1, 3)]), (515, [(2, 2), (1, 1)]), (485, [(3, 1), (2, 1)]), (385, [(1, 2), (2, 1)]), (540, [(3, 2), (2, 1)]), (410, [(2, 2), (1, 1)]), (309, [(1, 3)]), (580, [(1, 3)]), (310, [(1, 3)]), (420, [(2, 2), (1, 1)]), (525, [(3, 2), (2, 1)]), (290, [(1, 2), (2, 1)]), (540, [(3, 2), (2, 1)]), (680, [(1, 2), (3, 1)]), (405, [(1, 2), (2, 1)]), (442, [(2, 2), (1, 1)]), (262, [(1, 3)]), (198, [(1, 3)]), (580, [(1, 3)]), (540, [(3, 2), (2, 1)]), (480, [(2, 3)]), (490, [(2, 2), (1, 1)]), (523, [(3, 2), (2, 1)]), (570, [(1, 3)]), (410, [(2, 2), (1, 1)]), (405, [(1, 2), (2, 1)]), (250, [(1, 2), (2, 1)]), (195, [(1, 3)]), (302, [(1, 3)]), (294, [(1, 3)]), (461, [(2, 2), (1, 1)]), (485, [(3, 1), (2, 1)]), (205, [(2, 2), (1, 1)]), (600, [(1, 3)]), (510, [(1, 1), (3, 1)]), (510, [(1, 1), (3, 1)]), (440, [(2, 2), (1, 1)]), (525, [(3, 2), (2, 1)]), (483, [(2, 2), (1, 1)]), (242, [(1, 3)]), (480, [(2, 3)]), (390, [(2, 3)]), (680, [(1, 2), (3, 1)]), (460, [(2, 2), (1, 1)]), (490, [(2, 2), (1, 1)]), (475, [(2, 3)]), (520, [(3, 3)]), (315, [(1, 3)]), (360, [(2, 2), (1, 1)]), (483, [(2, 2), (1, 1)]), (348, [(1, 2), (2, 1)]), (570, [(1, 3)]), (475, [(2, 3)]), (550, [(3, 2), (2, 1)]), (570, [(1, 3)]), (600, [(1, 3)]), (200, [(1, 3)]), (505, [(3, 2), (2, 1)]), (330, [(1, 3)]), (535, [(3, 2), (1, 1)]), (505, [(3, 2), (2, 1)]), (494, [(3, 2), (2, 1)]), (320, [(1, 3)]), (428, [(2, 2), (1, 1)]), (490, [(2, 2), (1, 1)]), (510, [(1, 1), (3, 1)]), (305, [(1, 3)]), (508, [(2, 3)]), (405, [(1, 2), (2, 1)]), (485, [(3, 1), (2, 1)]), (425, [(2, 3)]), (490, [(2, 2), (1, 1)]), (262, [(1, 3)]), (400, [(2, 3)]), (452, [(2, 2), (1, 1)]), (600, [(1, 3)]), (348, [(1, 2), (2, 1)]), (250, [(1, 2), (2, 1)]), (316, [(1, 3)]), (528, [(1, 2), (3, 1)]), (458, [(1, 2), (2, 1)]), (580, [(1, 3)]), (320, [(1, 3)]), (384, [(1, 2), (2, 1)]), (310, [(1, 3)]), (350, [(1, 3)]), (500, [(3, 1), (1, 1)]), (420, [(2, 2), (1, 1)]), (540, [(3, 2), (2, 1)]), (305, [(1, 3)]), (475, [(2, 3)]), (680, [(1, 2), (3, 1)]), (470, [(1, 2), (2, 1)]), (295, [(1, 3)]), (440, [(2, 2), (1, 1)]), (525, [(3, 2), (2, 1)]), (245, [(1, 3)]), (440, [(2, 2), (1, 1)]), (290, [(1, 2), (2, 1)]), (395, [(2, 2), (3, 1)]), (540, [(3, 2), (2, 1)]), (265, [(1, 3)]), (270, [(1, 3)]), (240, [(1, 3)]), (410, [(2, 2), (1, 1)]), (305, [(1, 3)]), (340, [(2, 2), (1, 1)]), (390, [(2, 3)]), (300, [(1, 3)]), (405, [(1, 2), (2, 1)]), (362, [(2, 2), (1, 1)]), (405, [(1, 2), (2, 1)]), (215, [(1, 2), (2, 1)]), (224, [(1, 3)]), (340, [(2, 2), (1, 1)]), (680, [(1, 2), (3, 1)]), (415, [(3, 2), (2, 1)]), (530, [(3, 2), (2, 1)]), (580, [(1, 3)]), (500, [(3, 1), (1, 1)]), (290, [(1, 2), (2, 1)]), (600, [(1, 3)]), (325, [(1, 3)]), (570, [(1, 3)]), (490, [(2, 2), (1, 1)]), (370, [(2, 3)]), (280, [(1, 3)]), (288, [(1, 3)]), (295, [(1, 3)]), (530, [(3, 2), (2, 1)]), (369, [(2, 3)]), (310, [(1, 3)]), (420, [(2, 2), (1, 1)]), (518, [(3, 2), (1, 1)]), (266, [(1, 3)]), (355, [(1, 2), (2, 1)]), (580, [(1, 3)]), (600, [(1, 3)]), (480, [(2, 3)]), (303, [(1, 3)]), (490, [(2, 2), (1, 1)]), (360, [(2, 2), (1, 1)]), (500, [(3, 1), (1, 1)]), (310, [(1, 3)]), (371, [(2, 3)]), (255, [(1, 3)]), (410, [(2, 2), (1, 1)]), (500, [(3, 1), (1, 1)]), (460, [(2, 2), (1, 1)]), (335, [(1, 3)]), (498, [(2, 1), (3, 1)]), (370, [(2, 3)]), (455, [(2, 1), (3, 1)]), (405, [(1, 2), (2, 1)]), (405, [(1, 2), (2, 1)]), (465, [(1, 3)]), (205, [(2, 2), (1, 1)]), (330, [(1, 3)]), (535, [(3, 2), (1, 1)]), (411, [(2, 2), (1, 1)])]\n"
     ]
    }
   ],
   "source": [
    "print('True Evolution Stages \\n', label2)\n",
    "print('\\n Predicted Evolution Stages \\n', predictions)\n",
    "#print('\\n Confusion Matrix: \\n', confusion_matrix(label2,prediction))"
   ]
  },
  {
   "cell_type": "markdown",
   "id": "a8373bad-92e4-4ffd-ba61-7a93138bc258",
   "metadata": {},
   "source": [
    "# K-means Clustering"
   ]
  },
  {
   "cell_type": "code",
   "execution_count": 130,
   "id": "c8c754de-9b88-4d32-a3a3-add5b49c8dce",
   "metadata": {},
   "outputs": [
    {
     "data": {
      "text/plain": [
       "array([[ 49,  49],\n",
       "       [ 62,  63],\n",
       "       [ 82,  83],\n",
       "       ...,\n",
       "       [ 80,  80],\n",
       "       [165, 150],\n",
       "       [ 85,  80]])"
      ]
     },
     "execution_count": 130,
     "metadata": {},
     "output_type": "execute_result"
    }
   ],
   "source": [
    "kMeans_set = pokemon[['Attack', 'Defense']].values\n",
    "kMeans_set"
   ]
  },
  {
   "cell_type": "code",
   "execution_count": 434,
   "id": "79fbcaef-d41b-43ca-845a-044d1c85f0d2",
   "metadata": {},
   "outputs": [],
   "source": [
    "class KMeansClassifier:\n",
    "    \"\"\"Given some data, determines k means to be used for classification\"\"\"\n",
    "    def __init__(self):\n",
    "        self.means = []\n",
    "    \n",
    "    def train(self, data, k):\n",
    "        \"\"\"Run the k-means algorithm, stores the final means in self.means\"\"\"\n",
    "        \n",
    "        # so we can be destructive\n",
    "        copy_data = np.copy(data)\n",
    "        \n",
    "        # 1. choose k points at random from data\n",
    "        \n",
    "        # not necessary if data is all numeric\n",
    "        # copy_data = copy.deepcopy(data)\n",
    "        \n",
    "        np.random.shuffle(copy_data)\n",
    "        self.means = copy_data[:k] # grab the first k rows after a random shuff\n",
    "        \n",
    "        # 2. loop the following until self.means stops changing\n",
    "        #    - for each self.means as m, gather all rows of copy_data\n",
    "        #         for which m is the closest mean, call this group_m\n",
    "        print(f'Before Training:\\n{self.means}')        \n",
    "        count = 0\n",
    "        while count < 10: # want to add a convergence check\n",
    "            for i in range(len(self.means)):\n",
    "                group = [0,0] # set of rows in copy_data for which self.means[i] is the closest mean\n",
    "                           # aggregated group as a matrix, rows are rows of data\n",
    "                for row in copy_data:\n",
    "                    num_times = 0\n",
    "                    distances = []\n",
    "                    for j in range(len(self.means)):\n",
    "                        # calculate distance to self.means[i]\n",
    "                        distances.append(la.norm(row - self.means[j]))\n",
    "                    # if min distance is at index i, then np.vstack([ group, row ])\n",
    "                    min0 = np.array(distances)\n",
    "                    min0 = min0.argsort()\n",
    "                    if min0[0] == i:\n",
    "                        group = np.vstack([group, row])\n",
    "                \n",
    "                # get rid of first row, which is 0,0 to make vstack work\n",
    "                group = group[1:]\n",
    "                self.means[i] = np.mean(group, axis=0)\n",
    "        #    - re-assign self.means[m] = mean(group_m)\n",
    "            count += 1\n",
    "            #print(self.means) #to test\n",
    "        print(f'After Training:\\n{self.means}')\n",
    "    \n",
    "    \n",
    "    def test(self, x):\n",
    "        \"\"\"Return the mean closest to x among self.means\"\"\"\n",
    "        # find row of self.means that is the closest to x in euclidean distance\n",
    "        # return it\n",
    "        for i in range(len(self.means)):\n",
    "            distance = []\n",
    "            for j in range(len(self.means)):\n",
    "                # calculate distance to self.means[i]\n",
    "                distance.append(la.norm(x - self.means[j]))\n",
    "            # if min distance is at index i, then np.vstack([ group, row ])\n",
    "            min0 = np.array(distance)\n",
    "            min0 = min0.argsort()\n",
    "            if min0[0] == i:\n",
    "                return min0[0]\n",
    "        print(\"Error :(\")\n",
    "        return -1"
   ]
  },
  {
   "cell_type": "code",
   "execution_count": 435,
   "id": "bfe6169b-236a-4be3-9d2e-96925bedc86e",
   "metadata": {},
   "outputs": [
    {
     "name": "stdout",
     "output_type": "stream",
     "text": [
      "Before Training:\n",
      "[[ 54  54]\n",
      " [155 109]\n",
      " [130 120]]\n",
      "After Training:\n",
      "[[ 58  56]\n",
      " [115  77]\n",
      " [ 91 119]]\n"
     ]
    }
   ],
   "source": [
    "means = KMeansClassifier()\n",
    "means.train(kMeans_set, 3)"
   ]
  },
  {
   "cell_type": "code",
   "execution_count": 438,
   "id": "b413269c-515c-4638-9886-45a8876f769f",
   "metadata": {},
   "outputs": [
    {
     "data": {
      "text/plain": [
       "2"
      ]
     },
     "execution_count": 438,
     "metadata": {},
     "output_type": "execute_result"
    }
   ],
   "source": [
    "means.test([100,100])"
   ]
  },
  {
   "cell_type": "code",
   "execution_count": 207,
   "id": "21dc0aad-62a9-40a0-becc-6c87986d002c",
   "metadata": {},
   "outputs": [],
   "source": [
    "k = 3 \n",
    "clusters = {}\n",
    "\n",
    "for i in range(k):\n",
    "    clusters[i] = []\n",
    "#print(clusters)\n",
    "\n",
    "centroids = {}\n",
    "for i in range(k):\n",
    "    centroids[i] = kMeans_set[i]\n",
    "#print(centroids)\n",
    "\n",
    "# ECUCLIDEAN DISTANCE\n",
    "for i in kMeans_set:\n",
    "    euc = []\n",
    "    for j in range(k):\n",
    "        euc.append(np.linalg.norm(i - centroids[j]))\n",
    "    clusters[euc.index(min(euc))].append(i)\n",
    "    \n",
    "def recalculate_clusters(kMeans_set, centroids, k):\n",
    "    # Initiate empty clusters\n",
    "    clusters = {}\n",
    "    # Set the range for value of k (number of centroids)\n",
    "    for i in range(k):\n",
    "        clusters[i] = []\n",
    "    for data in kMeans_set:\n",
    "        euc_dist = []\n",
    "        for j in range(k):\n",
    "            euc_dist.append(np.linalg.norm(data - centroids[j]))\n",
    "        # Append the cluster of data to the dictionary\n",
    "        clusters[euc_dist.index(min(euc_dist))].append(data)\n",
    "    return clusters\n",
    "\n",
    "def recalculate_centroids(centroids, clusters, k):\n",
    "\n",
    "    for i in range(k):\n",
    "        centroids[i] = np.average(clusters[i], axis=0)\n",
    "    return centroids\n",
    "\n",
    "#cent1 = centroids[0]\n",
    "#cent2 = centroids[1]\n",
    "#cent3 = centroids[2]"
   ]
  },
  {
   "cell_type": "code",
   "execution_count": null,
   "id": "3847e236-494c-454a-9380-5e5810fac071",
   "metadata": {},
   "outputs": [],
   "source": []
  }
 ],
 "metadata": {
  "kernelspec": {
   "display_name": "Python 3 (ipykernel)",
   "language": "python",
   "name": "python3"
  },
  "language_info": {
   "codemirror_mode": {
    "name": "ipython",
    "version": 3
   },
   "file_extension": ".py",
   "mimetype": "text/x-python",
   "name": "python",
   "nbconvert_exporter": "python",
   "pygments_lexer": "ipython3",
   "version": "3.8.8"
  }
 },
 "nbformat": 4,
 "nbformat_minor": 5
}
