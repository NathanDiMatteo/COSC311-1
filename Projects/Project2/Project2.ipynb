{
 "cells": [
  {
   "cell_type": "code",
   "execution_count": 24,
   "id": "c8a46184-c3cc-4f36-9e5f-5757dbbd9a5b",
   "metadata": {},
   "outputs": [],
   "source": [
    "#import stuff\n",
    "import pandas as pd\n",
    "import numpy as np\n",
    "import seaborn as s\n",
    "from matplotlib import pyplot as plt\n",
    "import lib as l\n",
    "import copy\n",
    "import tqdm"
   ]
  },
  {
   "cell_type": "code",
   "execution_count": 26,
   "id": "7637373f-9719-41bb-bf70-82cf3b7875b5",
   "metadata": {},
   "outputs": [],
   "source": [
    "#import data\n",
    "pokemon = pd.read_csv('data/pokemon.csv', header = None, \n",
    "                     skiprows=1, encoding = 'latin-1', low_memory = False,\n",
    "                    names = ['Name', 'Version', 'Primary Type' ,'Secondary Type', 'Stage' ,'Attack', 'Defense' , 'HP', 'Sp. Attack', 'Sp. Defense', 'Speed', 'Total', 'Legendary']\n",
    ")\n",
    "noMega = pokemon[pokemon['Version'].isnull()] # for KNN alg\n",
    "\n",
    "img = plt.imread(\"logo.png\") # get the pokemon logo :)"
   ]
  },
  {
   "cell_type": "markdown",
   "id": "cff7218c-60fa-4b6b-a7b9-1bf30fadd971",
   "metadata": {},
   "source": [
    "# Question 1;\n",
    "\n",
    "This is the data set of all current pokemon as of 11/23/21. This represents a statistical outlook of the 1045 pokemon. This includes legendaries, mythical, and mega evolution variants. Their attributes are broken down into 7 numerical categories. They represents how strong the corresponding attribute of the pokemon is. So the higher the value, the stronger the attribute will be. The categories are as follows:\n",
    "\n",
    "    - HP\n",
    "    - Attack\n",
    "    - Defense\n",
    "    - Special Attack\n",
    "    - Special Defense\n",
    "    - Speed\n",
    "    - Total\n",
    "    \n",
    "These are not the actual values of the attributes. _i.e._ If I have a Lvl 100 Venusaur, I won't have 82 Attack. It is more like a scale that determines the boundaries that a pokemon's attributes are tied to. \n",
    "\n",
    "# Question 2;\n",
    "\n",
    "There are few, not so obvious **classes** that are present in this data set. One of which can be determining if a pokemon is considered _Statistically Strong_. This has a vague definition, but generally the higher the pokemon's attributes are, the better they can do in battle. For our purpose, we will define statistically strong as _having a higher total than 500, as well as having at least 3 of their 6 attributes being in the third quartile of all values._ This will hopefully eliminate any outliers or pokemon that have all their power in a few stats. **(Blissey)**\n",
    "\n",
    "Another class is whether the pokemon have a secondary type or not. There really is no correlation with the data we currently have, but if we added a column that gave us the evolution stage that a pokemon is in, (1, 2, or 3), we could define secondary types with evolution stage as a potential class. \n",
    "\n",
    "## Important Statistics & Info of the Set:\n",
    "\n",
    "1. We will be excluding ALL mega evolution forms of pokemon as well as **Eternamax** for our KNN alg because they will cause some annoying skewing.\n",
    "\n",
    "2. For our K-means clustering algorithm, we will be including all 1045 pokemon. This will prove our point later on that K-means is NOT a good algorithm to use on this data set.\n",
    "\n",
    "We will provide some basic stats about our set below:"
   ]
  },
  {
   "cell_type": "code",
   "execution_count": 15,
   "id": "e217e8c0-2fdb-4114-ba8e-f1ae67ef7865",
   "metadata": {},
   "outputs": [
    {
     "data": {
      "text/html": [
       "<div>\n",
       "<style scoped>\n",
       "    .dataframe tbody tr th:only-of-type {\n",
       "        vertical-align: middle;\n",
       "    }\n",
       "\n",
       "    .dataframe tbody tr th {\n",
       "        vertical-align: top;\n",
       "    }\n",
       "\n",
       "    .dataframe thead th {\n",
       "        text-align: right;\n",
       "    }\n",
       "</style>\n",
       "<table border=\"1\" class=\"dataframe\">\n",
       "  <thead>\n",
       "    <tr style=\"text-align: right;\">\n",
       "      <th></th>\n",
       "      <th>Stage</th>\n",
       "      <th>Attack</th>\n",
       "      <th>Defense</th>\n",
       "      <th>HP</th>\n",
       "      <th>Sp. Attack</th>\n",
       "      <th>Sp. Defense</th>\n",
       "      <th>Speed</th>\n",
       "      <th>Total</th>\n",
       "    </tr>\n",
       "  </thead>\n",
       "  <tbody>\n",
       "    <tr>\n",
       "      <th>count</th>\n",
       "      <td>870.000</td>\n",
       "      <td>870.000</td>\n",
       "      <td>870.000</td>\n",
       "      <td>870.000</td>\n",
       "      <td>870.000</td>\n",
       "      <td>870.000</td>\n",
       "      <td>870.000</td>\n",
       "      <td>870.000</td>\n",
       "    </tr>\n",
       "    <tr>\n",
       "      <th>mean</th>\n",
       "      <td>1.614</td>\n",
       "      <td>76.017</td>\n",
       "      <td>71.511</td>\n",
       "      <td>68.706</td>\n",
       "      <td>69.117</td>\n",
       "      <td>69.387</td>\n",
       "      <td>65.143</td>\n",
       "      <td>419.882</td>\n",
       "    </tr>\n",
       "    <tr>\n",
       "      <th>std</th>\n",
       "      <td>0.704</td>\n",
       "      <td>29.471</td>\n",
       "      <td>29.533</td>\n",
       "      <td>26.272</td>\n",
       "      <td>29.061</td>\n",
       "      <td>26.859</td>\n",
       "      <td>28.110</td>\n",
       "      <td>110.641</td>\n",
       "    </tr>\n",
       "    <tr>\n",
       "      <th>min</th>\n",
       "      <td>1.000</td>\n",
       "      <td>5.000</td>\n",
       "      <td>5.000</td>\n",
       "      <td>1.000</td>\n",
       "      <td>10.000</td>\n",
       "      <td>20.000</td>\n",
       "      <td>5.000</td>\n",
       "      <td>180.000</td>\n",
       "    </tr>\n",
       "    <tr>\n",
       "      <th>25%</th>\n",
       "      <td>1.000</td>\n",
       "      <td>55.000</td>\n",
       "      <td>50.000</td>\n",
       "      <td>50.000</td>\n",
       "      <td>45.000</td>\n",
       "      <td>50.000</td>\n",
       "      <td>45.000</td>\n",
       "      <td>320.000</td>\n",
       "    </tr>\n",
       "    <tr>\n",
       "      <th>50%</th>\n",
       "      <td>1.000</td>\n",
       "      <td>75.000</td>\n",
       "      <td>67.000</td>\n",
       "      <td>65.000</td>\n",
       "      <td>65.000</td>\n",
       "      <td>65.000</td>\n",
       "      <td>64.000</td>\n",
       "      <td>430.000</td>\n",
       "    </tr>\n",
       "    <tr>\n",
       "      <th>75%</th>\n",
       "      <td>2.000</td>\n",
       "      <td>95.000</td>\n",
       "      <td>90.000</td>\n",
       "      <td>80.000</td>\n",
       "      <td>90.000</td>\n",
       "      <td>85.000</td>\n",
       "      <td>85.000</td>\n",
       "      <td>500.000</td>\n",
       "    </tr>\n",
       "    <tr>\n",
       "      <th>max</th>\n",
       "      <td>3.000</td>\n",
       "      <td>181.000</td>\n",
       "      <td>230.000</td>\n",
       "      <td>255.000</td>\n",
       "      <td>173.000</td>\n",
       "      <td>230.000</td>\n",
       "      <td>200.000</td>\n",
       "      <td>720.000</td>\n",
       "    </tr>\n",
       "  </tbody>\n",
       "</table>\n",
       "</div>"
      ],
      "text/plain": [
       "         Stage   Attack  Defense       HP  Sp. Attack  Sp. Defense    Speed  \\\n",
       "count  870.000  870.000  870.000  870.000     870.000      870.000  870.000   \n",
       "mean     1.614   76.017   71.511   68.706      69.117       69.387   65.143   \n",
       "std      0.704   29.471   29.533   26.272      29.061       26.859   28.110   \n",
       "min      1.000    5.000    5.000    1.000      10.000       20.000    5.000   \n",
       "25%      1.000   55.000   50.000   50.000      45.000       50.000   45.000   \n",
       "50%      1.000   75.000   67.000   65.000      65.000       65.000   64.000   \n",
       "75%      2.000   95.000   90.000   80.000      90.000       85.000   85.000   \n",
       "max      3.000  181.000  230.000  255.000     173.000      230.000  200.000   \n",
       "\n",
       "         Total  \n",
       "count  870.000  \n",
       "mean   419.882  \n",
       "std    110.641  \n",
       "min    180.000  \n",
       "25%    320.000  \n",
       "50%    430.000  \n",
       "75%    500.000  \n",
       "max    720.000  "
      ]
     },
     "execution_count": 15,
     "metadata": {},
     "output_type": "execute_result"
    }
   ],
   "source": [
    "stats = noMega.describe().round(3)\n",
    "stats"
   ]
  },
  {
   "cell_type": "code",
   "execution_count": 16,
   "id": "eda25dc6-a0a3-4053-8eb9-878930e505d9",
   "metadata": {},
   "outputs": [
    {
     "data": {
      "text/plain": [
       "<matplotlib.image.AxesImage at 0x7fbfe03c2e50>"
      ]
     },
     "execution_count": 16,
     "metadata": {},
     "output_type": "execute_result"
    },
    {
     "data": {
      "image/png": "[encoded data removed]",
      "text/plain": [
       "<Figure size 432x288 with 1 Axes>"
      ]
     },
     "metadata": {
      "needs_background": "light"
     },
     "output_type": "display_data"
    }
   ],
   "source": [
    "#distribution of total values (no mega or eternamax)\n",
    "noMega['Total'].hist(color = 'red', ec = 'black', grid = False, bins = 7)\n",
    "plt.title(\"Distribution of Total Pokemon Stats\")\n",
    "plt.xlabel(\"Total Values\")\n",
    "plt.ylabel(\"Count\")\n",
    "plt.imshow(img, extent = [150, 800, 0, 300])"
   ]
  },
  {
   "cell_type": "markdown",
   "id": "fef188f6-1fd9-447c-9f55-3bdd8d7a03fc",
   "metadata": {},
   "source": [
    "# K-nearest Neighbors Algorithm"
   ]
  },
  {
   "cell_type": "code",
   "execution_count": 41,
   "id": "88630db3-345e-4810-b6ae-9b1baefade0d",
   "metadata": {},
   "outputs": [
    {
     "data": {
      "image/png": "[encoded data removed]",
      "text/plain": [
       "<Figure size 576x576 with 1 Axes>"
      ]
     },
     "metadata": {
      "needs_background": "light"
     },
     "output_type": "display_data"
    }
   ],
   "source": [
    "# SPLIT INTO OUR THREE STAGES \n",
    "stage_one = noMega[noMega['Stage'] == 1]\n",
    "stage_two = noMega[noMega['Stage'] == 2]\n",
    "stage_three = noMega[noMega['Stage'] == 3]\n",
    "\n",
    "#PLOTTING\n",
    "plt.scatter(x = stage_one['HP'], y = stage_one['Total'], color = 'g')\n",
    "plt.scatter(x = stage_two['HP'], y = stage_two['Total'], color = 'b')\n",
    "plt.scatter(x = stage_three['HP'], y = stage_three['Total'], color = 'r')\n",
    "plt.scatter(x = random_pokemon[0], y = random_pokemon[1], color = 'black')\n",
    "plt.title(\"Evolution Stages Based on HP & Total\")\n",
    "plt.xlabel(\"HP\")\n",
    "plt.ylabel(\"Total\")\n",
    "plt.gca().set_facecolor('pink')\n",
    "plt.gcf().set_size_inches(8,8)"
   ]
  },
  {
   "cell_type": "code",
   "execution_count": 55,
   "id": "c54da70a-ed22-4246-aa3e-b10ac4485dd2",
   "metadata": {},
   "outputs": [
    {
     "name": "stdout",
     "output_type": "stream",
     "text": [
      "The predicted stage of [255, 480] is ~> Stage 2\n",
      "The predicted stage of [150, 600] is ~> Stage 1\n",
      "The predicted stage of [50, 300] is ~> Stage 1\n",
      "=======================================================\n"
     ]
    }
   ],
   "source": [
    "#Predicting what stage a pokemon is based off of HP and Total\n",
    "knn = l.KNN(3)\n",
    "\n",
    "knn_set = noMega[['HP', 'Total']].to_numpy()\n",
    "labels = noMega['Stage'].values \n",
    "\n",
    "knn.train(knn_set, labels)\n",
    "\n",
    "#test one\n",
    "random_pokemon = [255,480]\n",
    "pred = knn.predict(random_pokemon)\n",
    "\n",
    "print(f'The predicted stage of {random_pokemon} is ~> Stage {pred.most_common(1)[0][0]}')\n",
    "\n",
    "#test two\n",
    "random_pokemon = [150,600]\n",
    "pred = knn.predict(random_pokemon)\n",
    "\n",
    "print(f'The predicted stage of {random_pokemon} is ~> Stage {pred.most_common(1)[0][0]}')\n",
    "\n",
    "#test three\n",
    "random_pokemon = [50,300]\n",
    "pred = knn.predict(random_pokemon)\n",
    "\n",
    "print(f'The predicted stage of {random_pokemon} is ~> Stage {pred.most_common(1)[0][0]}')\n",
    "print(\"=======================================================\")"
   ]
  },
  {
   "cell_type": "markdown",
   "id": "f5817ba8-b698-4191-8953-c78e3f75cad8",
   "metadata": {},
   "source": [
    "## Issues with this Algorithm\n",
    "The problem lies with the **legendary** pokemon.\n",
    "\n",
    "Majority of them don't have an evolution path, so they are all considered stage 1. Therefore, it severely skews the data. Thus being difficult to predict pokemon with higher stats.\n",
    "\n",
    "Below we can see the means for each stage."
   ]
  },
  {
   "cell_type": "code",
   "execution_count": 29,
   "id": "89186eca-3f97-4053-8cc4-f2170b269b89",
   "metadata": {},
   "outputs": [
    {
     "name": "stdout",
     "output_type": "stream",
     "text": [
      "377.36160714285717\n",
      "446.9516129032258\n",
      "515.0357142857143\n"
     ]
    }
   ],
   "source": [
    "new = noMega[['Total' , 'Stage']]\n",
    "\n",
    "one = new[new['Stage'] == 1]\n",
    "two = new[new['Stage'] == 2]\n",
    "three = new[new['Stage'] == 3]\n",
    "\n",
    "print(one['Total'].mean())\n",
    "print(two['Total'].mean())\n",
    "print(three['Total'].mean())"
   ]
  },
  {
   "cell_type": "markdown",
   "id": "544fd30f-ad81-4bb9-973b-e04bab9cae5c",
   "metadata": {},
   "source": [
    "Note that **Stage 1** has a fairly high total mean considering they are the *weak* pokemon. The legendaries very much skew the set to have a larger mean than intended. $ \\\\ $"
   ]
  },
  {
   "cell_type": "code",
   "execution_count": 30,
   "id": "f2df70a8-56fb-4bfa-85a2-6950f9bb7991",
   "metadata": {},
   "outputs": [
    {
     "name": "stdout",
     "output_type": "stream",
     "text": [
      "\n",
      " Total Stats (data1): \n",
      " [490, 490, 330, 278, 275, 242, 200, 260, 273, 314, 335, 580, 405, 270, 535, 309, 290, 290, 240, 475, 303, 295, 540, 510, 500, 473, 680, 310, 330, 525, 395, 428, 497, 500, 525, 535, 329, 280, 510, 250, 320, 465, 410, 420, 315, 555, 270, 515, 410, 200, 490, 680, 245, 418, 500, 280, 300, 245, 580, 405, 335, 500, 290, 385, 330, 309, 505, 482, 245, 474, 500, 485, 200, 330, 580, 550, 210, 520, 480, 528, 475, 390, 483, 490, 380, 490, 370, 455, 495, 288, 316, 292, 355, 494, 340, 517, 520, 405, 430, 340, 600, 499, 455, 323, 294, 370, 280, 600, 400, 525, 375, 567, 325, 415, 500, 680, 483, 300, 455, 280, 300, 285, 490, 600, 530, 325, 680, 435, 475, 500, 309, 528, 490, 580, 510, 310, 355, 350, 498, 468, 320, 405, 545, 315, 310, 310, 570, 500, 440, 308, 360, 485, 500, 363, 270, 194, 530, 420, 265, 345, 395, 474, 460, 464, 340, 600, 405, 250, 330, 534, 435, 380, 525, 530, 390, 485, 420, 390, 500, 488, 355, 355, 495, 300, 540, 345, 310, 680, 505, 534, 475, 600, 410, 500, 325, 485, 580, 448, 300, 470, 306, 505, 525, 600, 520, 430, 275, 320, 465, 484, 266, 405, 480, 515, 300, 195, 680, 455, 474, 405, 720, 330, 295, 485, 530, 314, 335, 490, 220, 205, 420, 570, 500, 285, 600, 395, 450, 465, 505, 413, 345, 475, 400, 250, 385, 485, 318, 670, 535, 430, 307, 371, 410, 313, 580, 580, 308, 530, 370, 470, 320, 500, 570, 265, 365, 300, 670, 330, 325, 300, 495, 210, 520, 365, 690, 600, 489, 377, 420, 210, 435, 340, 325, 425, 570, 400, 390, 250, 440, 485, 265, 530, 455, 500, 530, 240, 410, 540, 180, 535, 205, 495, 460, 580, 480, 330, 500, 660, 350, 670, 455, 435, 349, 405, 479, 360, 405, 310, 230, 295, 409, 300, 360, 480, 323, 288, 329, 480, 495, 335, 476, 330, 580, 523, 264, 425, 350, 455, 505, 480, 351, 330, 305, 410, 480, 390, 210, 465, 320, 510, 411, 490, 425, 525, 303, 525, 483, 515, 325, 535, 450, 530, 505, 288, 540, 600, 320, 515, 600, 495, 600, 325, 495, 534, 420, 495, 500, 430, 269, 385, 475, 405, 680, 600, 472, 245, 525, 431, 290, 340, 490, 330, 580, 341, 510, 472, 534, 420, 430, 405, 510, 340, 423, 340, 308, 495, 318, 281, 460, 289, 467, 320, 500, 413, 495, 420, 420, 495, 315, 470, 485, 454, 365, 280, 270, 455, 460, 530, 305, 510, 600, 530, 405, 304, 330, 320, 325, 405, 275, 580, 265, 480, 310, 580, 195, 600, 370, 525, 262, 250, 405, 440, 505, 478, 498, 570, 348, 490, 285, 490, 413, 290, 455, 442, 314, 487, 300, 410, 360, 390, 295, 362, 460, 395, 308, 460, 570, 460, 465, 570, 515, 510, 505, 570, 520, 500, 535, 460, 275, 405, 310, 360, 490, 440, 237, 294, 460, 540, 535, 320, 405, 485, 300, 485, 580, 484, 300, 300, 251, 480, 320, 300, 455, 505, 280, 336, 495, 500, 500, 535, 465, 420]\n",
      "\n",
      " Evolution Stage (Label1):\n",
      " [2, 3, 1, 1, 1, 1, 1, 1, 1, 1, 1, 1, 2, 1, 1, 1, 1, 1, 1, 2, 1, 1, 3, 1, 2, 2, 1, 1, 1, 2, 1, 1, 2, 2, 3, 2, 1, 1, 2, 1, 1, 1, 2, 3, 1, 2, 1, 2, 2, 1, 1, 1, 1, 3, 2, 1, 1, 1, 1, 2, 1, 2, 1, 1, 1, 1, 3, 2, 1, 2, 2, 1, 1, 1, 1, 2, 1, 3, 2, 1, 2, 2, 2, 2, 1, 1, 2, 2, 3, 1, 1, 1, 1, 2, 1, 1, 3, 1, 2, 2, 1, 3, 2, 2, 1, 2, 1, 1, 2, 2, 1, 2, 1, 2, 1, 1, 2, 1, 1, 1, 1, 1, 1, 1, 3, 1, 1, 1, 2, 1, 1, 1, 2, 1, 3, 1, 2, 1, 2, 2, 1, 2, 3, 1, 1, 1, 1, 2, 1, 2, 2, 2, 2, 2, 1, 1, 2, 2, 1, 1, 3, 2, 2, 2, 1, 1, 1, 1, 1, 3, 1, 1, 1, 3, 2, 1, 2, 2, 1, 2, 1, 1, 2, 1, 2, 1, 1, 1, 2, 3, 1, 1, 2, 2, 2, 3, 1, 2, 1, 2, 1, 1, 2, 1, 3, 1, 1, 1, 2, 1, 1, 2, 1, 3, 1, 1, 3, 2, 2, 2, 1, 1, 1, 2, 3, 1, 1, 3, 1, 1, 2, 1, 2, 1, 1, 3, 2, 1, 1, 3, 1, 1, 2, 1, 3, 3, 1, 3, 3, 1, 1, 2, 1, 1, 1, 1, 2, 2, 1, 2, 2, 2, 1, 1, 2, 1, 1, 1, 1, 1, 2, 1, 3, 2, 1, 3, 2, 1, 2, 1, 3, 1, 1, 2, 1, 2, 1, 1, 2, 1, 1, 3, 2, 3, 3, 1, 1, 3, 1, 3, 2, 2, 1, 1, 2, 1, 2, 1, 1, 1, 2, 1, 2, 2, 3, 1, 2, 1, 1, 1, 2, 1, 1, 2, 1, 1, 1, 2, 2, 1, 1, 1, 1, 3, 1, 2, 1, 3, 1, 2, 2, 1, 1, 2, 2, 2, 1, 2, 1, 2, 1, 2, 2, 2, 1, 2, 2, 2, 1, 3, 2, 3, 3, 1, 3, 1, 1, 2, 3, 1, 1, 1, 2, 3, 2, 3, 1, 1, 1, 2, 2, 2, 3, 3, 1, 1, 3, 1, 1, 2, 2, 1, 1, 1, 3, 2, 1, 1, 2, 1, 2, 1, 2, 2, 2, 2, 1, 1, 1, 1, 2, 1, 2, 2, 2, 2, 2, 2, 1, 1, 2, 1, 1, 1, 1, 2, 2, 3, 1, 3, 3, 3, 2, 1, 1, 1, 1, 2, 1, 1, 1, 3, 1, 1, 1, 1, 2, 2, 1, 2, 1, 2, 2, 2, 2, 1, 1, 3, 1, 3, 3, 1, 2, 2, 1, 2, 1, 2, 1, 2, 1, 1, 2, 3, 1, 2, 1, 2, 1, 1, 2, 2, 1, 1, 3, 3, 1, 2, 1, 2, 1, 2, 2, 2, 1, 1, 1, 2, 3, 1, 2, 3, 1, 3, 1, 1, 1, 1, 1, 1, 1, 1, 2, 1, 1, 1, 2, 2, 3, 3, 1, 2]\n",
      "\n",
      " Total Stats (data2): \n",
      " [525, 450, 525, 320, 300, 315, 420, 305, 330, 485, 600, 382, 328, 485, 350, 480, 540, 305, 405, 514, 265, 401, 410, 458, 490, 348, 680, 385, 525, 474, 570, 300, 495, 510, 365, 488, 480, 360, 305, 355, 335, 350, 500, 485, 300, 464, 440, 300, 460, 237, 330, 570, 515, 445, 471, 350, 410, 450, 253, 600, 456, 525, 461, 508, 405, 508, 420, 530, 470, 369, 435, 244, 370, 446, 454, 440, 470, 411, 490, 531, 341, 570, 507, 458, 213, 580, 535, 540, 470, 475, 250, 180, 481, 490, 525, 330, 308, 410, 490, 518, 318, 600, 468, 305, 510, 305, 465, 250, 358, 220, 490, 316, 305, 525, 510, 505, 525, 205, 269, 250, 405, 310, 405, 500, 305, 236, 475, 384, 305, 280, 680, 270, 570, 490, 530, 305, 450, 280, 505, 420, 525, 519, 580, 440, 570, 540, 498, 485, 400, 600, 302, 309, 245, 390, 440, 255, 480, 552, 299, 530, 355, 303, 300, 205, 462, 515, 270, 420, 600, 405, 395, 320, 420, 288, 410, 570, 385, 198, 500, 450, 245, 310, 328, 483, 600, 262, 540, 495, 370, 405, 495, 470, 405, 424, 295, 520, 521, 220, 420, 580, 253, 290, 292, 430, 430, 405, 460, 284, 215, 452, 515, 300, 305, 380, 680, 452, 490, 490, 500, 330, 452, 319, 205, 385, 418, 600, 305, 480, 290, 362, 275, 505, 310, 509, 518, 290, 470, 680, 460, 200, 480, 600, 454, 395, 510, 495, 455, 355, 485, 448, 505, 335, 278, 440, 670, 580, 494, 490, 500, 260, 314, 310, 300, 280, 530, 250, 485, 455, 195, 480, 680, 400, 521, 365, 320, 270, 580, 535, 580, 275, 600, 300, 485, 495, 480, 483, 420, 415, 190, 528, 470, 600, 400, 260, 425, 485, 490, 530, 479, 220, 350, 475, 304, 405, 340, 348, 410, 534, 240, 515, 305, 260, 507, 218, 500, 530, 325, 316, 530, 600, 450, 490, 338, 500, 482, 334, 310, 530, 263, 224, 400, 305, 510, 485, 510, 600, 340, 384, 185, 500, 405, 498, 295, 600, 600, 285, 510, 310]\n",
      "\n",
      " Evolution Stage (Label2):\n",
      " [3, 2, 2, 1, 1, 1, 2, 1, 1, 2, 3, 2, 1, 1, 1, 2, 2, 1, 2, 2, 1, 1, 2, 1, 3, 1, 1, 1, 2, 2, 1, 1, 2, 3, 2, 3, 3, 1, 1, 1, 1, 1, 3, 3, 1, 2, 1, 1, 2, 1, 1, 1, 1, 1, 1, 1, 2, 2, 1, 3, 2, 2, 1, 2, 2, 2, 1, 3, 1, 1, 1, 1, 2, 2, 2, 2, 2, 3, 3, 2, 1, 1, 2, 1, 2, 1, 3, 2, 1, 2, 1, 1, 2, 2, 2, 1, 1, 2, 1, 3, 1, 2, 2, 1, 2, 1, 1, 1, 2, 1, 1, 1, 1, 2, 2, 3, 2, 2, 1, 1, 2, 1, 2, 2, 1, 2, 2, 2, 1, 1, 1, 1, 1, 2, 3, 1, 2, 1, 3, 2, 3, 3, 1, 2, 2, 3, 2, 1, 2, 1, 1, 1, 1, 1, 1, 2, 2, 3, 1, 3, 1, 1, 1, 2, 2, 3, 2, 2, 1, 2, 2, 1, 2, 1, 1, 1, 1, 1, 2, 2, 1, 1, 1, 3, 1, 1, 3, 2, 2, 2, 2, 2, 2, 2, 1, 2, 2, 1, 2, 1, 1, 2, 1, 2, 1, 2, 3, 1, 1, 2, 2, 1, 1, 2, 1, 2, 1, 2, 2, 1, 2, 1, 2, 1, 2, 1, 1, 2, 1, 1, 1, 2, 1, 3, 3, 1, 1, 1, 2, 1, 2, 1, 2, 2, 2, 2, 2, 1, 2, 2, 3, 2, 2, 2, 1, 1, 2, 2, 1, 1, 1, 1, 1, 1, 3, 1, 1, 2, 1, 2, 1, 2, 2, 2, 1, 1, 1, 3, 1, 1, 3, 1, 2, 2, 2, 2, 3, 1, 1, 1, 1, 1, 1, 1, 2, 2, 2, 3, 2, 1, 1, 2, 1, 2, 2, 1, 2, 3, 1, 3, 1, 1, 2, 1, 1, 3, 1, 1, 3, 3, 2, 1, 1, 3, 2, 1, 1, 3, 1, 1, 2, 1, 2, 2, 3, 1, 2, 2, 1, 3, 2, 2, 1, 3, 1, 1, 3, 1]\n"
     ]
    }
   ],
   "source": [
    "def divideSets(p,data):\n",
    "    copydata = copy.deepcopy(data)\n",
    "    np.random.shuffle(copydata)\n",
    "    list1 = copydata[:int(p*len(copydata))]\n",
    "    list2 = copydata[int(p*len(copydata)):]\n",
    "    return (list1,list2)\n",
    "\n",
    "\n",
    "stages = noMega[['Total', 'Stage']].to_numpy()\n",
    "\n",
    "p = 0.6\n",
    "n = len(noMega['Total'])\n",
    "rets = divideSets(p, stages)\n",
    "list1 = rets[0]\n",
    "list2 = rets[1]\n",
    "\n",
    "data1 = [t[0] for t in list1]\n",
    "print('\\n Total Stats (data1): \\n', data1)\n",
    "label1 = [t[1] for t in list1]\n",
    "print('\\n Evolution Stage (Label1):\\n', label1)\n",
    "\n",
    "data2 = [t[0] for t in list2]\n",
    "print('\\n Total Stats (data2): \\n', data2)\n",
    "label2 = [t[1] for t in list2]\n",
    "print('\\n Evolution Stage (Label2):\\n', label2)\n"
   ]
  },
  {
   "cell_type": "code",
   "execution_count": 32,
   "id": "f57bf6e5-1d94-45ca-a77a-4884cd6eae7b",
   "metadata": {},
   "outputs": [
    {
     "name": "stdout",
     "output_type": "stream",
     "text": [
      "[(525, [(2, 2), (3, 1)]), (450, [(2, 3)]), (525, [(2, 2), (3, 1)]), (320, [(1, 3)]), (300, [(1, 3)]), (315, [(1, 3)]), (420, [(2, 2), (3, 1)]), (305, [(1, 3)]), (330, [(1, 3)]), (485, [(1, 2), (2, 1)]), (600, [(1, 3)]), (382, [(1, 3)]), (328, [(1, 3)]), (485, [(1, 2), (2, 1)]), (350, [(1, 3)]), (480, [(2, 2), (1, 1)]), (540, [(3, 2), (2, 1)]), (305, [(1, 3)]), (405, [(2, 2), (1, 1)]), (514, [(2, 2), (3, 1)]), (265, [(1, 3)]), (401, [(2, 3)]), (410, [(2, 3)]), (458, [(1, 2), (2, 1)]), (490, [(2, 1), (3, 1)]), (348, [(1, 2), (2, 1)]), (680, [(1, 3)]), (385, [(1, 1), (3, 1)]), (525, [(2, 2), (3, 1)]), (474, [(2, 3)]), (570, [(1, 3)]), (300, [(1, 3)]), (495, [(2, 2), (3, 1)]), (510, [(1, 1), (2, 1)]), (365, [(2, 2), (1, 1)]), (488, [(2, 3)]), (480, [(2, 2), (1, 1)]), (360, [(1, 2), (2, 1)]), (305, [(1, 3)]), (355, [(1, 2), (2, 1)]), (335, [(1, 3)]), (350, [(1, 3)]), (500, [(2, 3)]), (485, [(1, 2), (2, 1)]), (300, [(1, 3)]), (464, [(2, 2), (1, 1)]), (440, [(2, 2), (1, 1)]), (300, [(1, 3)]), (460, [(1, 2), (2, 1)]), (237, [(1, 3)]), (330, [(1, 3)]), (570, [(1, 3)]), (515, [(2, 2), (3, 1)]), (445, [(2, 2), (1, 1)]), (471, [(2, 2), (1, 1)]), (350, [(1, 3)]), (410, [(2, 3)]), (450, [(2, 3)]), (253, [(1, 3)]), (600, [(1, 3)]), (456, [(2, 2), (1, 1)]), (525, [(2, 2), (3, 1)]), (461, [(1, 2), (2, 1)]), (508, [(1, 1), (2, 1)]), (405, [(2, 2), (1, 1)]), (508, [(1, 1), (2, 1)]), (420, [(2, 2), (3, 1)]), (530, [(3, 2), (2, 1)]), (470, [(2, 2), (1, 1)]), (369, [(2, 2), (1, 1)]), (435, [(1, 2), (3, 1)]), (244, [(1, 3)]), (370, [(2, 2), (1, 1)]), (446, [(2, 3)]), (454, [(2, 2), (1, 1)]), (440, [(2, 2), (1, 1)]), (470, [(2, 2), (1, 1)]), (411, [(2, 2), (1, 1)]), (490, [(2, 1), (3, 1)]), (531, [(3, 2), (2, 1)]), (341, [(1, 2), (2, 1)]), (570, [(1, 3)]), (507, [(3, 1), (2, 1)]), (458, [(1, 2), (2, 1)]), (213, [(1, 3)]), (580, [(1, 3)]), (535, [(1, 1), (2, 1)]), (540, [(3, 2), (2, 1)]), (470, [(2, 2), (1, 1)]), (475, [(2, 3)]), (250, [(1, 3)]), (180, [(1, 3)]), (481, [(2, 2), (1, 1)]), (490, [(2, 1), (3, 1)]), (525, [(2, 2), (3, 1)]), (330, [(1, 3)]), (308, [(2, 3)]), (410, [(2, 3)]), (490, [(2, 1), (3, 1)]), (518, [(3, 2), (1, 1)]), (318, [(1, 3)]), (600, [(1, 3)]), (468, [(2, 3)]), (305, [(1, 3)]), (510, [(1, 1), (2, 1)]), (305, [(1, 3)]), (465, [(1, 2), (2, 1)]), (250, [(1, 3)]), (358, [(1, 2), (2, 1)]), (220, [(1, 3)]), (490, [(2, 1), (3, 1)]), (316, [(1, 3)]), (305, [(1, 3)]), (525, [(2, 2), (3, 1)]), (510, [(1, 1), (2, 1)]), (505, [(3, 1), (2, 1)]), (525, [(2, 2), (3, 1)]), (205, [(1, 2), (2, 1)]), (269, [(1, 3)]), (250, [(1, 3)]), (405, [(2, 2), (1, 1)]), (310, [(1, 3)]), (405, [(2, 2), (1, 1)]), (500, [(2, 3)]), (305, [(1, 3)]), (236, [(1, 3)]), (475, [(2, 3)]), (384, [(1, 1), (3, 1)]), (305, [(1, 3)]), (280, [(1, 3)]), (680, [(1, 3)]), (270, [(1, 3)]), (570, [(1, 3)]), (490, [(2, 1), (3, 1)]), (530, [(3, 2), (2, 1)]), (305, [(1, 3)]), (450, [(2, 3)]), (280, [(1, 3)]), (505, [(3, 1), (2, 1)]), (420, [(2, 2), (3, 1)]), (525, [(2, 2), (3, 1)]), (519, [(3, 3)]), (580, [(1, 3)]), (440, [(2, 2), (1, 1)]), (570, [(1, 3)]), (540, [(3, 2), (2, 1)]), (498, [(2, 3)]), (485, [(1, 2), (2, 1)]), (400, [(2, 3)]), (600, [(1, 3)]), (302, [(1, 3)]), (309, [(1, 3)]), (245, [(1, 3)]), (390, [(2, 3)]), (440, [(2, 2), (1, 1)]), (255, [(1, 3)]), (480, [(2, 2), (1, 1)]), (552, [(2, 2), (3, 1)]), (299, [(1, 3)]), (530, [(3, 2), (2, 1)]), (355, [(1, 2), (2, 1)]), (303, [(1, 3)]), (300, [(1, 3)]), (205, [(1, 2), (2, 1)]), (462, [(2, 2), (1, 1)]), (515, [(2, 2), (3, 1)]), (270, [(1, 3)]), (420, [(2, 2), (3, 1)]), (600, [(1, 3)]), (405, [(2, 2), (1, 1)]), (395, [(3, 2), (1, 1)]), (320, [(1, 3)]), (420, [(2, 2), (3, 1)]), (288, [(1, 3)]), (410, [(2, 3)]), (570, [(1, 3)]), (385, [(1, 1), (3, 1)]), (198, [(1, 3)]), (500, [(2, 3)]), (450, [(2, 3)]), (245, [(1, 3)]), (310, [(1, 3)]), (328, [(1, 3)]), (483, [(2, 3)]), (600, [(1, 3)]), (262, [(1, 3)]), (540, [(3, 2), (2, 1)]), (495, [(2, 2), (3, 1)]), (370, [(2, 2), (1, 1)]), (405, [(2, 2), (1, 1)]), (495, [(2, 2), (3, 1)]), (470, [(2, 2), (1, 1)]), (405, [(2, 2), (1, 1)]), (424, [(2, 3)]), (295, [(1, 3)]), (520, [(3, 3)]), (521, [(3, 3)]), (220, [(1, 3)]), (420, [(2, 2), (3, 1)]), (580, [(1, 3)]), (253, [(1, 3)]), (290, [(1, 3)]), (292, [(1, 3)]), (430, [(1, 2), (2, 1)]), (430, [(1, 2), (2, 1)]), (405, [(2, 2), (1, 1)]), (460, [(1, 2), (2, 1)]), (284, [(1, 3)]), (215, [(1, 3)]), (452, [(2, 2), (1, 1)]), (515, [(2, 2), (3, 1)]), (300, [(1, 3)]), (305, [(1, 3)]), (380, [(1, 3)]), (680, [(1, 3)]), (452, [(2, 2), (1, 1)]), (490, [(2, 1), (3, 1)]), (490, [(2, 1), (3, 1)]), (500, [(2, 3)]), (330, [(1, 3)]), (452, [(2, 2), (1, 1)]), (319, [(1, 3)]), (205, [(1, 2), (2, 1)]), (385, [(1, 1), (3, 1)]), (418, [(3, 2), (2, 1)]), (600, [(1, 3)]), (305, [(1, 3)]), (480, [(2, 2), (1, 1)]), (290, [(1, 3)]), (362, [(2, 2), (1, 1)]), (275, [(1, 3)]), (505, [(3, 1), (2, 1)]), (310, [(1, 3)]), (509, [(1, 1), (2, 1)]), (518, [(3, 2), (1, 1)]), (290, [(1, 3)]), (470, [(2, 2), (1, 1)]), (680, [(1, 3)]), (460, [(1, 2), (2, 1)]), (200, [(1, 3)]), (480, [(2, 2), (1, 1)]), (600, [(1, 3)]), (454, [(2, 2), (1, 1)]), (395, [(3, 2), (1, 1)]), (510, [(1, 1), (2, 1)]), (495, [(2, 2), (3, 1)]), (455, [(2, 2), (1, 1)]), (355, [(1, 2), (2, 1)]), (485, [(1, 2), (2, 1)]), (448, [(2, 3)]), (505, [(3, 1), (2, 1)]), (335, [(1, 3)]), (278, [(1, 3)]), (440, [(2, 2), (1, 1)]), (670, [(1, 2), (3, 1)]), (580, [(1, 3)]), (494, [(2, 2), (3, 1)]), (490, [(2, 1), (3, 1)]), (500, [(2, 3)]), (260, [(1, 3)]), (314, [(1, 3)]), (310, [(1, 3)]), (300, [(1, 3)]), (280, [(1, 3)]), (530, [(3, 2), (2, 1)]), (250, [(1, 3)]), (485, [(1, 2), (2, 1)]), (455, [(2, 2), (1, 1)]), (195, [(1, 3)]), (480, [(2, 2), (1, 1)]), (680, [(1, 3)]), (400, [(2, 3)]), (521, [(3, 3)]), (365, [(2, 2), (1, 1)]), (320, [(1, 3)]), (270, [(1, 3)]), (580, [(1, 3)]), (535, [(1, 1), (2, 1)]), (580, [(1, 3)]), (275, [(1, 3)]), (600, [(1, 3)]), (300, [(1, 3)]), (485, [(1, 2), (2, 1)]), (495, [(2, 2), (3, 1)]), (480, [(2, 2), (1, 1)]), (483, [(2, 3)]), (420, [(2, 2), (3, 1)]), (415, [(2, 2), (3, 1)]), (190, [(1, 3)]), (528, [(1, 2), (3, 1)]), (470, [(2, 2), (1, 1)]), (600, [(1, 3)]), (400, [(2, 3)]), (260, [(1, 3)]), (425, [(2, 3)]), (485, [(1, 2), (2, 1)]), (490, [(2, 1), (3, 1)]), (530, [(3, 2), (2, 1)]), (479, [(3, 1), (2, 1)]), (220, [(1, 3)]), (350, [(1, 3)]), (475, [(2, 3)]), (304, [(1, 3)]), (405, [(2, 2), (1, 1)]), (340, [(1, 2), (2, 1)]), (348, [(1, 2), (2, 1)]), (410, [(2, 3)]), (534, [(3, 3)]), (240, [(1, 3)]), (515, [(2, 2), (3, 1)]), (305, [(1, 3)]), (260, [(1, 3)]), (507, [(3, 1), (2, 1)]), (218, [(1, 3)]), (500, [(2, 3)]), (530, [(3, 2), (2, 1)]), (325, [(1, 2), (2, 1)]), (316, [(1, 3)]), (530, [(3, 2), (2, 1)]), (600, [(1, 3)]), (450, [(2, 3)]), (490, [(2, 1), (3, 1)]), (338, [(1, 2), (2, 1)]), (500, [(2, 3)]), (482, [(2, 3)]), (334, [(1, 3)]), (310, [(1, 3)]), (530, [(3, 2), (2, 1)]), (263, [(1, 3)]), (224, [(1, 3)]), (400, [(2, 3)]), (305, [(1, 3)]), (510, [(1, 1), (2, 1)]), (485, [(1, 2), (2, 1)]), (510, [(1, 1), (2, 1)]), (600, [(1, 3)]), (340, [(1, 2), (2, 1)]), (384, [(1, 1), (3, 1)]), (185, [(1, 3)]), (500, [(2, 3)]), (405, [(2, 2), (1, 1)]), (498, [(2, 3)]), (295, [(1, 3)]), (600, [(1, 3)]), (600, [(1, 3)]), (285, [(1, 3)]), (510, [(1, 1), (2, 1)]), (310, [(1, 3)])]\n"
     ]
    }
   ],
   "source": [
    "k = 3\n",
    "knn = l.KNN(k)\n",
    "\n",
    "knn.train(data1,label1)\n",
    "\n",
    "prediction = []\n",
    "for x in data2:\n",
    "    prediction.append(knn.predict(x))\n",
    "    \n",
    "predictions = [(data2[i], prediction[i].most_common(2)) for i in range(len(prediction))]\n",
    "print(predictions)\n"
   ]
  },
  {
   "cell_type": "code",
   "execution_count": 33,
   "id": "42feafed-8edf-4bbd-ac95-14f8353e8518",
   "metadata": {},
   "outputs": [
    {
     "name": "stdout",
     "output_type": "stream",
     "text": [
      "True Evolution Stages \n",
      " [3, 2, 2, 1, 1, 1, 2, 1, 1, 2, 3, 2, 1, 1, 1, 2, 2, 1, 2, 2, 1, 1, 2, 1, 3, 1, 1, 1, 2, 2, 1, 1, 2, 3, 2, 3, 3, 1, 1, 1, 1, 1, 3, 3, 1, 2, 1, 1, 2, 1, 1, 1, 1, 1, 1, 1, 2, 2, 1, 3, 2, 2, 1, 2, 2, 2, 1, 3, 1, 1, 1, 1, 2, 2, 2, 2, 2, 3, 3, 2, 1, 1, 2, 1, 2, 1, 3, 2, 1, 2, 1, 1, 2, 2, 2, 1, 1, 2, 1, 3, 1, 2, 2, 1, 2, 1, 1, 1, 2, 1, 1, 1, 1, 2, 2, 3, 2, 2, 1, 1, 2, 1, 2, 2, 1, 2, 2, 2, 1, 1, 1, 1, 1, 2, 3, 1, 2, 1, 3, 2, 3, 3, 1, 2, 2, 3, 2, 1, 2, 1, 1, 1, 1, 1, 1, 2, 2, 3, 1, 3, 1, 1, 1, 2, 2, 3, 2, 2, 1, 2, 2, 1, 2, 1, 1, 1, 1, 1, 2, 2, 1, 1, 1, 3, 1, 1, 3, 2, 2, 2, 2, 2, 2, 2, 1, 2, 2, 1, 2, 1, 1, 2, 1, 2, 1, 2, 3, 1, 1, 2, 2, 1, 1, 2, 1, 2, 1, 2, 2, 1, 2, 1, 2, 1, 2, 1, 1, 2, 1, 1, 1, 2, 1, 3, 3, 1, 1, 1, 2, 1, 2, 1, 2, 2, 2, 2, 2, 1, 2, 2, 3, 2, 2, 2, 1, 1, 2, 2, 1, 1, 1, 1, 1, 1, 3, 1, 1, 2, 1, 2, 1, 2, 2, 2, 1, 1, 1, 3, 1, 1, 3, 1, 2, 2, 2, 2, 3, 1, 1, 1, 1, 1, 1, 1, 2, 2, 2, 3, 2, 1, 1, 2, 1, 2, 2, 1, 2, 3, 1, 3, 1, 1, 2, 1, 1, 3, 1, 1, 3, 3, 2, 1, 1, 3, 2, 1, 1, 3, 1, 1, 2, 1, 2, 2, 3, 1, 2, 2, 1, 3, 2, 2, 1, 3, 1, 1, 3, 1]\n",
      "\n",
      " Predicted Evolution Stages \n",
      " [(525, [(2, 2), (3, 1)]), (450, [(2, 3)]), (525, [(2, 2), (3, 1)]), (320, [(1, 3)]), (300, [(1, 3)]), (315, [(1, 3)]), (420, [(2, 2), (3, 1)]), (305, [(1, 3)]), (330, [(1, 3)]), (485, [(1, 2), (2, 1)]), (600, [(1, 3)]), (382, [(1, 3)]), (328, [(1, 3)]), (485, [(1, 2), (2, 1)]), (350, [(1, 3)]), (480, [(2, 2), (1, 1)]), (540, [(3, 2), (2, 1)]), (305, [(1, 3)]), (405, [(2, 2), (1, 1)]), (514, [(2, 2), (3, 1)]), (265, [(1, 3)]), (401, [(2, 3)]), (410, [(2, 3)]), (458, [(1, 2), (2, 1)]), (490, [(2, 1), (3, 1)]), (348, [(1, 2), (2, 1)]), (680, [(1, 3)]), (385, [(1, 1), (3, 1)]), (525, [(2, 2), (3, 1)]), (474, [(2, 3)]), (570, [(1, 3)]), (300, [(1, 3)]), (495, [(2, 2), (3, 1)]), (510, [(1, 1), (2, 1)]), (365, [(2, 2), (1, 1)]), (488, [(2, 3)]), (480, [(2, 2), (1, 1)]), (360, [(1, 2), (2, 1)]), (305, [(1, 3)]), (355, [(1, 2), (2, 1)]), (335, [(1, 3)]), (350, [(1, 3)]), (500, [(2, 3)]), (485, [(1, 2), (2, 1)]), (300, [(1, 3)]), (464, [(2, 2), (1, 1)]), (440, [(2, 2), (1, 1)]), (300, [(1, 3)]), (460, [(1, 2), (2, 1)]), (237, [(1, 3)]), (330, [(1, 3)]), (570, [(1, 3)]), (515, [(2, 2), (3, 1)]), (445, [(2, 2), (1, 1)]), (471, [(2, 2), (1, 1)]), (350, [(1, 3)]), (410, [(2, 3)]), (450, [(2, 3)]), (253, [(1, 3)]), (600, [(1, 3)]), (456, [(2, 2), (1, 1)]), (525, [(2, 2), (3, 1)]), (461, [(1, 2), (2, 1)]), (508, [(1, 1), (2, 1)]), (405, [(2, 2), (1, 1)]), (508, [(1, 1), (2, 1)]), (420, [(2, 2), (3, 1)]), (530, [(3, 2), (2, 1)]), (470, [(2, 2), (1, 1)]), (369, [(2, 2), (1, 1)]), (435, [(1, 2), (3, 1)]), (244, [(1, 3)]), (370, [(2, 2), (1, 1)]), (446, [(2, 3)]), (454, [(2, 2), (1, 1)]), (440, [(2, 2), (1, 1)]), (470, [(2, 2), (1, 1)]), (411, [(2, 2), (1, 1)]), (490, [(2, 1), (3, 1)]), (531, [(3, 2), (2, 1)]), (341, [(1, 2), (2, 1)]), (570, [(1, 3)]), (507, [(3, 1), (2, 1)]), (458, [(1, 2), (2, 1)]), (213, [(1, 3)]), (580, [(1, 3)]), (535, [(1, 1), (2, 1)]), (540, [(3, 2), (2, 1)]), (470, [(2, 2), (1, 1)]), (475, [(2, 3)]), (250, [(1, 3)]), (180, [(1, 3)]), (481, [(2, 2), (1, 1)]), (490, [(2, 1), (3, 1)]), (525, [(2, 2), (3, 1)]), (330, [(1, 3)]), (308, [(2, 3)]), (410, [(2, 3)]), (490, [(2, 1), (3, 1)]), (518, [(3, 2), (1, 1)]), (318, [(1, 3)]), (600, [(1, 3)]), (468, [(2, 3)]), (305, [(1, 3)]), (510, [(1, 1), (2, 1)]), (305, [(1, 3)]), (465, [(1, 2), (2, 1)]), (250, [(1, 3)]), (358, [(1, 2), (2, 1)]), (220, [(1, 3)]), (490, [(2, 1), (3, 1)]), (316, [(1, 3)]), (305, [(1, 3)]), (525, [(2, 2), (3, 1)]), (510, [(1, 1), (2, 1)]), (505, [(3, 1), (2, 1)]), (525, [(2, 2), (3, 1)]), (205, [(1, 2), (2, 1)]), (269, [(1, 3)]), (250, [(1, 3)]), (405, [(2, 2), (1, 1)]), (310, [(1, 3)]), (405, [(2, 2), (1, 1)]), (500, [(2, 3)]), (305, [(1, 3)]), (236, [(1, 3)]), (475, [(2, 3)]), (384, [(1, 1), (3, 1)]), (305, [(1, 3)]), (280, [(1, 3)]), (680, [(1, 3)]), (270, [(1, 3)]), (570, [(1, 3)]), (490, [(2, 1), (3, 1)]), (530, [(3, 2), (2, 1)]), (305, [(1, 3)]), (450, [(2, 3)]), (280, [(1, 3)]), (505, [(3, 1), (2, 1)]), (420, [(2, 2), (3, 1)]), (525, [(2, 2), (3, 1)]), (519, [(3, 3)]), (580, [(1, 3)]), (440, [(2, 2), (1, 1)]), (570, [(1, 3)]), (540, [(3, 2), (2, 1)]), (498, [(2, 3)]), (485, [(1, 2), (2, 1)]), (400, [(2, 3)]), (600, [(1, 3)]), (302, [(1, 3)]), (309, [(1, 3)]), (245, [(1, 3)]), (390, [(2, 3)]), (440, [(2, 2), (1, 1)]), (255, [(1, 3)]), (480, [(2, 2), (1, 1)]), (552, [(2, 2), (3, 1)]), (299, [(1, 3)]), (530, [(3, 2), (2, 1)]), (355, [(1, 2), (2, 1)]), (303, [(1, 3)]), (300, [(1, 3)]), (205, [(1, 2), (2, 1)]), (462, [(2, 2), (1, 1)]), (515, [(2, 2), (3, 1)]), (270, [(1, 3)]), (420, [(2, 2), (3, 1)]), (600, [(1, 3)]), (405, [(2, 2), (1, 1)]), (395, [(3, 2), (1, 1)]), (320, [(1, 3)]), (420, [(2, 2), (3, 1)]), (288, [(1, 3)]), (410, [(2, 3)]), (570, [(1, 3)]), (385, [(1, 1), (3, 1)]), (198, [(1, 3)]), (500, [(2, 3)]), (450, [(2, 3)]), (245, [(1, 3)]), (310, [(1, 3)]), (328, [(1, 3)]), (483, [(2, 3)]), (600, [(1, 3)]), (262, [(1, 3)]), (540, [(3, 2), (2, 1)]), (495, [(2, 2), (3, 1)]), (370, [(2, 2), (1, 1)]), (405, [(2, 2), (1, 1)]), (495, [(2, 2), (3, 1)]), (470, [(2, 2), (1, 1)]), (405, [(2, 2), (1, 1)]), (424, [(2, 3)]), (295, [(1, 3)]), (520, [(3, 3)]), (521, [(3, 3)]), (220, [(1, 3)]), (420, [(2, 2), (3, 1)]), (580, [(1, 3)]), (253, [(1, 3)]), (290, [(1, 3)]), (292, [(1, 3)]), (430, [(1, 2), (2, 1)]), (430, [(1, 2), (2, 1)]), (405, [(2, 2), (1, 1)]), (460, [(1, 2), (2, 1)]), (284, [(1, 3)]), (215, [(1, 3)]), (452, [(2, 2), (1, 1)]), (515, [(2, 2), (3, 1)]), (300, [(1, 3)]), (305, [(1, 3)]), (380, [(1, 3)]), (680, [(1, 3)]), (452, [(2, 2), (1, 1)]), (490, [(2, 1), (3, 1)]), (490, [(2, 1), (3, 1)]), (500, [(2, 3)]), (330, [(1, 3)]), (452, [(2, 2), (1, 1)]), (319, [(1, 3)]), (205, [(1, 2), (2, 1)]), (385, [(1, 1), (3, 1)]), (418, [(3, 2), (2, 1)]), (600, [(1, 3)]), (305, [(1, 3)]), (480, [(2, 2), (1, 1)]), (290, [(1, 3)]), (362, [(2, 2), (1, 1)]), (275, [(1, 3)]), (505, [(3, 1), (2, 1)]), (310, [(1, 3)]), (509, [(1, 1), (2, 1)]), (518, [(3, 2), (1, 1)]), (290, [(1, 3)]), (470, [(2, 2), (1, 1)]), (680, [(1, 3)]), (460, [(1, 2), (2, 1)]), (200, [(1, 3)]), (480, [(2, 2), (1, 1)]), (600, [(1, 3)]), (454, [(2, 2), (1, 1)]), (395, [(3, 2), (1, 1)]), (510, [(1, 1), (2, 1)]), (495, [(2, 2), (3, 1)]), (455, [(2, 2), (1, 1)]), (355, [(1, 2), (2, 1)]), (485, [(1, 2), (2, 1)]), (448, [(2, 3)]), (505, [(3, 1), (2, 1)]), (335, [(1, 3)]), (278, [(1, 3)]), (440, [(2, 2), (1, 1)]), (670, [(1, 2), (3, 1)]), (580, [(1, 3)]), (494, [(2, 2), (3, 1)]), (490, [(2, 1), (3, 1)]), (500, [(2, 3)]), (260, [(1, 3)]), (314, [(1, 3)]), (310, [(1, 3)]), (300, [(1, 3)]), (280, [(1, 3)]), (530, [(3, 2), (2, 1)]), (250, [(1, 3)]), (485, [(1, 2), (2, 1)]), (455, [(2, 2), (1, 1)]), (195, [(1, 3)]), (480, [(2, 2), (1, 1)]), (680, [(1, 3)]), (400, [(2, 3)]), (521, [(3, 3)]), (365, [(2, 2), (1, 1)]), (320, [(1, 3)]), (270, [(1, 3)]), (580, [(1, 3)]), (535, [(1, 1), (2, 1)]), (580, [(1, 3)]), (275, [(1, 3)]), (600, [(1, 3)]), (300, [(1, 3)]), (485, [(1, 2), (2, 1)]), (495, [(2, 2), (3, 1)]), (480, [(2, 2), (1, 1)]), (483, [(2, 3)]), (420, [(2, 2), (3, 1)]), (415, [(2, 2), (3, 1)]), (190, [(1, 3)]), (528, [(1, 2), (3, 1)]), (470, [(2, 2), (1, 1)]), (600, [(1, 3)]), (400, [(2, 3)]), (260, [(1, 3)]), (425, [(2, 3)]), (485, [(1, 2), (2, 1)]), (490, [(2, 1), (3, 1)]), (530, [(3, 2), (2, 1)]), (479, [(3, 1), (2, 1)]), (220, [(1, 3)]), (350, [(1, 3)]), (475, [(2, 3)]), (304, [(1, 3)]), (405, [(2, 2), (1, 1)]), (340, [(1, 2), (2, 1)]), (348, [(1, 2), (2, 1)]), (410, [(2, 3)]), (534, [(3, 3)]), (240, [(1, 3)]), (515, [(2, 2), (3, 1)]), (305, [(1, 3)]), (260, [(1, 3)]), (507, [(3, 1), (2, 1)]), (218, [(1, 3)]), (500, [(2, 3)]), (530, [(3, 2), (2, 1)]), (325, [(1, 2), (2, 1)]), (316, [(1, 3)]), (530, [(3, 2), (2, 1)]), (600, [(1, 3)]), (450, [(2, 3)]), (490, [(2, 1), (3, 1)]), (338, [(1, 2), (2, 1)]), (500, [(2, 3)]), (482, [(2, 3)]), (334, [(1, 3)]), (310, [(1, 3)]), (530, [(3, 2), (2, 1)]), (263, [(1, 3)]), (224, [(1, 3)]), (400, [(2, 3)]), (305, [(1, 3)]), (510, [(1, 1), (2, 1)]), (485, [(1, 2), (2, 1)]), (510, [(1, 1), (2, 1)]), (600, [(1, 3)]), (340, [(1, 2), (2, 1)]), (384, [(1, 1), (3, 1)]), (185, [(1, 3)]), (500, [(2, 3)]), (405, [(2, 2), (1, 1)]), (498, [(2, 3)]), (295, [(1, 3)]), (600, [(1, 3)]), (600, [(1, 3)]), (285, [(1, 3)]), (510, [(1, 1), (2, 1)]), (310, [(1, 3)])]\n"
     ]
    }
   ],
   "source": [
    "print('True Evolution Stages \\n', label2)\n",
    "print('\\n Predicted Evolution Stages \\n', predictions)\n",
    "#print('\\n Confusion Matrix: \\n', confusion_matrix(label2,prediction))"
   ]
  },
  {
   "cell_type": "markdown",
   "id": "a8373bad-92e4-4ffd-ba61-7a93138bc258",
   "metadata": {},
   "source": [
    "# K-means Clustering"
   ]
  },
  {
   "cell_type": "code",
   "execution_count": 34,
   "id": "c8c754de-9b88-4d32-a3a3-add5b49c8dce",
   "metadata": {},
   "outputs": [
    {
     "data": {
      "text/plain": [
       "array([[ 49,  49],\n",
       "       [ 62,  63],\n",
       "       [ 82,  83],\n",
       "       ...,\n",
       "       [ 80,  80],\n",
       "       [165, 150],\n",
       "       [ 85,  80]])"
      ]
     },
     "execution_count": 34,
     "metadata": {},
     "output_type": "execute_result"
    }
   ],
   "source": [
    "kMeans_set = pokemon[['Attack', 'Defense']].values\n",
    "kMeans_set\n"
   ]
  },
  {
   "cell_type": "code",
   "execution_count": 36,
   "id": "21dc0aad-62a9-40a0-becc-6c87986d002c",
   "metadata": {},
   "outputs": [],
   "source": [
    "k = 3 \n",
    "clusters = {}\n",
    "\n",
    "for i in range(k):\n",
    "    clusters[i] = []\n",
    "#print(clusters)\n",
    "\n",
    "centroids = {}\n",
    "for i in range(k):\n",
    "    centroids[i] = kMeans_set[i]\n",
    "#print(centroids)\n",
    "\n",
    "# ECUCLIDEAN DISTANCE\n",
    "for i in kMeans_set:\n",
    "    euc = []\n",
    "    for j in range(k):\n",
    "        euc.append(np.linalg.norm(i - centroids[j]))\n",
    "    clusters[euc.index(min(euc))].append(i)\n",
    "    \n",
    "def recalculate_clusters(kMeans_set, centroids, k):\n",
    "    # Initiate empty clusters\n",
    "    clusters = {}\n",
    "    # Set the range for value of k (number of centroids)\n",
    "    for i in range(k):\n",
    "        clusters[i] = []\n",
    "    for data in kMeans_set:\n",
    "        euc_dist = []\n",
    "        for j in range(k):\n",
    "            euc_dist.append(np.linalg.norm(data - centroids[j]))\n",
    "        # Append the cluster of data to the dictionary\n",
    "        clusters[euc_dist.index(min(euc_dist))].append(data)\n",
    "    return clusters\n",
    "\n",
    "def recalculate_centroids(centroids, clusters, k):\n",
    "\n",
    "    for i in range(k):\n",
    "        centroids[i] = np.average(clusters[i], axis=0)\n",
    "    return centroids\n",
    "\n",
    "#cent1 = centroids[0]\n",
    "#cent2 = centroids[1]\n",
    "#cent3 = centroids[2]"
   ]
  },
  {
   "cell_type": "code",
   "execution_count": null,
   "id": "3847e236-494c-454a-9380-5e5810fac071",
   "metadata": {},
   "outputs": [],
   "source": []
  }
 ],
 "metadata": {
  "kernelspec": {
   "display_name": "Python 3 (ipykernel)",
   "language": "python",
   "name": "python3"
  },
  "language_info": {
   "codemirror_mode": {
    "name": "ipython",
    "version": 3
   },
   "file_extension": ".py",
   "mimetype": "text/x-python",
   "name": "python",
   "nbconvert_exporter": "python",
   "pygments_lexer": "ipython3",
   "version": "3.8.8"
  }
 },
 "nbformat": 4,
 "nbformat_minor": 5
}
