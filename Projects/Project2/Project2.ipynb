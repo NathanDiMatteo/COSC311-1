{
 "cells": [
  {
   "cell_type": "code",
   "execution_count": 10,
   "id": "c8a46184-c3cc-4f36-9e5f-5757dbbd9a5b",
   "metadata": {},
   "outputs": [],
   "source": [
    "#import stuff\n",
    "import pandas as p\n",
    "import numpy as n\n",
    "import seaborn as s\n",
    "from matplotlib import pyplot as plt\n",
    "import lib as l"
   ]
  },
  {
   "cell_type": "code",
   "execution_count": 60,
   "id": "7637373f-9719-41bb-bf70-82cf3b7875b5",
   "metadata": {},
   "outputs": [],
   "source": [
    "#import data\n",
    "pokemon = p.read_csv('data/pokemon.csv', header = None, \n",
    "                     skiprows=1, encoding = 'latin-1', low_memory = False,\n",
    "                    names = ['Name', 'Version', 'Primary Type' ,'Secondary Type', 'Attack', 'Defense' , 'HP', 'Sp. Attack', 'Sp. Defense', 'Speed', 'Total']\n",
    ")\n",
    "noMega = pokemon[pokemon['Version'].isnull()] # for KNN alg\n",
    "\n",
    "img = plt.imread(\"logo.png\") # get the pokemon logo :)"
   ]
  },
  {
   "cell_type": "markdown",
   "id": "cff7218c-60fa-4b6b-a7b9-1bf30fadd971",
   "metadata": {},
   "source": [
    "# Question 1;\n",
    "\n",
    "This is the data set of all current pokemon as of 11/23/21. This represents a statistical outlook of the 1045 pokemon. This includes legendaries, mythical, and mega evolution variants. Their attributes are broken down into 7 numerical categories. They represents how strong the corresponding attribute of the pokemon is. So the higher the value, the stronger the attribute will be. The categories are as follows:\n",
    "\n",
    "    - HP\n",
    "    - Attack\n",
    "    - Defense\n",
    "    - Special Attack\n",
    "    - Special Defense\n",
    "    - Speed\n",
    "    - Total\n",
    "    \n",
    "These are not the actual values of the attributes. _i.e._ If I have a Lvl 100 Venusaur, I won't have 82 Attack. It is more like a scale that determines the boundaries that a pokemon's attributes are tied to. \n",
    "\n",
    "# Question 2;\n",
    "\n",
    "There are few, not so obvious **classes** that are present in this data set. One of which can be determining if a pokemon is considered _Statistically Strong_. This has a vague definition, but generally the higher the pokemon's attributes are, the better they can do in battle. For our purpose, we will define statistically strong as _having a higher total than 500, as well as having at least 3 of their 6 attributes being in the third quartile of all values._ This will hopefully eliminate any outliers or pokemon that have all their power in a few stats. **(Blissey)**\n",
    "\n",
    "Another class is whether the pokemon have a secondary type or not. There really is no correlation with the data we currently have, but if we added a column that gave us the evolution stage that a pokemon is in, (1, 2, or 3), we could define secondary types with evolution stage as a potential class. \n",
    "\n",
    "## Important Statistics & Info of the Set:\n",
    "\n",
    "We will be excluding ALL mega evolution forms of pokemon as well as **Eternamax** for our KNN alg because they will cause some annoying skewing.\n",
    "\n",
    "We will provide some basic stats about our set below:"
   ]
  },
  {
   "cell_type": "code",
   "execution_count": 34,
   "id": "e217e8c0-2fdb-4114-ba8e-f1ae67ef7865",
   "metadata": {},
   "outputs": [
    {
     "data": {
      "text/html": [
       "<div>\n",
       "<style scoped>\n",
       "    .dataframe tbody tr th:only-of-type {\n",
       "        vertical-align: middle;\n",
       "    }\n",
       "\n",
       "    .dataframe tbody tr th {\n",
       "        vertical-align: top;\n",
       "    }\n",
       "\n",
       "    .dataframe thead th {\n",
       "        text-align: right;\n",
       "    }\n",
       "</style>\n",
       "<table border=\"1\" class=\"dataframe\">\n",
       "  <thead>\n",
       "    <tr style=\"text-align: right;\">\n",
       "      <th></th>\n",
       "      <th>Attack</th>\n",
       "      <th>Defense</th>\n",
       "      <th>HP</th>\n",
       "      <th>Sp. Attack</th>\n",
       "      <th>Sp. Defense</th>\n",
       "      <th>Speed</th>\n",
       "      <th>Total</th>\n",
       "    </tr>\n",
       "  </thead>\n",
       "  <tbody>\n",
       "    <tr>\n",
       "      <th>count</th>\n",
       "      <td>870.000000</td>\n",
       "      <td>870.000000</td>\n",
       "      <td>870.000000</td>\n",
       "      <td>870.000000</td>\n",
       "      <td>870.000000</td>\n",
       "      <td>870.000000</td>\n",
       "      <td>870.000000</td>\n",
       "    </tr>\n",
       "    <tr>\n",
       "      <th>mean</th>\n",
       "      <td>76.017241</td>\n",
       "      <td>71.511494</td>\n",
       "      <td>68.705747</td>\n",
       "      <td>69.117241</td>\n",
       "      <td>69.387356</td>\n",
       "      <td>65.142529</td>\n",
       "      <td>419.881609</td>\n",
       "    </tr>\n",
       "    <tr>\n",
       "      <th>std</th>\n",
       "      <td>29.471188</td>\n",
       "      <td>29.532790</td>\n",
       "      <td>26.272334</td>\n",
       "      <td>29.061263</td>\n",
       "      <td>26.858630</td>\n",
       "      <td>28.109893</td>\n",
       "      <td>110.641038</td>\n",
       "    </tr>\n",
       "    <tr>\n",
       "      <th>min</th>\n",
       "      <td>5.000000</td>\n",
       "      <td>5.000000</td>\n",
       "      <td>1.000000</td>\n",
       "      <td>10.000000</td>\n",
       "      <td>20.000000</td>\n",
       "      <td>5.000000</td>\n",
       "      <td>180.000000</td>\n",
       "    </tr>\n",
       "    <tr>\n",
       "      <th>25%</th>\n",
       "      <td>55.000000</td>\n",
       "      <td>50.000000</td>\n",
       "      <td>50.000000</td>\n",
       "      <td>45.000000</td>\n",
       "      <td>50.000000</td>\n",
       "      <td>45.000000</td>\n",
       "      <td>320.000000</td>\n",
       "    </tr>\n",
       "    <tr>\n",
       "      <th>50%</th>\n",
       "      <td>75.000000</td>\n",
       "      <td>67.000000</td>\n",
       "      <td>65.000000</td>\n",
       "      <td>65.000000</td>\n",
       "      <td>65.000000</td>\n",
       "      <td>64.000000</td>\n",
       "      <td>430.000000</td>\n",
       "    </tr>\n",
       "    <tr>\n",
       "      <th>75%</th>\n",
       "      <td>95.000000</td>\n",
       "      <td>90.000000</td>\n",
       "      <td>80.000000</td>\n",
       "      <td>90.000000</td>\n",
       "      <td>85.000000</td>\n",
       "      <td>85.000000</td>\n",
       "      <td>500.000000</td>\n",
       "    </tr>\n",
       "    <tr>\n",
       "      <th>max</th>\n",
       "      <td>181.000000</td>\n",
       "      <td>230.000000</td>\n",
       "      <td>255.000000</td>\n",
       "      <td>173.000000</td>\n",
       "      <td>230.000000</td>\n",
       "      <td>200.000000</td>\n",
       "      <td>720.000000</td>\n",
       "    </tr>\n",
       "  </tbody>\n",
       "</table>\n",
       "</div>"
      ],
      "text/plain": [
       "           Attack     Defense          HP  Sp. Attack  Sp. Defense  \\\n",
       "count  870.000000  870.000000  870.000000  870.000000   870.000000   \n",
       "mean    76.017241   71.511494   68.705747   69.117241    69.387356   \n",
       "std     29.471188   29.532790   26.272334   29.061263    26.858630   \n",
       "min      5.000000    5.000000    1.000000   10.000000    20.000000   \n",
       "25%     55.000000   50.000000   50.000000   45.000000    50.000000   \n",
       "50%     75.000000   67.000000   65.000000   65.000000    65.000000   \n",
       "75%     95.000000   90.000000   80.000000   90.000000    85.000000   \n",
       "max    181.000000  230.000000  255.000000  173.000000   230.000000   \n",
       "\n",
       "            Speed       Total  \n",
       "count  870.000000  870.000000  \n",
       "mean    65.142529  419.881609  \n",
       "std     28.109893  110.641038  \n",
       "min      5.000000  180.000000  \n",
       "25%     45.000000  320.000000  \n",
       "50%     64.000000  430.000000  \n",
       "75%     85.000000  500.000000  \n",
       "max    200.000000  720.000000  "
      ]
     },
     "execution_count": 34,
     "metadata": {},
     "output_type": "execute_result"
    }
   ],
   "source": [
    "stats = noMega.describe()\n",
    "stats"
   ]
  },
  {
   "cell_type": "code",
   "execution_count": 78,
   "id": "eda25dc6-a0a3-4053-8eb9-878930e505d9",
   "metadata": {},
   "outputs": [
    {
     "data": {
      "text/plain": [
       "<matplotlib.image.AxesImage at 0x7fea214c8190>"
      ]
     },
     "execution_count": 78,
     "metadata": {},
     "output_type": "execute_result"
    },
    {
     "data": {
      "image/png": "[encoded data removed]",
      "text/plain": [
       "<Figure size 432x288 with 1 Axes>"
      ]
     },
     "metadata": {
      "needs_background": "light"
     },
     "output_type": "display_data"
    }
   ],
   "source": [
    "#distribution of total values\n",
    "noMega['Total'].hist(color = 'red', ec = 'black', grid = False, bins = 7)\n",
    "plt.title(\"Distribution of Total Pokemon Stats\")\n",
    "plt.xlabel(\"Total Values\")\n",
    "plt.ylabel(\"Count\")\n",
    "plt.imshow(img, extent = [150, 800, 0, 300])"
   ]
  },
  {
   "cell_type": "markdown",
   "id": "fef188f6-1fd9-447c-9f55-3bdd8d7a03fc",
   "metadata": {},
   "source": [
    "# K-nearest Neighbors Algorithm"
   ]
  },
  {
   "cell_type": "code",
   "execution_count": null,
   "id": "c54da70a-ed22-4246-aa3e-b10ac4485dd2",
   "metadata": {},
   "outputs": [],
   "source": []
  },
  {
   "cell_type": "markdown",
   "id": "a8373bad-92e4-4ffd-ba61-7a93138bc258",
   "metadata": {},
   "source": [
    "# K-means Clustering"
   ]
  },
  {
   "cell_type": "code",
   "execution_count": null,
   "id": "f57bf6e5-1d94-45ca-a77a-4884cd6eae7b",
   "metadata": {},
   "outputs": [],
   "source": []
  }
 ],
 "metadata": {
  "kernelspec": {
   "display_name": "Python 3 (ipykernel)",
   "language": "python",
   "name": "python3"
  },
  "language_info": {
   "codemirror_mode": {
    "name": "ipython",
    "version": 3
   },
   "file_extension": ".py",
   "mimetype": "text/x-python",
   "name": "python",
   "nbconvert_exporter": "python",
   "pygments_lexer": "ipython3",
   "version": "3.8.8"
  }
 },
 "nbformat": 4,
 "nbformat_minor": 5
}
